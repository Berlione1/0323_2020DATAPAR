{
 "cells": [
  {
   "cell_type": "code",
   "execution_count": 1,
   "metadata": {},
   "outputs": [
    {
     "name": "stdout",
     "output_type": "stream",
     "text": [
      "Welcome Player1, what is your name? GG\n",
      "Nice name!! What is the name of your pokemon? GOO\n",
      "What type is your pokemon? Please choose between attacker, defenser, burster or healer: attacker\n"
     ]
    }
   ],
   "source": [
    "# Defining player1\n",
    "name_player1 = input(\"Welcome Player1, what is your name? \",)\n",
    "name_pokemon1 = input(\"Nice name!! What is the name of your pokemon? \",)\n",
    "life_pokemon1 = 100\n",
    "player1_pkm = input(\"What type is your pokemon? Please choose between attacker, defenser, burster or healer: \",)\n",
    "while player1_pkm not in (\"attacker\", \"defenser\", \"burster\", \"healer\"):\n",
    "    player1_pkm = input(\"Sorry, you must choose between attacker, defenser, burster or healer: \",)"
   ]
  },
  {
   "cell_type": "code",
   "execution_count": 2,
   "metadata": {},
   "outputs": [
    {
     "name": "stdout",
     "output_type": "stream",
     "text": [
      "There are the stats of you pokemon : attacker {'ATK': -20, 'DEF': 0, 'BURST': 0, 'HEAL': 5}\n"
     ]
    }
   ],
   "source": [
    "# Dictionary player1\n",
    "\n",
    "if player1_pkm == 'attacker':\n",
    "    player1_pkm_points = {'ATK':-20,'DEF':0,'BURST':0,'HEAL':5}\n",
    "elif player1_pkm == 'defenser':\n",
    "    player1_pkm_points = {'ATK':-15,'DEF':0,'BURST':0,'HEAL':10}\n",
    "elif player1_pkm == 'burster':\n",
    "    player1_pkm_points = {'ATK':-15,'DEF':0,'BURST':0,'HEAL':10}\n",
    "else:\n",
    "    player1_pkm_points = {'ATK':-10,'DEF':0,'BURST':0,'HEAL':15}\n",
    "    \n",
    "print('There are the stats of you pokemon :',player1_pkm, player1_pkm_points)"
   ]
  },
  {
   "cell_type": "code",
   "execution_count": 3,
   "metadata": {
    "scrolled": true
   },
   "outputs": [
    {
     "name": "stdout",
     "output_type": "stream",
     "text": [
      "Welcome Player2, what is your name? JJ\n",
      "Nice name too ! What is the name of you pokemon? POPO\n",
      "What type is your pokemon? Please choose between attacker, defenser, burster or healer healer\n"
     ]
    }
   ],
   "source": [
    "# Defining player2\n",
    "\n",
    "name_player2 = input(\"Welcome Player2, what is your name? \",)\n",
    "name_pokemon2 = input(\"Nice name too ! What is the name of you pokemon? \",)\n",
    "life_pokemon2 = 100\n",
    "player2_pkm = input(\"What type is your pokemon? Please choose between attacker, defenser, burster or healer \",)\n",
    "while player2_pkm not in (\"attacker\", \"defenser\", \"burster\", \"healer\"):\n",
    "    player2_pkm = input(\"Sorry, you must choose between attacker, defenser, burster or healer\",)"
   ]
  },
  {
   "cell_type": "code",
   "execution_count": 4,
   "metadata": {},
   "outputs": [
    {
     "name": "stdout",
     "output_type": "stream",
     "text": [
      "There are the stats of you pokemon : healer {'ATK': -10, 'DEF': 0, 'BURST': 0, 'HEAL': 15}\n"
     ]
    }
   ],
   "source": [
    "# Dictionnary player2\n",
    "\n",
    "if player2_pkm == 'attacker':\n",
    "    player2_pkm_points = {'ATK':-20,'DEF':0,'BURST':0,'HEAL':5}\n",
    "elif player2_pkm == 'defenser':\n",
    "    player2_pkm_points = {'ATK':-15,'DEF':0,'BURST':0,'HEAL':10}\n",
    "elif player2_pkm == 'burster':\n",
    "    player2_pkm_points = {'ATK':-15,'DEF':0,'BURST':0,'HEAL':10}\n",
    "else:\n",
    "    player2_pkm_points = {'ATK':-10,'DEF':0,'BURST':0,'HEAL':15}\n",
    "    \n",
    "print('There are the stats of you pokemon :',player2_pkm, player2_pkm_points)"
   ]
  },
  {
   "cell_type": "code",
   "execution_count": 5,
   "metadata": {},
   "outputs": [
    {
     "name": "stdout",
     "output_type": "stream",
     "text": [
      "GG You will now choose 5 actions against POPO\n",
      " GG what is your action with GOO ? Please choose between ATK, DEF, BURST or HEAL :ATK\n",
      " GG what is your action with GOO ? Please choose between ATK, DEF, BURST or HEAL :ATK\n",
      " GG what is your action with GOO ? Please choose between ATK, DEF, BURST or HEAL :HEAL\n",
      " GG what is your action with GOO ? Please choose between ATK, DEF, BURST or HEAL :ATK\n",
      " GG what is your action with GOO ? Please choose between ATK, DEF, BURST or HEAL :HEAL\n",
      "There is your list of actions: ['ATK', 'ATK', 'HEAL', 'ATK', 'HEAL']\n"
     ]
    }
   ],
   "source": [
    "# Actions player 1\n",
    "\n",
    "print(f\"{name_player1} You will now choose 5 actions against {name_pokemon2}\")\n",
    "list_action1=[]\n",
    "while len(list_action1)<5:\n",
    "    action1 = input(f' {name_player1} what is your action with {name_pokemon1} ? Please choose between ATK, DEF, BURST or HEAL :',)\n",
    "    while action1 not in (\"ATK\", \"DEF\", \"BURST\", \"HEAL\"):\n",
    "        action1 = input(\"Sorry, you must choose between ATK, DEF, BURST or HEAL \",)\n",
    "    list_action1.append(action1)\n",
    "    \n",
    "print('There is your list of actions:',list_action1)"
   ]
  },
  {
   "cell_type": "code",
   "execution_count": 6,
   "metadata": {
    "scrolled": true
   },
   "outputs": [
    {
     "name": "stdout",
     "output_type": "stream",
     "text": [
      "JJ You will now choose 5 actions against POPO\n",
      " JJ what is your action with GOO ? Please choose between ATK, DEF, BURST or HEAL HEAL\n",
      " JJ what is your action with GOO ? Please choose between ATK, DEF, BURST or HEAL HEAL\n",
      " JJ what is your action with GOO ? Please choose between ATK, DEF, BURST or HEAL ATK\n",
      " JJ what is your action with GOO ? Please choose between ATK, DEF, BURST or HEAL ATK\n",
      " JJ what is your action with GOO ? Please choose between ATK, DEF, BURST or HEAL ATK\n",
      "There is your list of actions: ['HEAL', 'HEAL', 'ATK', 'ATK', 'ATK']\n"
     ]
    }
   ],
   "source": [
    "# Actions player 2\n",
    "print(f\"{name_player2} You will now choose 5 actions against {name_pokemon2}\")\n",
    "list_action2=[]\n",
    "while len(list_action2)<5:\n",
    "    action2 = input(f' {name_player2} what is your action with {name_pokemon1} ? Please choose between ATK, DEF, BURST or HEAL ',)\n",
    "    while action2 not in (\"ATK\", \"DEF\", \"BURST\", \"HEAL\"):\n",
    "        action2 = input(\"Sorry, you must choose between ATK, DEF, BURST or HEAL \",)\n",
    "    list_action2.append(action2)\n",
    "print('There is your list of actions:',list_action2)"
   ]
  },
  {
   "cell_type": "code",
   "execution_count": 7,
   "metadata": {},
   "outputs": [
    {
     "name": "stdout",
     "output_type": "stream",
     "text": [
      "['ATK', 'ATK', 'HEAL', 'ATK', 'HEAL'] [-20, -20, 5, -20, 5]\n",
      "['HEAL', 'HEAL', 'ATK', 'ATK', 'ATK'] [15, 15, -10, -10, -10]\n"
     ]
    }
   ],
   "source": [
    "# Transforming the actions in lifepoints:\n",
    "list_power1=[]\n",
    "list_power2=[]\n",
    "\n",
    "for power1 in list_action1:\n",
    "    for i, j in player1_pkm_points.items():\n",
    "        if power1 == i:\n",
    "            list_power1.append(j)\n",
    "            \n",
    "for power2 in list_action2:\n",
    "    for i, j in player2_pkm_points.items():\n",
    "        if power2 == i:\n",
    "            list_power2.append(j)\n",
    "            \n",
    "print(list_action1, list_power1)\n",
    "print(list_action2, list_power2)"
   ]
  },
  {
   "cell_type": "code",
   "execution_count": 8,
   "metadata": {},
   "outputs": [
    {
     "name": "stdout",
     "output_type": "stream",
     "text": [
      "100 95\n",
      "100 90\n",
      "95 90\n",
      "85 70\n",
      "80 70\n",
      "life_pokemon1:  80\n",
      "life_pokemon2:  70\n"
     ]
    }
   ],
   "source": [
    "for i, j in (zip(list_power1,list_power2)):\n",
    "    if life_pokemon1 <= 0:\n",
    "        life_pokemon1=0\n",
    "        life_pokemon2+=0\n",
    "    elif life_pokemon2 <= 0:\n",
    "        life_pokemon2=0\n",
    "        life_pokemon1+=0\n",
    "    elif i<0 and j>0:\n",
    "        life_pokemon2+=j+i\n",
    "        if life_pokemon2>100:\n",
    "            life_pokemon2=100\n",
    "    elif i>0 and j<0:\n",
    "        life_pokemon1+=i+j\n",
    "        if life_pokemon1>100:\n",
    "            life_pokemon1=100\n",
    "    elif i>0 and j>0:\n",
    "        life_pokemon1+=i\n",
    "        if life_pokemon1>100:\n",
    "            life_pokemon1=100\n",
    "        life_pokemon2+=j\n",
    "        if life_pokemon2>100:\n",
    "            life_pokemon2=100\n",
    "    else:\n",
    "        life_pokemon1+=j\n",
    "        life_pokemon2+=i\n",
    "    print(life_pokemon1,life_pokemon2)\n",
    "print(\"life_pokemon1: \",life_pokemon1)\n",
    "print(\"life_pokemon2: \",life_pokemon2)"
   ]
  },
  {
   "cell_type": "code",
   "execution_count": null,
   "metadata": {},
   "outputs": [
    {
     "name": "stdout",
     "output_type": "stream",
     "text": [
      "Welcome Player1, what is your name? gg\n",
      "Nice name!! What is the name of your pokemon? tt\n",
      "What type is your pokemon? Please choose between attacker, defenser, burster or healer: attacker\n",
      "There are the stats of you pokemon : attacker {'ATK': -20, 'DEF': 0, 'BURST': 0, 'HEAL': 5}\n",
      "Welcome Player2, what is your name? uu\n",
      "Nice name too ! What is the name of you pokemon? pp\n",
      "What type is your pokemon? Please choose between attacker, defenser, burster or healer healer\n",
      "There are the stats of you pokemon : healer {'ATK': -10, 'DEF': 0, 'BURST': 0, 'HEAL': 15}\n",
      "gg You will now choose 5 actions against pp\n",
      " gg what is your action with tt ? Please choose between ATK, DEF, BURST or HEAL :ATK\n",
      " gg what is your action with tt ? Please choose between ATK, DEF, BURST or HEAL :ATK\n",
      " gg what is your action with tt ? Please choose between ATK, DEF, BURST or HEAL :HEAL\n",
      " gg what is your action with tt ? Please choose between ATK, DEF, BURST or HEAL :ATK\n",
      " gg what is your action with tt ? Please choose between ATK, DEF, BURST or HEAL :HEAL\n",
      "There is your list of actions: ['ATK', 'ATK', 'HEAL', 'ATK', 'HEAL']\n",
      "uu You will now choose 5 actions against pp\n",
      " uu what is your action with tt ? Please choose between ATK, DEF, BURST or HEAL ATK\n",
      " uu what is your action with tt ? Please choose between ATK, DEF, BURST or HEAL ATK\n",
      " uu what is your action with tt ? Please choose between ATK, DEF, BURST or HEAL HEAL\n",
      " uu what is your action with tt ? Please choose between ATK, DEF, BURST or HEAL HEAL\n",
      " uu what is your action with tt ? Please choose between ATK, DEF, BURST or HEAL ATK\n",
      "There is your list of actions: ['ATK', 'ATK', 'HEAL', 'HEAL', 'ATK']\n",
      "['ATK', 'ATK', 'HEAL', 'ATK', 'HEAL'] [-20, -20, 5, -20, 5]\n",
      "['ATK', 'ATK', 'HEAL', 'HEAL', 'ATK'] [-10, -10, 15, 15, -10]\n",
      "90 80\n",
      "80 60\n",
      "85 75\n",
      "85 70\n",
      "80 70\n",
      "gg, your pokemon tt has 80 level of life.\n",
      "uu, your pokemon pp has 70 level of life.\n",
      "gg You will now choose 5 actions against pp\n"
     ]
    }
   ],
   "source": [
    "# Defining player1\n",
    "\n",
    "name_player1 = input(\"Welcome Player1, what is your name? \",)\n",
    "name_pokemon1 = input(\"Nice name!! What is the name of your pokemon? \",)\n",
    "life_pokemon1 = 100\n",
    "player1_pkm = input(\"What type is your pokemon? Please choose between attacker, defenser, burster or healer: \",)\n",
    "while player1_pkm not in (\"attacker\", \"defenser\", \"burster\", \"healer\"):\n",
    "    player1_pkm = input(\"Sorry, you must choose between attacker, defenser, burster or healer: \",)\n",
    "  \n",
    "# Dictionary player1\n",
    "\n",
    "if player1_pkm == 'attacker':\n",
    "    player1_pkm_points = {'ATK':-20,'DEF':0,'BURST':0,'HEAL':5}\n",
    "elif player1_pkm == 'defenser':\n",
    "    player1_pkm_points = {'ATK':-15,'DEF':0,'BURST':0,'HEAL':10}\n",
    "elif player1_pkm == 'burster':\n",
    "    player1_pkm_points = {'ATK':-15,'DEF':0,'BURST':0,'HEAL':10}\n",
    "else:\n",
    "    player1_pkm_points = {'ATK':-10,'DEF':0,'BURST':0,'HEAL':15}\n",
    "    \n",
    "print('There are the stats of you pokemon :',player1_pkm, player1_pkm_points)\n",
    "\n",
    "# Defining player2\n",
    "\n",
    "name_player2 = input(\"Welcome Player2, what is your name? \",)\n",
    "name_pokemon2 = input(\"Nice name too ! What is the name of you pokemon? \",)\n",
    "life_pokemon2 = 100\n",
    "player2_pkm = input(\"What type is your pokemon? Please choose between attacker, defenser, burster or healer \",)\n",
    "while player2_pkm not in (\"attacker\", \"defenser\", \"burster\", \"healer\"):\n",
    "    player2_pkm = input(\"Sorry, you must choose between attacker, defenser, burster or healer\",)\n",
    "\n",
    "# Dictionnary player2\n",
    "\n",
    "if player2_pkm == 'attacker':\n",
    "    player2_pkm_points = {'ATK':-20,'DEF':0,'BURST':0,'HEAL':5}\n",
    "elif player2_pkm == 'defenser':\n",
    "    player2_pkm_points = {'ATK':-15,'DEF':0,'BURST':0,'HEAL':10}\n",
    "elif player2_pkm == 'burster':\n",
    "    player2_pkm_points = {'ATK':-15,'DEF':0,'BURST':0,'HEAL':10}\n",
    "else:\n",
    "    player2_pkm_points = {'ATK':-10,'DEF':0,'BURST':0,'HEAL':15}\n",
    "    \n",
    "print('There are the stats of you pokemon :',player2_pkm, player2_pkm_points)\n",
    "\n",
    "while life_pokemon1 != 0 and life_pokemon2 != 0:\n",
    "  # Actions player 1\n",
    "  print(f\"{name_player1} You will now choose 5 actions against {name_pokemon2}\")\n",
    "  list_action1=[]\n",
    "  while len(list_action1)<5:\n",
    "      action1 = input(f' {name_player1} what is your action with {name_pokemon1} ? Please choose between ATK, DEF, BURST or HEAL :',)\n",
    "      while action1 not in (\"ATK\", \"DEF\", \"BURST\", \"HEAL\"):\n",
    "          action1 = input(\"Sorry, you must choose between ATK, DEF, BURST or HEAL \",)\n",
    "      list_action1.append(action1)\n",
    "      \n",
    "  print('There is your list of actions:',list_action1)\n",
    "\n",
    "  # Actions player 2\n",
    "  print(f\"{name_player2} You will now choose 5 actions against {name_pokemon2}\")\n",
    "  list_action2=[]\n",
    "  while len(list_action2)<5:\n",
    "      action2 = input(f' {name_player2} what is your action with {name_pokemon1} ? Please choose between ATK, DEF, BURST or HEAL ',)\n",
    "      while action2 not in (\"ATK\", \"DEF\", \"BURST\", \"HEAL\"):\n",
    "          action2 = input(\"Sorry, you must choose between ATK, DEF, BURST or HEAL \",)\n",
    "      list_action2.append(action2)\n",
    "  print('There is your list of actions:',list_action2)\n",
    "\n",
    "  # Transforming the actions in lifepoints:\n",
    "  list_power1=[]\n",
    "  list_power2=[]\n",
    "\n",
    "  for power1 in list_action1:\n",
    "      for i, j in player1_pkm_points.items():\n",
    "          if power1 == i:\n",
    "              list_power1.append(j)\n",
    "              \n",
    "  for power2 in list_action2:\n",
    "      for i, j in player2_pkm_points.items():\n",
    "          if power2 == i:\n",
    "              list_power2.append(j)\n",
    "              \n",
    "  print(list_action1, list_power1)\n",
    "  print(list_action2, list_power2)\n",
    "\n",
    "  # Resoltuion of the fight\n",
    "  for i, j in (zip(list_power1,list_power2)):\n",
    "      if life_pokemon1 <= 0:\n",
    "          life_pokemon1=0\n",
    "          life_pokemon2+=0\n",
    "      elif life_pokemon2 <= 0:\n",
    "          life_pokemon2=0\n",
    "          life_pokemon1+=0\n",
    "      elif i<0 and j>0:\n",
    "          life_pokemon2+=j+i\n",
    "          if life_pokemon2>100:\n",
    "              life_pokemon2=100\n",
    "      elif i>0 and j<0:\n",
    "          life_pokemon1+=i+j\n",
    "          if life_pokemon1>100:\n",
    "              life_pokemon1=100\n",
    "      elif i>0 and j>0:\n",
    "          life_pokemon1+=i\n",
    "          if life_pokemon1>100:\n",
    "              life_pokemon1=100\n",
    "          life_pokemon2+=j\n",
    "          if life_pokemon2>100:\n",
    "              life_pokemon2=100\n",
    "      else:\n",
    "          life_pokemon1+=j\n",
    "          life_pokemon2+=i\n",
    "  print(f\"{name_player1}, your pokemon {name_pokemon1} has {life_pokemon1} level of life.\")\n",
    "  print(f\"{name_player2}, your pokemon {name_pokemon2} has {life_pokemon2} level of life.\")"
   ]
  },
  {
   "cell_type": "code",
   "execution_count": null,
   "metadata": {},
   "outputs": [],
   "source": []
  }
 ],
 "metadata": {
  "kernelspec": {
   "display_name": "Python 3",
   "language": "python",
   "name": "python3"
  },
  "language_info": {
   "codemirror_mode": {
    "name": "ipython",
    "version": 3
   },
   "file_extension": ".py",
   "mimetype": "text/x-python",
   "name": "python",
   "nbconvert_exporter": "python",
   "pygments_lexer": "ipython3",
   "version": "3.7.4"
  }
 },
 "nbformat": 4,
 "nbformat_minor": 2
}
