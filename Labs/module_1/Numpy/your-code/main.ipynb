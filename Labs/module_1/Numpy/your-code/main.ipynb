{
 "cells": [
  {
   "cell_type": "markdown",
   "metadata": {},
   "source": [
    "# Intrduction to NumPy\n",
    "\n",
    "\n",
    "#### 1. Import NumPy under the name np."
   ]
  },
  {
   "cell_type": "code",
   "execution_count": 1,
   "metadata": {},
   "outputs": [],
   "source": [
    "# your code here\n",
    "import numpy as np"
   ]
  },
  {
   "cell_type": "markdown",
   "metadata": {},
   "source": [
    "#### 2. Print your NumPy version."
   ]
  },
  {
   "cell_type": "code",
   "execution_count": 2,
   "metadata": {},
   "outputs": [
    {
     "data": {
      "text/plain": [
       "<module 'numpy.version' from 'C:\\\\Users\\\\galic156685\\\\AppData\\\\Local\\\\Continuum\\\\anaconda3\\\\lib\\\\site-packages\\\\numpy\\\\version.py'>"
      ]
     },
     "execution_count": 2,
     "metadata": {},
     "output_type": "execute_result"
    }
   ],
   "source": [
    "# your code here\n",
    "np.version"
   ]
  },
  {
   "cell_type": "markdown",
   "metadata": {},
   "source": [
    "#### 3. Generate a 2x3x5 3-dimensional array with random values. Assign the array to variable *a*.\n",
    "**Challenge**: there are at least three easy ways that use numpy to generate random arrays. How many ways can you find?"
   ]
  },
  {
   "cell_type": "code",
   "execution_count": 5,
   "metadata": {},
   "outputs": [],
   "source": [
    "# Method 1\n",
    "a=np.random.random((2,3,5))"
   ]
  },
  {
   "cell_type": "code",
   "execution_count": null,
   "metadata": {},
   "outputs": [],
   "source": [
    "# Method 2\n"
   ]
  },
  {
   "cell_type": "code",
   "execution_count": null,
   "metadata": {},
   "outputs": [],
   "source": [
    "# Method 3"
   ]
  },
  {
   "cell_type": "markdown",
   "metadata": {},
   "source": [
    "#### 4. Print *a*.\n"
   ]
  },
  {
   "cell_type": "code",
   "execution_count": 6,
   "metadata": {},
   "outputs": [
    {
     "data": {
      "text/plain": [
       "array([[[0.05807341, 0.20689015, 0.95149938, 0.68553829, 0.44114373],\n",
       "        [0.19795916, 0.44357956, 0.45333742, 0.77945769, 0.93984977],\n",
       "        [0.60371718, 0.10655119, 0.34870845, 0.35804838, 0.97592427]],\n",
       "\n",
       "       [[0.26635564, 0.0194567 , 0.0861243 , 0.7713254 , 0.5476268 ],\n",
       "        [0.45661741, 0.35764504, 0.11338135, 0.52233549, 0.17670936],\n",
       "        [0.34324579, 0.06489675, 0.18267601, 0.68673435, 0.25032869]]])"
      ]
     },
     "execution_count": 6,
     "metadata": {},
     "output_type": "execute_result"
    }
   ],
   "source": [
    "# your code here\n",
    "a"
   ]
  },
  {
   "cell_type": "markdown",
   "metadata": {},
   "source": [
    "#### 5. Create a 5x2x3 3-dimensional array with all values equaling 1. Assign the array to variable *b*."
   ]
  },
  {
   "cell_type": "code",
   "execution_count": 58,
   "metadata": {},
   "outputs": [],
   "source": [
    "# your code here\n",
    "b=np.full((5,2,3), 1)"
   ]
  },
  {
   "cell_type": "markdown",
   "metadata": {},
   "source": [
    "#### 6. Print *b*.\n"
   ]
  },
  {
   "cell_type": "code",
   "execution_count": 59,
   "metadata": {},
   "outputs": [
    {
     "data": {
      "text/plain": [
       "array([[[1, 1, 1],\n",
       "        [1, 1, 1]],\n",
       "\n",
       "       [[1, 1, 1],\n",
       "        [1, 1, 1]],\n",
       "\n",
       "       [[1, 1, 1],\n",
       "        [1, 1, 1]],\n",
       "\n",
       "       [[1, 1, 1],\n",
       "        [1, 1, 1]],\n",
       "\n",
       "       [[1, 1, 1],\n",
       "        [1, 1, 1]]])"
      ]
     },
     "execution_count": 59,
     "metadata": {},
     "output_type": "execute_result"
    }
   ],
   "source": [
    "# your code here\n",
    "b"
   ]
  },
  {
   "cell_type": "markdown",
   "metadata": {},
   "source": [
    "#### 7. Do *a* and *b* have the same size? How do you prove that in Python code?"
   ]
  },
  {
   "cell_type": "code",
   "execution_count": 17,
   "metadata": {},
   "outputs": [
    {
     "name": "stdout",
     "output_type": "stream",
     "text": [
      "(2, 3, 5) (5, 2, 3)\n"
     ]
    }
   ],
   "source": [
    "# your code here\n",
    "print(a.shape, b.shape)"
   ]
  },
  {
   "cell_type": "markdown",
   "metadata": {},
   "source": [
    "#### 8. Are you able to add *a* and *b*? Why or why not?\n"
   ]
  },
  {
   "cell_type": "code",
   "execution_count": null,
   "metadata": {},
   "outputs": [],
   "source": [
    "# your answer here\n",
    "#we can't add a and b because they don'y have the same shape"
   ]
  },
  {
   "cell_type": "markdown",
   "metadata": {},
   "source": [
    "#### 9. Transpose *b* so that it has the same structure of *a* (i.e. become a 2x3x5 array). Assign the transposed array to variable *c*."
   ]
  },
  {
   "cell_type": "code",
   "execution_count": 36,
   "metadata": {},
   "outputs": [
    {
     "data": {
      "text/plain": [
       "(2, 3, 5)"
      ]
     },
     "execution_count": 36,
     "metadata": {},
     "output_type": "execute_result"
    }
   ],
   "source": [
    "# your code here\n",
    "c=np.transpose(b, (1, 2, 0))\n",
    "c.shape"
   ]
  },
  {
   "cell_type": "markdown",
   "metadata": {},
   "source": [
    "#### 10. Try to add *a* and *c*. Now it should work. Assign the sum to variable *d*. But why does it work now?"
   ]
  },
  {
   "cell_type": "code",
   "execution_count": 39,
   "metadata": {},
   "outputs": [
    {
     "name": "stdout",
     "output_type": "stream",
     "text": [
      "[[[1.05807341 1.20689015 1.95149938 1.68553829 1.44114373]\n",
      "  [1.19795916 1.44357956 1.45333742 1.77945769 1.93984977]\n",
      "  [1.60371718 1.10655119 1.34870845 1.35804838 1.97592427]]\n",
      "\n",
      " [[1.26635564 1.0194567  1.0861243  1.7713254  1.5476268 ]\n",
      "  [1.45661741 1.35764504 1.11338135 1.52233549 1.17670936]\n",
      "  [1.34324579 1.06489675 1.18267601 1.68673435 1.25032869]]]\n"
     ]
    }
   ],
   "source": [
    "# your code/answer here\n",
    "d=np.add(a,c)"
   ]
  },
  {
   "cell_type": "markdown",
   "metadata": {},
   "source": [
    "#### 11. Print *a* and *d*. Notice the difference and relation of the two array in terms of the values? Explain."
   ]
  },
  {
   "cell_type": "code",
   "execution_count": 41,
   "metadata": {},
   "outputs": [
    {
     "name": "stdout",
     "output_type": "stream",
     "text": [
      "[[[0.05807341 0.20689015 0.95149938 0.68553829 0.44114373]\n",
      "  [0.19795916 0.44357956 0.45333742 0.77945769 0.93984977]\n",
      "  [0.60371718 0.10655119 0.34870845 0.35804838 0.97592427]]\n",
      "\n",
      " [[0.26635564 0.0194567  0.0861243  0.7713254  0.5476268 ]\n",
      "  [0.45661741 0.35764504 0.11338135 0.52233549 0.17670936]\n",
      "  [0.34324579 0.06489675 0.18267601 0.68673435 0.25032869]]]\n",
      "next\n",
      "[[[1.05807341 1.20689015 1.95149938 1.68553829 1.44114373]\n",
      "  [1.19795916 1.44357956 1.45333742 1.77945769 1.93984977]\n",
      "  [1.60371718 1.10655119 1.34870845 1.35804838 1.97592427]]\n",
      "\n",
      " [[1.26635564 1.0194567  1.0861243  1.7713254  1.5476268 ]\n",
      "  [1.45661741 1.35764504 1.11338135 1.52233549 1.17670936]\n",
      "  [1.34324579 1.06489675 1.18267601 1.68673435 1.25032869]]]\n"
     ]
    }
   ],
   "source": [
    "# your code/answer here\n",
    "print(a)\n",
    "print(\"next\")\n",
    "print(d)\n",
    "#d is the sum of the elements of a and b "
   ]
  },
  {
   "cell_type": "markdown",
   "metadata": {},
   "source": [
    "#### 12. Multiply *a* and *c*. Assign the result to *e*."
   ]
  },
  {
   "cell_type": "code",
   "execution_count": 45,
   "metadata": {},
   "outputs": [
    {
     "name": "stdout",
     "output_type": "stream",
     "text": [
      "[[[0.05807341 0.20689015 0.95149938 0.68553829 0.44114373]\n",
      "  [0.19795916 0.44357956 0.45333742 0.77945769 0.93984977]\n",
      "  [0.60371718 0.10655119 0.34870845 0.35804838 0.97592427]]\n",
      "\n",
      " [[0.26635564 0.0194567  0.0861243  0.7713254  0.5476268 ]\n",
      "  [0.45661741 0.35764504 0.11338135 0.52233549 0.17670936]\n",
      "  [0.34324579 0.06489675 0.18267601 0.68673435 0.25032869]]]\n"
     ]
    }
   ],
   "source": [
    "# your code here\n",
    "e=a*c\n",
    "print(e)"
   ]
  },
  {
   "cell_type": "markdown",
   "metadata": {},
   "source": [
    "#### 13. Does *e* equal to *a*? Why or why not?\n"
   ]
  },
  {
   "cell_type": "code",
   "execution_count": null,
   "metadata": {},
   "outputs": [],
   "source": [
    "# your code/answer here\n",
    "# e is egal to a because each elements of c are 1"
   ]
  },
  {
   "cell_type": "markdown",
   "metadata": {},
   "source": [
    "#### 14. Identify the max, min, and mean values in *d*. Assign those values to variables *d_max*, *d_min* and *d_mean*."
   ]
  },
  {
   "cell_type": "code",
   "execution_count": 48,
   "metadata": {},
   "outputs": [
    {
     "name": "stdout",
     "output_type": "stream",
     "text": [
      "1.9759242671115813 1.0194567000109436 1.4131912366860306\n"
     ]
    }
   ],
   "source": [
    "# your code here\n",
    "d_mean=np.mean(d)\n",
    "d_max=np.max(d)\n",
    "d_min=np.min(d)\n",
    "print(d_max, d_min, d_mean)"
   ]
  },
  {
   "cell_type": "markdown",
   "metadata": {},
   "source": [
    "#### 15. Now we want to label the values in *d*. First create an empty array *f* with the same shape (i.e. 2x3x5) as *d* using `np.empty`.\n"
   ]
  },
  {
   "cell_type": "code",
   "execution_count": 67,
   "metadata": {},
   "outputs": [],
   "source": [
    "# your code here\n",
    "f=np.empty((2,3,5))"
   ]
  },
  {
   "cell_type": "markdown",
   "metadata": {},
   "source": [
    "#### 16. Populate the values in *f*. \n",
    "\n",
    "For each value in *d*, if it's larger than *d_min* but smaller than *d_mean*, assign 25 to the corresponding value in *f*. If a value in *d* is larger than *d_mean* but smaller than *d_max*, assign 75 to the corresponding value in *f*. If a value equals to *d_mean*, assign 50 to the corresponding value in *f*. Assign 0 to the corresponding value(s) in *f* for *d_min* in *d*. Assign 100 to the corresponding value(s) in *f* for *d_max* in *d*. In the end, f should have only the following values: 0, 25, 50, 75, and 100.\n",
    "\n",
    "**Note**: you don't have to use Numpy in this question."
   ]
  },
  {
   "cell_type": "code",
   "execution_count": 77,
   "metadata": {},
   "outputs": [
    {
     "name": "stdout",
     "output_type": "stream",
     "text": [
      "f [[[ 25.  25.  75.  75.  75.]\n",
      "  [ 25.  75.  75.  75.  75.]\n",
      "  [ 75.  25.  25.  25. 100.]]\n",
      "\n",
      " [[ 25.   0.  25.  75.  75.]\n",
      "  [ 75.  25.  25.  75.  25.]\n",
      "  [ 25.  25.  25.  75.  25.]]] d [[[1.05807341 1.20689015 1.95149938 1.68553829 1.44114373]\n",
      "  [1.19795916 1.44357956 1.45333742 1.77945769 1.93984977]\n",
      "  [1.60371718 1.10655119 1.34870845 1.35804838 1.97592427]]\n",
      "\n",
      " [[1.26635564 1.0194567  1.0861243  1.7713254  1.5476268 ]\n",
      "  [1.45661741 1.35764504 1.11338135 1.52233549 1.17670936]\n",
      "  [1.34324579 1.06489675 1.18267601 1.68673435 1.25032869]]]\n"
     ]
    }
   ],
   "source": [
    "# your code here\n",
    "f[d==d_max]=100\n",
    "f[d<d_max]=75\n",
    "f[d==d_mean]=50\n",
    "f[d<d_mean]=25\n",
    "f[d==d_min]=0\n",
    "np.array(list(map(lambda x: 100 if x==d_max else 75 if x<d_max else 50 if x==d_mean else 25 if x<d_mean else 0 if x==d_min,d.ravel))).reshape(2,3,5)"
   ]
  },
  {
   "cell_type": "markdown",
   "metadata": {},
   "source": [
    "#### 17. Print *d* and *f*. Do you have your expected *f*?\n",
    "For instance, if your *d* is:\n",
    "```python\n",
    "[[[1.85836099, 1.67064465, 1.62576044, 1.40243961, 1.88454931],\n",
    "[1.75354326, 1.69403643, 1.36729252, 1.61415071, 1.12104981],\n",
    "[1.72201435, 1.1862918 , 1.87078449, 1.7726778 , 1.88180042]],\n",
    "[[1.44747908, 1.31673383, 1.02000951, 1.52218947, 1.97066381],\n",
    "[1.79129243, 1.74983003, 1.96028037, 1.85166831, 1.65450881],\n",
    "[1.18068344, 1.9587381 , 1.00656599, 1.93402165, 1.73514584]]]\n",
    "```\n",
    "Your *f* should be:\n",
    "```python\n",
    "[[[ 75.,  75.,  75.,  25.,  75.],\n",
    "[ 75.,  75.,  25.,  25.,  25.],\n",
    "[ 75.,  25.,  75.,  75.,  75.]],\n",
    "[[ 25.,  25.,  25.,  25., 100.],\n",
    "[ 75.,  75.,  75.,  75.,  75.],\n",
    "[ 25.,  75.,   0.,  75.,  75.]]]\n",
    "```"
   ]
  },
  {
   "cell_type": "code",
   "execution_count": 78,
   "metadata": {},
   "outputs": [
    {
     "name": "stdout",
     "output_type": "stream",
     "text": [
      "f [[[ 25.  25.  75.  75.  75.]\n",
      "  [ 25.  75.  75.  75.  75.]\n",
      "  [ 75.  25.  25.  25. 100.]]\n",
      "\n",
      " [[ 25.   0.  25.  75.  75.]\n",
      "  [ 75.  25.  25.  75.  25.]\n",
      "  [ 25.  25.  25.  75.  25.]]]\n",
      "d [[[1.05807341 1.20689015 1.95149938 1.68553829 1.44114373]\n",
      "  [1.19795916 1.44357956 1.45333742 1.77945769 1.93984977]\n",
      "  [1.60371718 1.10655119 1.34870845 1.35804838 1.97592427]]\n",
      "\n",
      " [[1.26635564 1.0194567  1.0861243  1.7713254  1.5476268 ]\n",
      "  [1.45661741 1.35764504 1.11338135 1.52233549 1.17670936]\n",
      "  [1.34324579 1.06489675 1.18267601 1.68673435 1.25032869]]]\n"
     ]
    }
   ],
   "source": [
    "# your code here\n",
    "print(\"f\",f)\n",
    "print(\"d\",d)"
   ]
  },
  {
   "cell_type": "markdown",
   "metadata": {},
   "source": [
    "#### 18. Bonus question: instead of using numbers (i.e. 0, 25, 50, 75, and 100), use string values  (\"A\", \"B\", \"C\", \"D\", and \"E\") to label the array elements. For the example above, the expected result is:\n",
    "\n",
    "```python\n",
    "[[[ 'D',  'D',  'D',  'B',  'D'],\n",
    "[ 'D',  'D',  'B',  'B',  'B'],\n",
    "[ 'D',  'B',  'D',  'D',  'D']],\n",
    "[[ 'B',  'B',  'B',  'B',  'E'],\n",
    "[ 'D',  'D',  'D',  'D',  'D'],\n",
    "[ 'B',  'D',   'A',  'D', 'D']]]\n",
    "```\n",
    "**Note**: you don't have to use Numpy in this question."
   ]
  },
  {
   "cell_type": "code",
   "execution_count": 82,
   "metadata": {},
   "outputs": [],
   "source": [
    "# your code here\n",
    "f=f.astype(object)\n",
    "f[f==100]='E'\n",
    "f[f==75]='D'\n",
    "f[f==50]='C'\n",
    "f[f==25]='B'\n",
    "f[f==0]='A'"
   ]
  },
  {
   "cell_type": "code",
   "execution_count": 83,
   "metadata": {},
   "outputs": [
    {
     "data": {
      "text/plain": [
       "array([[['B', 'B', 'D', 'D', 'D'],\n",
       "        ['B', 'D', 'D', 'D', 'D'],\n",
       "        ['D', 'B', 'B', 'B', 'E']],\n",
       "\n",
       "       [['B', 'A', 'B', 'D', 'D'],\n",
       "        ['D', 'B', 'B', 'D', 'B'],\n",
       "        ['B', 'B', 'B', 'D', 'B']]], dtype=object)"
      ]
     },
     "execution_count": 83,
     "metadata": {},
     "output_type": "execute_result"
    }
   ],
   "source": [
    "f"
   ]
  },
  {
   "cell_type": "code",
   "execution_count": 85,
   "metadata": {},
   "outputs": [
    {
     "ename": "SyntaxError",
     "evalue": "invalid syntax (<ipython-input-85-29956cb9a842>, line 1)",
     "output_type": "error",
     "traceback": [
      "\u001b[1;36m  File \u001b[1;32m\"<ipython-input-85-29956cb9a842>\"\u001b[1;36m, line \u001b[1;32m1\u001b[0m\n\u001b[1;33m    g[[f==100]='E',f[f==75]='D',f[f==50]='C',f[f==25]='B',f[f==0]='A']\u001b[0m\n\u001b[1;37m              ^\u001b[0m\n\u001b[1;31mSyntaxError\u001b[0m\u001b[1;31m:\u001b[0m invalid syntax\n"
     ]
    }
   ],
   "source": [
    "g[[f==100]='E',f[f==75]='D',f[f==50]='C',f[f==25]='B',f[f==0]='A']"
   ]
  },
  {
   "cell_type": "code",
   "execution_count": null,
   "metadata": {},
   "outputs": [],
   "source": []
  }
 ],
 "metadata": {
  "kernelspec": {
   "display_name": "Python 3",
   "language": "python",
   "name": "python3"
  },
  "language_info": {
   "codemirror_mode": {
    "name": "ipython",
    "version": 3
   },
   "file_extension": ".py",
   "mimetype": "text/x-python",
   "name": "python",
   "nbconvert_exporter": "python",
   "pygments_lexer": "ipython3",
   "version": "3.7.7"
  }
 },
 "nbformat": 4,
 "nbformat_minor": 2
}
