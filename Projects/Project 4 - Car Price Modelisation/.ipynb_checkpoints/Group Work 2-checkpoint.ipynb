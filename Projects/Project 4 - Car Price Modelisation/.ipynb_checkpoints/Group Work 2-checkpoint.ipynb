{
 "cells": [
  {
   "cell_type": "markdown",
   "metadata": {},
   "source": [
    "# Prediction of the price of car"
   ]
  },
  {
   "cell_type": "markdown",
   "metadata": {},
   "source": [
    "### Can we be able to determine the price of a car thanks to his technical carateristics ? "
   ]
  },
  {
   "cell_type": "markdown",
   "metadata": {},
   "source": [
    "## Import of the libraries"
   ]
  },
  {
   "cell_type": "code",
   "execution_count": 1,
   "metadata": {},
   "outputs": [],
   "source": [
    "import pandas as pd\n",
    "import matplotlib.pyplot as plt\n",
    "import seaborn as sns\n",
    "import numpy as np\n",
    "\n",
    "%matplotlib inline\n",
    "\n",
    "# setting plot style for all the plots\n",
    "plt.style.use('fivethirtyeight')"
   ]
  },
  {
   "cell_type": "markdown",
   "metadata": {},
   "source": [
    "## Import of the datafile"
   ]
  },
  {
   "cell_type": "markdown",
   "metadata": {},
   "source": [
    "This datafile is from Kaggle web site: https://www.kaggle.com/jonah28/myautoge-cars-data#MyAuto_ge_Cars_Data.csv"
   ]
  },
  {
   "cell_type": "code",
   "execution_count": 2,
   "metadata": {},
   "outputs": [],
   "source": [
    "df=pd.read_csv('MyAuto_ge_Cars_Data.csv', sep=',')"
   ]
  },
  {
   "cell_type": "code",
   "execution_count": 3,
   "metadata": {
    "scrolled": false
   },
   "outputs": [
    {
     "data": {
      "text/html": [
       "<div>\n",
       "<style scoped>\n",
       "    .dataframe tbody tr th:only-of-type {\n",
       "        vertical-align: middle;\n",
       "    }\n",
       "\n",
       "    .dataframe tbody tr th {\n",
       "        vertical-align: top;\n",
       "    }\n",
       "\n",
       "    .dataframe thead th {\n",
       "        text-align: right;\n",
       "    }\n",
       "</style>\n",
       "<table border=\"1\" class=\"dataframe\">\n",
       "  <thead>\n",
       "    <tr style=\"text-align: right;\">\n",
       "      <th></th>\n",
       "      <th>ID</th>\n",
       "      <th>Price ($)</th>\n",
       "      <th>Levy ($)</th>\n",
       "      <th>Manufacturer</th>\n",
       "      <th>Model</th>\n",
       "      <th>Prod. year</th>\n",
       "      <th>Category</th>\n",
       "      <th>Leather interior</th>\n",
       "      <th>Fuel type</th>\n",
       "      <th>Engine volume</th>\n",
       "      <th>Mileage</th>\n",
       "      <th>Cylinders</th>\n",
       "      <th>Gear box type</th>\n",
       "      <th>Drive wheels</th>\n",
       "      <th>Doors</th>\n",
       "      <th>Wheel</th>\n",
       "      <th>Color</th>\n",
       "      <th>Interior color</th>\n",
       "      <th>Airbags</th>\n",
       "      <th>VIN</th>\n",
       "    </tr>\n",
       "  </thead>\n",
       "  <tbody>\n",
       "    <tr>\n",
       "      <th>0</th>\n",
       "      <td>45568273</td>\n",
       "      <td>11,447</td>\n",
       "      <td>501</td>\n",
       "      <td>HONDA</td>\n",
       "      <td>FIT</td>\n",
       "      <td>2014</td>\n",
       "      <td>Hatchback</td>\n",
       "      <td>No</td>\n",
       "      <td>Petrol</td>\n",
       "      <td>1.5</td>\n",
       "      <td>80000 km</td>\n",
       "      <td>4.0</td>\n",
       "      <td>Manual</td>\n",
       "      <td>Front</td>\n",
       "      <td>4/5</td>\n",
       "      <td>Left wheel</td>\n",
       "      <td>Grey</td>\n",
       "      <td>Black</td>\n",
       "      <td>4</td>\n",
       "      <td>NaN</td>\n",
       "    </tr>\n",
       "  </tbody>\n",
       "</table>\n",
       "</div>"
      ],
      "text/plain": [
       "         ID Price ($) Levy ($) Manufacturer Model  Prod. year   Category  \\\n",
       "0  45568273    11,447      501        HONDA   FIT        2014  Hatchback   \n",
       "\n",
       "  Leather interior Fuel type Engine volume   Mileage  Cylinders Gear box type  \\\n",
       "0               No    Petrol           1.5  80000 km        4.0        Manual   \n",
       "\n",
       "  Drive wheels Doors       Wheel Color Interior color  Airbags  VIN  \n",
       "0        Front   4/5  Left wheel  Grey          Black        4  NaN  "
      ]
     },
     "execution_count": 3,
     "metadata": {},
     "output_type": "execute_result"
    }
   ],
   "source": [
    "df.head(1)"
   ]
  },
  {
   "cell_type": "code",
   "execution_count": 4,
   "metadata": {},
   "outputs": [
    {
     "data": {
      "text/html": [
       "<div>\n",
       "<style scoped>\n",
       "    .dataframe tbody tr th:only-of-type {\n",
       "        vertical-align: middle;\n",
       "    }\n",
       "\n",
       "    .dataframe tbody tr th {\n",
       "        vertical-align: top;\n",
       "    }\n",
       "\n",
       "    .dataframe thead th {\n",
       "        text-align: right;\n",
       "    }\n",
       "</style>\n",
       "<table border=\"1\" class=\"dataframe\">\n",
       "  <thead>\n",
       "    <tr style=\"text-align: right;\">\n",
       "      <th></th>\n",
       "      <th>ID</th>\n",
       "      <th>Prod. year</th>\n",
       "      <th>Cylinders</th>\n",
       "      <th>Airbags</th>\n",
       "    </tr>\n",
       "  </thead>\n",
       "  <tbody>\n",
       "    <tr>\n",
       "      <th>count</th>\n",
       "      <td>8.057700e+04</td>\n",
       "      <td>80577.000000</td>\n",
       "      <td>80083.000000</td>\n",
       "      <td>80577.000000</td>\n",
       "    </tr>\n",
       "    <tr>\n",
       "      <th>mean</th>\n",
       "      <td>4.559937e+07</td>\n",
       "      <td>2011.936347</td>\n",
       "      <td>4.630845</td>\n",
       "      <td>6.315288</td>\n",
       "    </tr>\n",
       "    <tr>\n",
       "      <th>std</th>\n",
       "      <td>8.990535e+05</td>\n",
       "      <td>5.402962</td>\n",
       "      <td>1.328453</td>\n",
       "      <td>4.987446</td>\n",
       "    </tr>\n",
       "    <tr>\n",
       "      <th>min</th>\n",
       "      <td>1.456453e+07</td>\n",
       "      <td>1939.000000</td>\n",
       "      <td>0.000000</td>\n",
       "      <td>0.000000</td>\n",
       "    </tr>\n",
       "    <tr>\n",
       "      <th>25%</th>\n",
       "      <td>4.564501e+07</td>\n",
       "      <td>2010.000000</td>\n",
       "      <td>4.000000</td>\n",
       "      <td>0.000000</td>\n",
       "    </tr>\n",
       "    <tr>\n",
       "      <th>50%</th>\n",
       "      <td>4.575152e+07</td>\n",
       "      <td>2013.000000</td>\n",
       "      <td>4.000000</td>\n",
       "      <td>6.000000</td>\n",
       "    </tr>\n",
       "    <tr>\n",
       "      <th>75%</th>\n",
       "      <td>4.579159e+07</td>\n",
       "      <td>2015.000000</td>\n",
       "      <td>6.000000</td>\n",
       "      <td>12.000000</td>\n",
       "    </tr>\n",
       "    <tr>\n",
       "      <th>max</th>\n",
       "      <td>4.581665e+07</td>\n",
       "      <td>2020.000000</td>\n",
       "      <td>127.000000</td>\n",
       "      <td>16.000000</td>\n",
       "    </tr>\n",
       "  </tbody>\n",
       "</table>\n",
       "</div>"
      ],
      "text/plain": [
       "                 ID    Prod. year     Cylinders       Airbags\n",
       "count  8.057700e+04  80577.000000  80083.000000  80577.000000\n",
       "mean   4.559937e+07   2011.936347      4.630845      6.315288\n",
       "std    8.990535e+05      5.402962      1.328453      4.987446\n",
       "min    1.456453e+07   1939.000000      0.000000      0.000000\n",
       "25%    4.564501e+07   2010.000000      4.000000      0.000000\n",
       "50%    4.575152e+07   2013.000000      4.000000      6.000000\n",
       "75%    4.579159e+07   2015.000000      6.000000     12.000000\n",
       "max    4.581665e+07   2020.000000    127.000000     16.000000"
      ]
     },
     "execution_count": 4,
     "metadata": {},
     "output_type": "execute_result"
    }
   ],
   "source": [
    "df.describe()"
   ]
  },
  {
   "cell_type": "code",
   "execution_count": 5,
   "metadata": {},
   "outputs": [
    {
     "data": {
      "text/plain": [
       "ID                      0\n",
       "Price ($)               0\n",
       "Levy ($)                0\n",
       "Manufacturer            0\n",
       "Model                  36\n",
       "Prod. year              0\n",
       "Category                0\n",
       "Leather interior        0\n",
       "Fuel type              77\n",
       "Engine volume         494\n",
       "Mileage                 0\n",
       "Cylinders             494\n",
       "Gear box type         356\n",
       "Drive wheels          927\n",
       "Doors                1593\n",
       "Wheel                   0\n",
       "Color                1441\n",
       "Interior color      21682\n",
       "Airbags                 0\n",
       "VIN                 37161\n",
       "dtype: int64"
      ]
     },
     "execution_count": 5,
     "metadata": {},
     "output_type": "execute_result"
    }
   ],
   "source": [
    "df.isna().sum()"
   ]
  },
  {
   "cell_type": "code",
   "execution_count": 6,
   "metadata": {},
   "outputs": [
    {
     "data": {
      "text/plain": [
       "(80577, 20)"
      ]
     },
     "execution_count": 6,
     "metadata": {},
     "output_type": "execute_result"
    }
   ],
   "source": [
    "df.shape"
   ]
  },
  {
   "cell_type": "markdown",
   "metadata": {},
   "source": [
    "## Data Cleaning"
   ]
  },
  {
   "cell_type": "markdown",
   "metadata": {},
   "source": [
    "What to do with all those columns ? "
   ]
  },
  {
   "cell_type": "code",
   "execution_count": 7,
   "metadata": {},
   "outputs": [],
   "source": [
    "df=df.rename(columns={'Price ($)':'Price','Gear box type':'Typegearbox','Prod. year':'Year'})"
   ]
  },
  {
   "cell_type": "markdown",
   "metadata": {},
   "source": [
    "ID:"
   ]
  },
  {
   "cell_type": "code",
   "execution_count": 8,
   "metadata": {},
   "outputs": [],
   "source": [
    "df=df.drop('ID',axis=1)"
   ]
  },
  {
   "cell_type": "markdown",
   "metadata": {},
   "source": [
    "PRICE: "
   ]
  },
  {
   "cell_type": "code",
   "execution_count": 9,
   "metadata": {},
   "outputs": [],
   "source": [
    "df=df.drop(df[df['Price']=='Price negotiable'].index)"
   ]
  },
  {
   "cell_type": "code",
   "execution_count": 10,
   "metadata": {},
   "outputs": [],
   "source": [
    "df=df.drop(df[df['Price']=='Other'].index)"
   ]
  },
  {
   "cell_type": "code",
   "execution_count": 11,
   "metadata": {},
   "outputs": [],
   "source": [
    "df.Price=df.Price.str.replace(',','')"
   ]
  },
  {
   "cell_type": "code",
   "execution_count": 12,
   "metadata": {},
   "outputs": [],
   "source": [
    "convert={'Price':int}\n",
    "df=df.astype(convert)"
   ]
  },
  {
   "cell_type": "code",
   "execution_count": 13,
   "metadata": {},
   "outputs": [],
   "source": [
    "df=df.drop(df[df['Price']>80000].index)"
   ]
  },
  {
   "cell_type": "code",
   "execution_count": 14,
   "metadata": {},
   "outputs": [],
   "source": [
    "df=df.drop(df[df['Price']<3000].index)"
   ]
  },
  {
   "cell_type": "code",
   "execution_count": 15,
   "metadata": {},
   "outputs": [
    {
     "data": {
      "text/plain": [
       "(array([1390.,  723.,  983.,  937.,  989., 1196., 1293., 1173., 1226.,\n",
       "        1273., 1154., 1150., 1008.,  956., 1249.,  865., 1227.,  911.,\n",
       "        1111.,  719., 1132.,  647.,  840.,  595.,  593.,  585.,  599.,\n",
       "         461.,  478.,  426.,  372.,  319.,  412.,  255.,  291.,  169.,\n",
       "         403.,  145.,  321.,  116.,  267.,  164.,  249.,  169.,  273.,\n",
       "         133.,  130.,  288.,  192.,  204.,  134.,  203.,  142.,  266.,\n",
       "         165.,  194.,  128.,  174.,   80.,  127.,  104.,  125.,   98.,\n",
       "         133.,   91.,   91.,   85.,   53.,   58.,   88.,   29.,   69.,\n",
       "          36.,   62.,   20.,   55.,   34.,   76.,   14.,   30.,   20.,\n",
       "          46.,   19.,   20.,   13.,   45.,   23.,   21.,    7.,   37.,\n",
       "           4.,   39.,    0.,   33.,    4.,   14.,    6.,   50.,    6.,\n",
       "          27.]),\n",
       " array([ 3000.,  3770.,  4540.,  5310.,  6080.,  6850.,  7620.,  8390.,\n",
       "         9160.,  9930., 10700., 11470., 12240., 13010., 13780., 14550.,\n",
       "        15320., 16090., 16860., 17630., 18400., 19170., 19940., 20710.,\n",
       "        21480., 22250., 23020., 23790., 24560., 25330., 26100., 26870.,\n",
       "        27640., 28410., 29180., 29950., 30720., 31490., 32260., 33030.,\n",
       "        33800., 34570., 35340., 36110., 36880., 37650., 38420., 39190.,\n",
       "        39960., 40730., 41500., 42270., 43040., 43810., 44580., 45350.,\n",
       "        46120., 46890., 47660., 48430., 49200., 49970., 50740., 51510.,\n",
       "        52280., 53050., 53820., 54590., 55360., 56130., 56900., 57670.,\n",
       "        58440., 59210., 59980., 60750., 61520., 62290., 63060., 63830.,\n",
       "        64600., 65370., 66140., 66910., 67680., 68450., 69220., 69990.,\n",
       "        70760., 71530., 72300., 73070., 73840., 74610., 75380., 76150.,\n",
       "        76920., 77690., 78460., 79230., 80000.]),\n",
       " <a list of 100 Patch objects>)"
      ]
     },
     "execution_count": 15,
     "metadata": {},
     "output_type": "execute_result"
    },
    {
     "data": {
      "image/png": "[encoded data removed]",
      "text/plain": [
       "<Figure size 432x288 with 1 Axes>"
      ]
     },
     "metadata": {},
     "output_type": "display_data"
    }
   ],
   "source": [
    "plt.hist(df.Price, bins=100)"
   ]
  },
  {
   "cell_type": "code",
   "execution_count": 16,
   "metadata": {},
   "outputs": [
    {
     "data": {
      "text/plain": [
       "<matplotlib.axes._subplots.AxesSubplot at 0xf033ba3a08>"
      ]
     },
     "execution_count": 16,
     "metadata": {},
     "output_type": "execute_result"
    },
    {
     "data": {
      "image/png": "[encoded data removed]",
      "text/plain": [
       "<Figure size 432x288 with 1 Axes>"
      ]
     },
     "metadata": {},
     "output_type": "display_data"
    }
   ],
   "source": [
    "df.Price.hist(bins=100)"
   ]
  },
  {
   "cell_type": "markdown",
   "metadata": {},
   "source": [
    "LEVY:"
   ]
  },
  {
   "cell_type": "code",
   "execution_count": 17,
   "metadata": {},
   "outputs": [],
   "source": [
    "df=df.drop('Levy ($)',axis=1)"
   ]
  },
  {
   "cell_type": "markdown",
   "metadata": {},
   "source": [
    "MANUFACTURER"
   ]
  },
  {
   "cell_type": "code",
   "execution_count": 18,
   "metadata": {},
   "outputs": [],
   "source": [
    "df1=pd.DataFrame(df['Manufacturer'].value_counts())\n",
    "Top20=list(df1.head(20).index)\n",
    "df['Manufacturer']=np.where(~df['Manufacturer'].isin(Top20),'Other',df['Manufacturer'])"
   ]
  },
  {
   "cell_type": "code",
   "execution_count": 19,
   "metadata": {},
   "outputs": [
    {
     "data": {
      "text/plain": [
       "<matplotlib.axes._subplots.AxesSubplot at 0xf0336cbdc8>"
      ]
     },
     "execution_count": 19,
     "metadata": {},
     "output_type": "execute_result"
    },
    {
     "data": {
      "image/png": "[encoded data removed]",
      "text/plain": [
       "<Figure size 432x288 with 1 Axes>"
      ]
     },
     "metadata": {},
     "output_type": "display_data"
    }
   ],
   "source": [
    "sns.barplot(x='Manufacturer',y='Price',data=df,ci=None)"
   ]
  },
  {
   "cell_type": "markdown",
   "metadata": {},
   "source": [
    "MODEL:"
   ]
  },
  {
   "cell_type": "code",
   "execution_count": 20,
   "metadata": {},
   "outputs": [],
   "source": [
    "df=df.drop('Model',axis=1)"
   ]
  },
  {
   "cell_type": "markdown",
   "metadata": {},
   "source": [
    "YEAR:"
   ]
  },
  {
   "cell_type": "code",
   "execution_count": 21,
   "metadata": {},
   "outputs": [],
   "source": [
    "df.Year=2020-df.Year"
   ]
  },
  {
   "cell_type": "code",
   "execution_count": 22,
   "metadata": {},
   "outputs": [
    {
     "data": {
      "text/plain": [
       "<matplotlib.axes._subplots.AxesSubplot at 0xf033a40288>"
      ]
     },
     "execution_count": 22,
     "metadata": {},
     "output_type": "execute_result"
    },
    {
     "data": {
      "image/png": "[encoded data removed]",
      "text/plain": [
       "<Figure size 432x288 with 1 Axes>"
      ]
     },
     "metadata": {},
     "output_type": "display_data"
    }
   ],
   "source": [
    "sns.barplot(x='Year',y='Price',data=df,ci=None)"
   ]
  },
  {
   "cell_type": "code",
   "execution_count": 23,
   "metadata": {},
   "outputs": [],
   "source": [
    "df=df.drop(df[df['Year']>15].index)"
   ]
  },
  {
   "cell_type": "code",
   "execution_count": 24,
   "metadata": {},
   "outputs": [
    {
     "data": {
      "text/plain": [
       "<matplotlib.axes._subplots.AxesSubplot at 0xf03477c1c8>"
      ]
     },
     "execution_count": 24,
     "metadata": {},
     "output_type": "execute_result"
    },
    {
     "data": {
      "image/png": "[encoded data removed]",
      "text/plain": [
       "<Figure size 432x288 with 1 Axes>"
      ]
     },
     "metadata": {},
     "output_type": "display_data"
    }
   ],
   "source": [
    "sns.barplot(x='Year',y='Price',data=df,ci=None)"
   ]
  },
  {
   "cell_type": "markdown",
   "metadata": {},
   "source": [
    "CATEGORY:"
   ]
  },
  {
   "cell_type": "code",
   "execution_count": 25,
   "metadata": {},
   "outputs": [
    {
     "data": {
      "text/plain": [
       "Sedan          13570\n",
       "Jeep            8854\n",
       "Hatchback       4830\n",
       "Minivan          949\n",
       "Coupe            708\n",
       "Universal        535\n",
       "Microbus         290\n",
       "Goods wagon      256\n",
       "Pickup            85\n",
       "Cabriolet         66\n",
       "Limousine          4\n",
       "Name: Category, dtype: int64"
      ]
     },
     "execution_count": 25,
     "metadata": {},
     "output_type": "execute_result"
    }
   ],
   "source": [
    "df.Category.value_counts()"
   ]
  },
  {
   "cell_type": "code",
   "execution_count": 26,
   "metadata": {},
   "outputs": [
    {
     "data": {
      "text/plain": [
       "<matplotlib.axes._subplots.AxesSubplot at 0xf034178fc8>"
      ]
     },
     "execution_count": 26,
     "metadata": {},
     "output_type": "execute_result"
    },
    {
     "data": {
      "image/png": "[encoded data removed]",
      "text/plain": [
       "<Figure size 432x288 with 1 Axes>"
      ]
     },
     "metadata": {},
     "output_type": "display_data"
    }
   ],
   "source": [
    "sns.barplot(x='Category',y='Price',data=df,ci=None)"
   ]
  },
  {
   "cell_type": "markdown",
   "metadata": {},
   "source": [
    "LEATHER INTERIOR:"
   ]
  },
  {
   "cell_type": "code",
   "execution_count": 27,
   "metadata": {},
   "outputs": [],
   "source": [
    "df['Leather interior']=np.where(df['Leather interior']=='No',0,1)"
   ]
  },
  {
   "cell_type": "code",
   "execution_count": 28,
   "metadata": {},
   "outputs": [
    {
     "data": {
      "text/plain": [
       "<matplotlib.axes._subplots.AxesSubplot at 0xf0341f6588>"
      ]
     },
     "execution_count": 28,
     "metadata": {},
     "output_type": "execute_result"
    },
    {
     "data": {
      "image/png": "[encoded data removed]",
      "text/plain": [
       "<Figure size 432x288 with 1 Axes>"
      ]
     },
     "metadata": {},
     "output_type": "display_data"
    }
   ],
   "source": [
    "sns.barplot(x='Leather interior',y='Price',data=df,ci=None)"
   ]
  },
  {
   "cell_type": "markdown",
   "metadata": {},
   "source": [
    "FUEL TYPE:"
   ]
  },
  {
   "cell_type": "code",
   "execution_count": 29,
   "metadata": {},
   "outputs": [],
   "source": [
    "df=df.drop(df[df['Fuel type'].isna()].index)"
   ]
  },
  {
   "cell_type": "code",
   "execution_count": 30,
   "metadata": {},
   "outputs": [
    {
     "data": {
      "text/plain": [
       "Petrol            15660\n",
       "Diesel             6924\n",
       "Hybrid             5830\n",
       "LPG                1274\n",
       "Plug-in Hybrid      184\n",
       "CNG                 144\n",
       "Electric            113\n",
       "Hydrogen              2\n",
       "Name: Fuel type, dtype: int64"
      ]
     },
     "execution_count": 30,
     "metadata": {},
     "output_type": "execute_result"
    }
   ],
   "source": [
    "df['Fuel type'].value_counts()"
   ]
  },
  {
   "cell_type": "code",
   "execution_count": 31,
   "metadata": {},
   "outputs": [
    {
     "data": {
      "text/plain": [
       "<matplotlib.axes._subplots.AxesSubplot at 0xf034252ac8>"
      ]
     },
     "execution_count": 31,
     "metadata": {},
     "output_type": "execute_result"
    },
    {
     "data": {
      "image/png": "[encoded data removed]",
      "text/plain": [
       "<Figure size 432x288 with 1 Axes>"
      ]
     },
     "metadata": {},
     "output_type": "display_data"
    }
   ],
   "source": [
    "sns.barplot(x='Fuel type',y='Price',data=df,ci=None)"
   ]
  },
  {
   "cell_type": "markdown",
   "metadata": {},
   "source": [
    "ENGINE VOLUME:"
   ]
  },
  {
   "cell_type": "code",
   "execution_count": 32,
   "metadata": {},
   "outputs": [],
   "source": [
    "df['Engine volume'].fillna('0',inplace=True)"
   ]
  },
  {
   "cell_type": "code",
   "execution_count": 33,
   "metadata": {},
   "outputs": [],
   "source": [
    "Turbo=df['Engine volume']\n",
    "df['Turbo']=np.where(Turbo.str.contains('Turbo'),1,0)"
   ]
  },
  {
   "cell_type": "code",
   "execution_count": 34,
   "metadata": {},
   "outputs": [],
   "source": [
    "df['Engine volume']=df['Engine volume'].str.replace(' Turbo','')"
   ]
  },
  {
   "cell_type": "code",
   "execution_count": 35,
   "metadata": {
    "scrolled": false
   },
   "outputs": [
    {
     "data": {
      "text/plain": [
       "<matplotlib.axes._subplots.AxesSubplot at 0xf0343078c8>"
      ]
     },
     "execution_count": 35,
     "metadata": {},
     "output_type": "execute_result"
    },
    {
     "data": {
      "image/png": "[encoded data removed]",
      "text/plain": [
       "<Figure size 432x288 with 1 Axes>"
      ]
     },
     "metadata": {},
     "output_type": "display_data"
    }
   ],
   "source": [
    "sns.barplot(x='Turbo',y='Price',data=df,ci=None)"
   ]
  },
  {
   "cell_type": "code",
   "execution_count": 36,
   "metadata": {},
   "outputs": [],
   "source": [
    "convert={'Engine volume':float}\n",
    "df=df.astype(convert)"
   ]
  },
  {
   "cell_type": "code",
   "execution_count": 37,
   "metadata": {},
   "outputs": [
    {
     "data": {
      "text/plain": [
       "<matplotlib.axes._subplots.AxesSubplot at 0xf0337b91c8>"
      ]
     },
     "execution_count": 37,
     "metadata": {},
     "output_type": "execute_result"
    },
    {
     "data": {
      "image/png": "[encoded data removed]",
      "text/plain": [
       "<Figure size 432x288 with 1 Axes>"
      ]
     },
     "metadata": {},
     "output_type": "display_data"
    }
   ],
   "source": [
    "sns.barplot(x='Engine volume',y='Price',data=df,ci=None)"
   ]
  },
  {
   "cell_type": "markdown",
   "metadata": {},
   "source": [
    "MILEAGE:"
   ]
  },
  {
   "cell_type": "code",
   "execution_count": 38,
   "metadata": {},
   "outputs": [],
   "source": [
    "df.Mileage=df.Mileage.str.replace(' km','')"
   ]
  },
  {
   "cell_type": "code",
   "execution_count": 39,
   "metadata": {},
   "outputs": [],
   "source": [
    "df.Mileage=df.Mileage.str.replace(',','')"
   ]
  },
  {
   "cell_type": "code",
   "execution_count": 40,
   "metadata": {},
   "outputs": [],
   "source": [
    "convert={'Mileage':int}\n",
    "df=df.astype(convert)"
   ]
  },
  {
   "cell_type": "markdown",
   "metadata": {},
   "source": [
    "CYLINDERS"
   ]
  },
  {
   "cell_type": "code",
   "execution_count": 41,
   "metadata": {},
   "outputs": [],
   "source": [
    "df['Cylinders'].fillna(0,inplace=True)"
   ]
  },
  {
   "cell_type": "code",
   "execution_count": 42,
   "metadata": {},
   "outputs": [],
   "source": [
    "df=df.drop(df[df['Cylinders']>50].index)"
   ]
  },
  {
   "cell_type": "code",
   "execution_count": 43,
   "metadata": {},
   "outputs": [
    {
     "data": {
      "text/plain": [
       "<matplotlib.axes._subplots.AxesSubplot at 0xf034f89148>"
      ]
     },
     "execution_count": 43,
     "metadata": {},
     "output_type": "execute_result"
    },
    {
     "data": {
      "image/png": "[encoded data removed]",
      "text/plain": [
       "<Figure size 432x288 with 1 Axes>"
      ]
     },
     "metadata": {},
     "output_type": "display_data"
    }
   ],
   "source": [
    "sns.barplot(x='Cylinders',y='Price',data=df,ci=None)"
   ]
  },
  {
   "cell_type": "markdown",
   "metadata": {},
   "source": [
    "TYPE GEAR BOX"
   ]
  },
  {
   "cell_type": "code",
   "execution_count": 44,
   "metadata": {
    "scrolled": true
   },
   "outputs": [
    {
     "data": {
      "text/plain": [
       "Automatic    21101\n",
       "Tiptronic     5756\n",
       "Variator      1646\n",
       "Manual        1627\n",
       "Name: Typegearbox, dtype: int64"
      ]
     },
     "execution_count": 44,
     "metadata": {},
     "output_type": "execute_result"
    }
   ],
   "source": [
    "df.Typegearbox.value_counts()"
   ]
  },
  {
   "cell_type": "code",
   "execution_count": 45,
   "metadata": {},
   "outputs": [
    {
     "data": {
      "text/plain": [
       "<matplotlib.axes._subplots.AxesSubplot at 0xf034c95b88>"
      ]
     },
     "execution_count": 45,
     "metadata": {},
     "output_type": "execute_result"
    },
    {
     "data": {
      "image/png": "[encoded data removed]",
      "text/plain": [
       "<Figure size 432x288 with 1 Axes>"
      ]
     },
     "metadata": {},
     "output_type": "display_data"
    }
   ],
   "source": [
    "sns.barplot(x='Typegearbox',y='Price',data=df,ci=None)"
   ]
  },
  {
   "cell_type": "markdown",
   "metadata": {},
   "source": [
    "DRIVE WHEELS"
   ]
  },
  {
   "cell_type": "code",
   "execution_count": 46,
   "metadata": {},
   "outputs": [],
   "source": [
    "df['Drive wheels'].fillna('Auto',inplace=True)"
   ]
  },
  {
   "cell_type": "code",
   "execution_count": 47,
   "metadata": {
    "scrolled": true
   },
   "outputs": [
    {
     "data": {
      "text/plain": [
       "Front    22001\n",
       "4x4       5485\n",
       "Rear      2581\n",
       "Auto        63\n",
       "Name: Drive wheels, dtype: int64"
      ]
     },
     "execution_count": 47,
     "metadata": {},
     "output_type": "execute_result"
    }
   ],
   "source": [
    "df['Drive wheels'].value_counts()"
   ]
  },
  {
   "cell_type": "code",
   "execution_count": 48,
   "metadata": {},
   "outputs": [
    {
     "data": {
      "text/plain": [
       "<matplotlib.axes._subplots.AxesSubplot at 0xf034cf8a88>"
      ]
     },
     "execution_count": 48,
     "metadata": {},
     "output_type": "execute_result"
    },
    {
     "data": {
      "image/png": "[encoded data removed]",
      "text/plain": [
       "<Figure size 432x288 with 1 Axes>"
      ]
     },
     "metadata": {},
     "output_type": "display_data"
    }
   ],
   "source": [
    "sns.barplot(x='Drive wheels',y='Price',data=df,ci=None)"
   ]
  },
  {
   "cell_type": "markdown",
   "metadata": {},
   "source": [
    "DOORS:"
   ]
  },
  {
   "cell_type": "code",
   "execution_count": 49,
   "metadata": {},
   "outputs": [],
   "source": [
    "doors={'Cabriolet':'2/3','Coupe':'2/3','Goods wagon':'4/5','Hatchback':'4/5','Jeep':'4/5','Limousine':'4/5','Microbus':'4/5','Minivan':'4/5','Pickup':'4/5','Sedan':'4/5','Universal':'4/5'}"
   ]
  },
  {
   "cell_type": "code",
   "execution_count": 50,
   "metadata": {},
   "outputs": [],
   "source": [
    "df['Doors'].fillna('0',inplace=True)\n",
    "df['doors']=df[\"Category\"].map(doors)\n",
    "df['Doors'] = df.apply(lambda row: row['doors'] if row['Doors']=='0' else row['Doors'], axis=1)"
   ]
  },
  {
   "cell_type": "code",
   "execution_count": 51,
   "metadata": {},
   "outputs": [
    {
     "data": {
      "text/plain": [
       "<matplotlib.axes._subplots.AxesSubplot at 0xf034e43948>"
      ]
     },
     "execution_count": 51,
     "metadata": {},
     "output_type": "execute_result"
    },
    {
     "data": {
      "image/png": "[encoded data removed]",
      "text/plain": [
       "<Figure size 432x288 with 1 Axes>"
      ]
     },
     "metadata": {},
     "output_type": "display_data"
    }
   ],
   "source": [
    "sns.barplot(x='Doors',y='Price',data=df,ci=None)"
   ]
  },
  {
   "cell_type": "markdown",
   "metadata": {},
   "source": [
    "WHEEL"
   ]
  },
  {
   "cell_type": "code",
   "execution_count": 52,
   "metadata": {},
   "outputs": [],
   "source": [
    "df=df.drop('Wheel',axis=1)"
   ]
  },
  {
   "cell_type": "markdown",
   "metadata": {},
   "source": [
    "COLOR:"
   ]
  },
  {
   "cell_type": "code",
   "execution_count": 53,
   "metadata": {},
   "outputs": [],
   "source": [
    "df.Color.fillna('Other', inplace = True)\n",
    "dct = {'Grey' : 'Grey', 'White' : 'White', 'Black' : 'Black', 'Silver' : 'Silver', 'Red' : 'Other', 'Yellow': 'Other',\n",
    "       'Carnelian red' : 'Other', 'Blue' : 'Other', 'Golden' : 'Other', 'Beige' : 'Other', 'Brown' : 'Other', 'Green' : 'Other',\n",
    "       'Purple' : 'Other', 'Sky blue' : 'Other', 'Orange' : 'Other', 'Pink' : 'Other'}\n",
    "df.Color = df.Color.map(dct)"
   ]
  },
  {
   "cell_type": "code",
   "execution_count": 54,
   "metadata": {},
   "outputs": [
    {
     "data": {
      "text/plain": [
       "Black     7905\n",
       "White     7317\n",
       "Silver    5685\n",
       "Other     5085\n",
       "Grey      3934\n",
       "Name: Color, dtype: int64"
      ]
     },
     "execution_count": 54,
     "metadata": {},
     "output_type": "execute_result"
    }
   ],
   "source": [
    "df.Color.value_counts()"
   ]
  },
  {
   "cell_type": "code",
   "execution_count": 55,
   "metadata": {},
   "outputs": [
    {
     "data": {
      "text/plain": [
       "<matplotlib.axes._subplots.AxesSubplot at 0xf035b6e788>"
      ]
     },
     "execution_count": 55,
     "metadata": {},
     "output_type": "execute_result"
    },
    {
     "data": {
      "image/png": "[encoded data removed]",
      "text/plain": [
       "<Figure size 432x288 with 1 Axes>"
      ]
     },
     "metadata": {},
     "output_type": "display_data"
    }
   ],
   "source": [
    "sns.barplot(x=df.Color,y=df.Price)"
   ]
  },
  {
   "cell_type": "markdown",
   "metadata": {},
   "source": [
    "INTERIOR COLOR"
   ]
  },
  {
   "cell_type": "code",
   "execution_count": 56,
   "metadata": {},
   "outputs": [],
   "source": [
    "df=df.drop('Interior color',axis=1)"
   ]
  },
  {
   "cell_type": "markdown",
   "metadata": {},
   "source": [
    "VIN"
   ]
  },
  {
   "cell_type": "code",
   "execution_count": 57,
   "metadata": {},
   "outputs": [],
   "source": [
    "df=df.drop('VIN',axis=1)"
   ]
  },
  {
   "cell_type": "markdown",
   "metadata": {},
   "source": [
    "DUMMIES"
   ]
  },
  {
   "cell_type": "code",
   "execution_count": 58,
   "metadata": {},
   "outputs": [],
   "source": [
    "Man_df=pd.get_dummies(df['Manufacturer'], drop_first=True)\n",
    "Man_df.columns=['Manufacturer'+i for i in Man_df]\n",
    "df=pd.concat([df,Man_df],axis=1)"
   ]
  },
  {
   "cell_type": "code",
   "execution_count": 59,
   "metadata": {},
   "outputs": [],
   "source": [
    "df=df.drop('Manufacturer',axis=1)"
   ]
  },
  {
   "cell_type": "code",
   "execution_count": 60,
   "metadata": {},
   "outputs": [],
   "source": [
    "Cat_df=pd.get_dummies(df['Category'], drop_first=True)\n",
    "Cat_df.columns=['Category'+i for i in Cat_df]\n",
    "df=pd.concat([df,Cat_df],axis=1)"
   ]
  },
  {
   "cell_type": "code",
   "execution_count": 61,
   "metadata": {},
   "outputs": [],
   "source": [
    "df=df.drop('Category',axis=1)"
   ]
  },
  {
   "cell_type": "code",
   "execution_count": 62,
   "metadata": {},
   "outputs": [],
   "source": [
    "Fuel_df=pd.get_dummies(df['Fuel type'], drop_first=True)\n",
    "Fuel_df.columns=['Fuel type'+i for i in Fuel_df]\n",
    "df=pd.concat([df,Fuel_df],axis=1)"
   ]
  },
  {
   "cell_type": "code",
   "execution_count": 63,
   "metadata": {},
   "outputs": [],
   "source": [
    "df=df.drop('Fuel type',axis=1)"
   ]
  },
  {
   "cell_type": "code",
   "execution_count": 64,
   "metadata": {},
   "outputs": [],
   "source": [
    "Gear_df=pd.get_dummies(df['Typegearbox'], drop_first=True)\n",
    "Gear_df.columns=['Typegearbox'+i for i in Gear_df]\n",
    "df=pd.concat([df,Gear_df],axis=1)"
   ]
  },
  {
   "cell_type": "code",
   "execution_count": 65,
   "metadata": {},
   "outputs": [],
   "source": [
    "df=df.drop('Typegearbox',axis=1)"
   ]
  },
  {
   "cell_type": "code",
   "execution_count": 66,
   "metadata": {},
   "outputs": [],
   "source": [
    "Drive_df=pd.get_dummies(df['Drive wheels'], drop_first=True)\n",
    "Drive_df.columns=['Drive wheels'+i for i in Drive_df]\n",
    "df=pd.concat([df,Drive_df],axis=1)"
   ]
  },
  {
   "cell_type": "code",
   "execution_count": 67,
   "metadata": {},
   "outputs": [],
   "source": [
    "df=df.drop('Drive wheels',axis=1)"
   ]
  },
  {
   "cell_type": "code",
   "execution_count": 68,
   "metadata": {},
   "outputs": [],
   "source": [
    "Doors_df=pd.get_dummies(df['Doors'], drop_first=True)\n",
    "Doors_df.columns=['Doors'+i for i in Doors_df]\n",
    "df=pd.concat([df,Doors_df],axis=1)"
   ]
  },
  {
   "cell_type": "code",
   "execution_count": 69,
   "metadata": {},
   "outputs": [],
   "source": [
    "df=df.drop('Doors',axis=1)"
   ]
  },
  {
   "cell_type": "code",
   "execution_count": 70,
   "metadata": {},
   "outputs": [],
   "source": [
    "df=df.drop('doors',axis=1)"
   ]
  },
  {
   "cell_type": "code",
   "execution_count": 71,
   "metadata": {},
   "outputs": [],
   "source": [
    "Color_df=pd.get_dummies(df['Color'], drop_first=True)\n",
    "Color_df.columns=['Color'+i for i in Color_df]\n",
    "df=pd.concat([df,Color_df],axis=1)"
   ]
  },
  {
   "cell_type": "code",
   "execution_count": 72,
   "metadata": {},
   "outputs": [],
   "source": [
    "df=df.drop('Color',axis=1)"
   ]
  },
  {
   "cell_type": "code",
   "execution_count": 73,
   "metadata": {},
   "outputs": [],
   "source": [
    "df=df.astype(float)"
   ]
  },
  {
   "cell_type": "markdown",
   "metadata": {},
   "source": [
    "## Modeling"
   ]
  },
  {
   "cell_type": "code",
   "execution_count": 74,
   "metadata": {},
   "outputs": [],
   "source": [
    "import statsmodels.api as sm\n",
    "from statsmodels.tools.tools import add_constant"
   ]
  },
  {
   "cell_type": "code",
   "execution_count": 75,
   "metadata": {
    "scrolled": false
   },
   "outputs": [
    {
     "data": {
      "text/plain": [
       "Year                        -0.376853\n",
       "CategoryHatchback           -0.204258\n",
       "Fuel typeHybrid             -0.198170\n",
       "CategorySedan               -0.185967\n",
       "Drive wheelsFront           -0.139979\n",
       "ManufacturerTOYOTA          -0.124594\n",
       "Fuel typeLPG                -0.104720\n",
       "TypegearboxVariator         -0.093528\n",
       "ManufacturerNISSAN          -0.087062\n",
       "ManufacturerVOLKSWAGEN      -0.085668\n",
       "ManufacturerDAEWOO          -0.077045\n",
       "ManufacturerCHEVROLET       -0.075342\n",
       "ManufacturerSUBARU          -0.071766\n",
       "ManufacturerOPEL            -0.071600\n",
       "ColorSilver                 -0.071093\n",
       "TypegearboxManual           -0.066924\n",
       "ColorOther                  -0.065164\n",
       "ManufacturerHONDA           -0.056396\n",
       "CategoryGoods wagon         -0.050693\n",
       "ManufacturerKIA             -0.039679\n",
       "ManufacturerFORD            -0.037499\n",
       "Airbags                     -0.030478\n",
       "ManufacturerFIAT            -0.028890\n",
       "ManufacturerMAZDA           -0.018729\n",
       "ManufacturerMITSUBISHI      -0.016318\n",
       "ManufacturerOther           -0.008317\n",
       "Mileage                     -0.007565\n",
       "Fuel typeElectric           -0.007265\n",
       "Doors4/5                    -0.005710\n",
       "Fuel typeHydrogen           -0.001976\n",
       "Drive wheelsAuto             0.002287\n",
       "CategoryLimousine            0.002457\n",
       "ColorWhite                   0.004786\n",
       "Fuel typePetrol              0.009349\n",
       "Fuel typePlug-in Hybrid      0.015150\n",
       "Doors>5                      0.023933\n",
       "CategoryCoupe                0.024167\n",
       "CategoryMinivan              0.024611\n",
       "CategoryMicrobus             0.026001\n",
       "CategoryPickup               0.041596\n",
       "CategoryUniversal            0.045024\n",
       "ManufacturerJEEP             0.055507\n",
       "ColorGrey                    0.056469\n",
       "Drive wheelsRear             0.076499\n",
       "ManufacturerLEXUS            0.091335\n",
       "ManufacturerBMW              0.092995\n",
       "ManufacturerMERCEDES-BENZ    0.096197\n",
       "ManufacturerSSANGYONG        0.096784\n",
       "Turbo                        0.123143\n",
       "TypegearboxTiptronic         0.131854\n",
       "Cylinders                    0.139688\n",
       "ManufacturerHYUNDAI          0.173198\n",
       "Leather interior             0.195032\n",
       "Engine volume                0.202036\n",
       "Fuel typeDiesel              0.228234\n",
       "CategoryJeep                 0.333847\n",
       "Price                        1.000000\n",
       "Name: Price, dtype: float64"
      ]
     },
     "execution_count": 75,
     "metadata": {},
     "output_type": "execute_result"
    }
   ],
   "source": [
    "df.corr().Price.sort_values()"
   ]
  },
  {
   "cell_type": "code",
   "execution_count": 76,
   "metadata": {},
   "outputs": [],
   "source": [
    "df1=df"
   ]
  },
  {
   "cell_type": "code",
   "execution_count": 77,
   "metadata": {},
   "outputs": [],
   "source": [
    "df1=df1.drop('Price',axis=1)"
   ]
  },
  {
   "cell_type": "code",
   "execution_count": 78,
   "metadata": {},
   "outputs": [],
   "source": [
    "liste=list(df1.columns)"
   ]
  },
  {
   "cell_type": "code",
   "execution_count": 79,
   "metadata": {
    "scrolled": true
   },
   "outputs": [
    {
     "data": {
      "text/html": [
       "<table class=\"simpletable\">\n",
       "<caption>OLS Regression Results</caption>\n",
       "<tr>\n",
       "  <th>Dep. Variable:</th>          <td>Price</td>      <th>  R-squared:         </th>  <td>   0.414</td>  \n",
       "</tr>\n",
       "<tr>\n",
       "  <th>Model:</th>                   <td>OLS</td>       <th>  Adj. R-squared:    </th>  <td>   0.413</td>  \n",
       "</tr>\n",
       "<tr>\n",
       "  <th>Method:</th>             <td>Least Squares</td>  <th>  F-statistic:       </th>  <td>   379.2</td>  \n",
       "</tr>\n",
       "<tr>\n",
       "  <th>Date:</th>             <td>Fri, 01 May 2020</td> <th>  Prob (F-statistic):</th>   <td>  0.00</td>   \n",
       "</tr>\n",
       "<tr>\n",
       "  <th>Time:</th>                 <td>19:03:55</td>     <th>  Log-Likelihood:    </th> <td>-3.2310e+05</td>\n",
       "</tr>\n",
       "<tr>\n",
       "  <th>No. Observations:</th>      <td> 30130</td>      <th>  AIC:               </th>  <td>6.463e+05</td> \n",
       "</tr>\n",
       "<tr>\n",
       "  <th>Df Residuals:</th>          <td> 30073</td>      <th>  BIC:               </th>  <td>6.468e+05</td> \n",
       "</tr>\n",
       "<tr>\n",
       "  <th>Df Model:</th>              <td>    56</td>      <th>                     </th>      <td> </td>     \n",
       "</tr>\n",
       "<tr>\n",
       "  <th>Covariance Type:</th>      <td>nonrobust</td>    <th>                     </th>      <td> </td>     \n",
       "</tr>\n",
       "</table>\n",
       "<table class=\"simpletable\">\n",
       "<tr>\n",
       "              <td></td>                 <th>coef</th>     <th>std err</th>      <th>t</th>      <th>P>|t|</th>  <th>[0.025</th>    <th>0.975]</th>  \n",
       "</tr>\n",
       "<tr>\n",
       "  <th>const</th>                     <td> 3.128e+04</td> <td> 1819.570</td> <td>   17.192</td> <td> 0.000</td> <td> 2.77e+04</td> <td> 3.48e+04</td>\n",
       "</tr>\n",
       "<tr>\n",
       "  <th>Year</th>                      <td>-1807.1553</td> <td>   21.839</td> <td>  -82.748</td> <td> 0.000</td> <td>-1849.961</td> <td>-1764.349</td>\n",
       "</tr>\n",
       "<tr>\n",
       "  <th>Leather interior</th>          <td>  657.6840</td> <td>  176.630</td> <td>    3.724</td> <td> 0.000</td> <td>  311.481</td> <td> 1003.887</td>\n",
       "</tr>\n",
       "<tr>\n",
       "  <th>Engine volume</th>             <td> 2016.9657</td> <td>  139.955</td> <td>   14.412</td> <td> 0.000</td> <td> 1742.648</td> <td> 2291.284</td>\n",
       "</tr>\n",
       "<tr>\n",
       "  <th>Mileage</th>                   <td> 1.175e-06</td> <td> 1.52e-06</td> <td>    0.774</td> <td> 0.439</td> <td> -1.8e-06</td> <td> 4.15e-06</td>\n",
       "</tr>\n",
       "<tr>\n",
       "  <th>Cylinders</th>                 <td>  432.0636</td> <td>   94.594</td> <td>    4.568</td> <td> 0.000</td> <td>  246.656</td> <td>  617.471</td>\n",
       "</tr>\n",
       "<tr>\n",
       "  <th>Airbags</th>                   <td> -329.7882</td> <td>   18.253</td> <td>  -18.068</td> <td> 0.000</td> <td> -365.564</td> <td> -294.012</td>\n",
       "</tr>\n",
       "<tr>\n",
       "  <th>Turbo</th>                     <td> 6520.5465</td> <td>  248.146</td> <td>   26.277</td> <td> 0.000</td> <td> 6034.170</td> <td> 7006.923</td>\n",
       "</tr>\n",
       "<tr>\n",
       "  <th>ManufacturerBMW</th>           <td> 5998.3434</td> <td>  613.256</td> <td>    9.781</td> <td> 0.000</td> <td> 4796.336</td> <td> 7200.351</td>\n",
       "</tr>\n",
       "<tr>\n",
       "  <th>ManufacturerCHEVROLET</th>     <td> -580.9620</td> <td>  606.829</td> <td>   -0.957</td> <td> 0.338</td> <td>-1770.373</td> <td>  608.449</td>\n",
       "</tr>\n",
       "<tr>\n",
       "  <th>ManufacturerDAEWOO</th>        <td>  684.3689</td> <td> 1008.001</td> <td>    0.679</td> <td> 0.497</td> <td>-1291.356</td> <td> 2660.094</td>\n",
       "</tr>\n",
       "<tr>\n",
       "  <th>ManufacturerFIAT</th>          <td> -615.2868</td> <td> 1079.849</td> <td>   -0.570</td> <td> 0.569</td> <td>-2731.838</td> <td> 1501.264</td>\n",
       "</tr>\n",
       "<tr>\n",
       "  <th>ManufacturerFORD</th>          <td> 3044.9334</td> <td>  599.200</td> <td>    5.082</td> <td> 0.000</td> <td> 1870.475</td> <td> 4219.391</td>\n",
       "</tr>\n",
       "<tr>\n",
       "  <th>ManufacturerHONDA</th>         <td> 6757.2252</td> <td>  622.412</td> <td>   10.857</td> <td> 0.000</td> <td> 5537.271</td> <td> 7977.179</td>\n",
       "</tr>\n",
       "<tr>\n",
       "  <th>ManufacturerHYUNDAI</th>       <td> 7719.3407</td> <td>  568.159</td> <td>   13.587</td> <td> 0.000</td> <td> 6605.725</td> <td> 8832.956</td>\n",
       "</tr>\n",
       "<tr>\n",
       "  <th>ManufacturerJEEP</th>          <td> 9207.9051</td> <td>  858.659</td> <td>   10.724</td> <td> 0.000</td> <td> 7524.897</td> <td> 1.09e+04</td>\n",
       "</tr>\n",
       "<tr>\n",
       "  <th>ManufacturerKIA</th>           <td> 1006.6668</td> <td>  681.210</td> <td>    1.478</td> <td> 0.139</td> <td> -328.535</td> <td> 2341.868</td>\n",
       "</tr>\n",
       "<tr>\n",
       "  <th>ManufacturerLEXUS</th>         <td> 8380.3767</td> <td>  618.055</td> <td>   13.559</td> <td> 0.000</td> <td> 7168.963</td> <td> 9591.791</td>\n",
       "</tr>\n",
       "<tr>\n",
       "  <th>ManufacturerMAZDA</th>         <td> 2298.1667</td> <td>  995.810</td> <td>    2.308</td> <td> 0.021</td> <td>  346.335</td> <td> 4249.998</td>\n",
       "</tr>\n",
       "<tr>\n",
       "  <th>ManufacturerMERCEDES-BENZ</th> <td> 6001.2555</td> <td>  573.702</td> <td>   10.461</td> <td> 0.000</td> <td> 4876.776</td> <td> 7125.735</td>\n",
       "</tr>\n",
       "<tr>\n",
       "  <th>ManufacturerMITSUBISHI</th>    <td> 2322.2618</td> <td>  874.311</td> <td>    2.656</td> <td> 0.008</td> <td>  608.576</td> <td> 4035.948</td>\n",
       "</tr>\n",
       "<tr>\n",
       "  <th>ManufacturerNISSAN</th>        <td> 1757.3266</td> <td>  621.811</td> <td>    2.826</td> <td> 0.005</td> <td>  538.551</td> <td> 2976.103</td>\n",
       "</tr>\n",
       "<tr>\n",
       "  <th>ManufacturerOPEL</th>          <td> 1346.3845</td> <td>  907.511</td> <td>    1.484</td> <td> 0.138</td> <td> -432.376</td> <td> 3125.145</td>\n",
       "</tr>\n",
       "<tr>\n",
       "  <th>ManufacturerOther</th>         <td> 3993.0124</td> <td>  639.183</td> <td>    6.247</td> <td> 0.000</td> <td> 2740.186</td> <td> 5245.839</td>\n",
       "</tr>\n",
       "<tr>\n",
       "  <th>ManufacturerSSANGYONG</th>     <td> 7857.5577</td> <td>  726.868</td> <td>   10.810</td> <td> 0.000</td> <td> 6432.865</td> <td> 9282.250</td>\n",
       "</tr>\n",
       "<tr>\n",
       "  <th>ManufacturerSUBARU</th>        <td>-3950.2909</td> <td>  707.401</td> <td>   -5.584</td> <td> 0.000</td> <td>-5336.827</td> <td>-2563.755</td>\n",
       "</tr>\n",
       "<tr>\n",
       "  <th>ManufacturerTOYOTA</th>        <td> 6768.7150</td> <td>  566.700</td> <td>   11.944</td> <td> 0.000</td> <td> 5657.960</td> <td> 7879.470</td>\n",
       "</tr>\n",
       "<tr>\n",
       "  <th>ManufacturerVOLKSWAGEN</th>    <td>-3000.5351</td> <td>  640.350</td> <td>   -4.686</td> <td> 0.000</td> <td>-4255.649</td> <td>-1745.421</td>\n",
       "</tr>\n",
       "<tr>\n",
       "  <th>CategoryCoupe</th>             <td>-5858.7948</td> <td> 1420.369</td> <td>   -4.125</td> <td> 0.000</td> <td>-8642.779</td> <td>-3074.810</td>\n",
       "</tr>\n",
       "<tr>\n",
       "  <th>CategoryGoods wagon</th>       <td>-1.257e+04</td> <td> 1603.034</td> <td>   -7.841</td> <td> 0.000</td> <td>-1.57e+04</td> <td>-9426.717</td>\n",
       "</tr>\n",
       "<tr>\n",
       "  <th>CategoryHatchback</th>         <td> -1.03e+04</td> <td> 1431.956</td> <td>   -7.195</td> <td> 0.000</td> <td>-1.31e+04</td> <td>-7496.283</td>\n",
       "</tr>\n",
       "<tr>\n",
       "  <th>CategoryJeep</th>              <td>-3209.9833</td> <td> 1429.470</td> <td>   -2.246</td> <td> 0.025</td> <td>-6011.805</td> <td> -408.161</td>\n",
       "</tr>\n",
       "<tr>\n",
       "  <th>CategoryLimousine</th>         <td>-7319.1199</td> <td> 5696.604</td> <td>   -1.285</td> <td> 0.199</td> <td>-1.85e+04</td> <td> 3846.469</td>\n",
       "</tr>\n",
       "<tr>\n",
       "  <th>CategoryMicrobus</th>          <td>-6038.4740</td> <td> 1585.476</td> <td>   -3.809</td> <td> 0.000</td> <td>-9146.076</td> <td>-2930.873</td>\n",
       "</tr>\n",
       "<tr>\n",
       "  <th>CategoryMinivan</th>           <td>-7015.4613</td> <td> 1468.065</td> <td>   -4.779</td> <td> 0.000</td> <td>-9892.931</td> <td>-4137.991</td>\n",
       "</tr>\n",
       "<tr>\n",
       "  <th>CategoryPickup</th>            <td> 1615.4799</td> <td> 1872.432</td> <td>    0.863</td> <td> 0.388</td> <td>-2054.567</td> <td> 5285.527</td>\n",
       "</tr>\n",
       "<tr>\n",
       "  <th>CategorySedan</th>             <td>-1.106e+04</td> <td> 1420.022</td> <td>   -7.791</td> <td> 0.000</td> <td>-1.38e+04</td> <td>-8279.948</td>\n",
       "</tr>\n",
       "<tr>\n",
       "  <th>CategoryUniversal</th>         <td>-4857.3509</td> <td> 1503.405</td> <td>   -3.231</td> <td> 0.001</td> <td>-7804.089</td> <td>-1910.613</td>\n",
       "</tr>\n",
       "<tr>\n",
       "  <th>Fuel typeDiesel</th>           <td> -967.6607</td> <td>  950.380</td> <td>   -1.018</td> <td> 0.309</td> <td>-2830.446</td> <td>  895.125</td>\n",
       "</tr>\n",
       "<tr>\n",
       "  <th>Fuel typeElectric</th>         <td> 6979.5415</td> <td> 1440.266</td> <td>    4.846</td> <td> 0.000</td> <td> 4156.559</td> <td> 9802.524</td>\n",
       "</tr>\n",
       "<tr>\n",
       "  <th>Fuel typeHybrid</th>           <td>-6518.7930</td> <td>  958.409</td> <td>   -6.802</td> <td> 0.000</td> <td>-8397.317</td> <td>-4640.269</td>\n",
       "</tr>\n",
       "<tr>\n",
       "  <th>Fuel typeHydrogen</th>         <td>-4152.2026</td> <td> 7843.249</td> <td>   -0.529</td> <td> 0.597</td> <td>-1.95e+04</td> <td> 1.12e+04</td>\n",
       "</tr>\n",
       "<tr>\n",
       "  <th>Fuel typeLPG</th>              <td>-1.056e+04</td> <td>  992.290</td> <td>  -10.641</td> <td> 0.000</td> <td>-1.25e+04</td> <td>-8614.334</td>\n",
       "</tr>\n",
       "<tr>\n",
       "  <th>Fuel typePetrol</th>           <td>-3582.3012</td> <td>  939.071</td> <td>   -3.815</td> <td> 0.000</td> <td>-5422.920</td> <td>-1741.682</td>\n",
       "</tr>\n",
       "<tr>\n",
       "  <th>Fuel typePlug-in Hybrid</th>   <td> 5623.6449</td> <td> 1257.690</td> <td>    4.471</td> <td> 0.000</td> <td> 3158.519</td> <td> 8088.771</td>\n",
       "</tr>\n",
       "<tr>\n",
       "  <th>TypegearboxManual</th>         <td> 2521.1537</td> <td>  390.574</td> <td>    6.455</td> <td> 0.000</td> <td> 1755.611</td> <td> 3286.696</td>\n",
       "</tr>\n",
       "<tr>\n",
       "  <th>TypegearboxTiptronic</th>      <td> 7010.2510</td> <td>  195.081</td> <td>   35.935</td> <td> 0.000</td> <td> 6627.883</td> <td> 7392.619</td>\n",
       "</tr>\n",
       "<tr>\n",
       "  <th>TypegearboxVariator</th>       <td> 4336.0683</td> <td>  307.197</td> <td>   14.115</td> <td> 0.000</td> <td> 3733.949</td> <td> 4938.187</td>\n",
       "</tr>\n",
       "<tr>\n",
       "  <th>Drive wheelsAuto</th>          <td>-7892.5417</td> <td> 1420.239</td> <td>   -5.557</td> <td> 0.000</td> <td>-1.07e+04</td> <td>-5108.812</td>\n",
       "</tr>\n",
       "<tr>\n",
       "  <th>Drive wheelsFront</th>         <td> 1181.2023</td> <td>  276.224</td> <td>    4.276</td> <td> 0.000</td> <td>  639.791</td> <td> 1722.614</td>\n",
       "</tr>\n",
       "<tr>\n",
       "  <th>Drive wheelsRear</th>          <td> 2336.9038</td> <td>  320.944</td> <td>    7.281</td> <td> 0.000</td> <td> 1707.839</td> <td> 2965.969</td>\n",
       "</tr>\n",
       "<tr>\n",
       "  <th>Doors4/5</th>                  <td> 2600.9822</td> <td>  514.269</td> <td>    5.058</td> <td> 0.000</td> <td> 1592.994</td> <td> 3608.971</td>\n",
       "</tr>\n",
       "<tr>\n",
       "  <th>Doors>5</th>                   <td> 6335.7748</td> <td>  897.048</td> <td>    7.063</td> <td> 0.000</td> <td> 4577.522</td> <td> 8094.027</td>\n",
       "</tr>\n",
       "<tr>\n",
       "  <th>ColorGrey</th>                 <td>  557.2437</td> <td>  217.215</td> <td>    2.565</td> <td> 0.010</td> <td>  131.494</td> <td>  982.994</td>\n",
       "</tr>\n",
       "<tr>\n",
       "  <th>ColorOther</th>                <td> -497.6218</td> <td>  203.797</td> <td>   -2.442</td> <td> 0.015</td> <td> -897.073</td> <td>  -98.171</td>\n",
       "</tr>\n",
       "<tr>\n",
       "  <th>ColorSilver</th>               <td>-1127.1528</td> <td>  197.095</td> <td>   -5.719</td> <td> 0.000</td> <td>-1513.468</td> <td> -740.838</td>\n",
       "</tr>\n",
       "<tr>\n",
       "  <th>ColorWhite</th>                <td> -476.4688</td> <td>  183.875</td> <td>   -2.591</td> <td> 0.010</td> <td> -836.873</td> <td> -116.065</td>\n",
       "</tr>\n",
       "</table>\n",
       "<table class=\"simpletable\">\n",
       "<tr>\n",
       "  <th>Omnibus:</th>       <td>3110.516</td> <th>  Durbin-Watson:     </th> <td>   1.376</td>\n",
       "</tr>\n",
       "<tr>\n",
       "  <th>Prob(Omnibus):</th>  <td> 0.000</td>  <th>  Jarque-Bera (JB):  </th> <td>7018.293</td>\n",
       "</tr>\n",
       "<tr>\n",
       "  <th>Skew:</th>           <td> 0.637</td>  <th>  Prob(JB):          </th> <td>    0.00</td>\n",
       "</tr>\n",
       "<tr>\n",
       "  <th>Kurtosis:</th>       <td> 4.992</td>  <th>  Cond. No.          </th> <td>5.19e+09</td>\n",
       "</tr>\n",
       "</table><br/><br/>Warnings:<br/>[1] Standard Errors assume that the covariance matrix of the errors is correctly specified.<br/>[2] The condition number is large, 5.19e+09. This might indicate that there are<br/>strong multicollinearity or other numerical problems."
      ],
      "text/plain": [
       "<class 'statsmodels.iolib.summary.Summary'>\n",
       "\"\"\"\n",
       "                            OLS Regression Results                            \n",
       "==============================================================================\n",
       "Dep. Variable:                  Price   R-squared:                       0.414\n",
       "Model:                            OLS   Adj. R-squared:                  0.413\n",
       "Method:                 Least Squares   F-statistic:                     379.2\n",
       "Date:                Fri, 01 May 2020   Prob (F-statistic):               0.00\n",
       "Time:                        19:03:55   Log-Likelihood:            -3.2310e+05\n",
       "No. Observations:               30130   AIC:                         6.463e+05\n",
       "Df Residuals:                   30073   BIC:                         6.468e+05\n",
       "Df Model:                          56                                         \n",
       "Covariance Type:            nonrobust                                         \n",
       "=============================================================================================\n",
       "                                coef    std err          t      P>|t|      [0.025      0.975]\n",
       "---------------------------------------------------------------------------------------------\n",
       "const                      3.128e+04   1819.570     17.192      0.000    2.77e+04    3.48e+04\n",
       "Year                      -1807.1553     21.839    -82.748      0.000   -1849.961   -1764.349\n",
       "Leather interior            657.6840    176.630      3.724      0.000     311.481    1003.887\n",
       "Engine volume              2016.9657    139.955     14.412      0.000    1742.648    2291.284\n",
       "Mileage                    1.175e-06   1.52e-06      0.774      0.439    -1.8e-06    4.15e-06\n",
       "Cylinders                   432.0636     94.594      4.568      0.000     246.656     617.471\n",
       "Airbags                    -329.7882     18.253    -18.068      0.000    -365.564    -294.012\n",
       "Turbo                      6520.5465    248.146     26.277      0.000    6034.170    7006.923\n",
       "ManufacturerBMW            5998.3434    613.256      9.781      0.000    4796.336    7200.351\n",
       "ManufacturerCHEVROLET      -580.9620    606.829     -0.957      0.338   -1770.373     608.449\n",
       "ManufacturerDAEWOO          684.3689   1008.001      0.679      0.497   -1291.356    2660.094\n",
       "ManufacturerFIAT           -615.2868   1079.849     -0.570      0.569   -2731.838    1501.264\n",
       "ManufacturerFORD           3044.9334    599.200      5.082      0.000    1870.475    4219.391\n",
       "ManufacturerHONDA          6757.2252    622.412     10.857      0.000    5537.271    7977.179\n",
       "ManufacturerHYUNDAI        7719.3407    568.159     13.587      0.000    6605.725    8832.956\n",
       "ManufacturerJEEP           9207.9051    858.659     10.724      0.000    7524.897    1.09e+04\n",
       "ManufacturerKIA            1006.6668    681.210      1.478      0.139    -328.535    2341.868\n",
       "ManufacturerLEXUS          8380.3767    618.055     13.559      0.000    7168.963    9591.791\n",
       "ManufacturerMAZDA          2298.1667    995.810      2.308      0.021     346.335    4249.998\n",
       "ManufacturerMERCEDES-BENZ  6001.2555    573.702     10.461      0.000    4876.776    7125.735\n",
       "ManufacturerMITSUBISHI     2322.2618    874.311      2.656      0.008     608.576    4035.948\n",
       "ManufacturerNISSAN         1757.3266    621.811      2.826      0.005     538.551    2976.103\n",
       "ManufacturerOPEL           1346.3845    907.511      1.484      0.138    -432.376    3125.145\n",
       "ManufacturerOther          3993.0124    639.183      6.247      0.000    2740.186    5245.839\n",
       "ManufacturerSSANGYONG      7857.5577    726.868     10.810      0.000    6432.865    9282.250\n",
       "ManufacturerSUBARU        -3950.2909    707.401     -5.584      0.000   -5336.827   -2563.755\n",
       "ManufacturerTOYOTA         6768.7150    566.700     11.944      0.000    5657.960    7879.470\n",
       "ManufacturerVOLKSWAGEN    -3000.5351    640.350     -4.686      0.000   -4255.649   -1745.421\n",
       "CategoryCoupe             -5858.7948   1420.369     -4.125      0.000   -8642.779   -3074.810\n",
       "CategoryGoods wagon       -1.257e+04   1603.034     -7.841      0.000   -1.57e+04   -9426.717\n",
       "CategoryHatchback          -1.03e+04   1431.956     -7.195      0.000   -1.31e+04   -7496.283\n",
       "CategoryJeep              -3209.9833   1429.470     -2.246      0.025   -6011.805    -408.161\n",
       "CategoryLimousine         -7319.1199   5696.604     -1.285      0.199   -1.85e+04    3846.469\n",
       "CategoryMicrobus          -6038.4740   1585.476     -3.809      0.000   -9146.076   -2930.873\n",
       "CategoryMinivan           -7015.4613   1468.065     -4.779      0.000   -9892.931   -4137.991\n",
       "CategoryPickup             1615.4799   1872.432      0.863      0.388   -2054.567    5285.527\n",
       "CategorySedan             -1.106e+04   1420.022     -7.791      0.000   -1.38e+04   -8279.948\n",
       "CategoryUniversal         -4857.3509   1503.405     -3.231      0.001   -7804.089   -1910.613\n",
       "Fuel typeDiesel            -967.6607    950.380     -1.018      0.309   -2830.446     895.125\n",
       "Fuel typeElectric          6979.5415   1440.266      4.846      0.000    4156.559    9802.524\n",
       "Fuel typeHybrid           -6518.7930    958.409     -6.802      0.000   -8397.317   -4640.269\n",
       "Fuel typeHydrogen         -4152.2026   7843.249     -0.529      0.597   -1.95e+04    1.12e+04\n",
       "Fuel typeLPG              -1.056e+04    992.290    -10.641      0.000   -1.25e+04   -8614.334\n",
       "Fuel typePetrol           -3582.3012    939.071     -3.815      0.000   -5422.920   -1741.682\n",
       "Fuel typePlug-in Hybrid    5623.6449   1257.690      4.471      0.000    3158.519    8088.771\n",
       "TypegearboxManual          2521.1537    390.574      6.455      0.000    1755.611    3286.696\n",
       "TypegearboxTiptronic       7010.2510    195.081     35.935      0.000    6627.883    7392.619\n",
       "TypegearboxVariator        4336.0683    307.197     14.115      0.000    3733.949    4938.187\n",
       "Drive wheelsAuto          -7892.5417   1420.239     -5.557      0.000   -1.07e+04   -5108.812\n",
       "Drive wheelsFront          1181.2023    276.224      4.276      0.000     639.791    1722.614\n",
       "Drive wheelsRear           2336.9038    320.944      7.281      0.000    1707.839    2965.969\n",
       "Doors4/5                   2600.9822    514.269      5.058      0.000    1592.994    3608.971\n",
       "Doors>5                    6335.7748    897.048      7.063      0.000    4577.522    8094.027\n",
       "ColorGrey                   557.2437    217.215      2.565      0.010     131.494     982.994\n",
       "ColorOther                 -497.6218    203.797     -2.442      0.015    -897.073     -98.171\n",
       "ColorSilver               -1127.1528    197.095     -5.719      0.000   -1513.468    -740.838\n",
       "ColorWhite                 -476.4688    183.875     -2.591      0.010    -836.873    -116.065\n",
       "==============================================================================\n",
       "Omnibus:                     3110.516   Durbin-Watson:                   1.376\n",
       "Prob(Omnibus):                  0.000   Jarque-Bera (JB):             7018.293\n",
       "Skew:                           0.637   Prob(JB):                         0.00\n",
       "Kurtosis:                       4.992   Cond. No.                     5.19e+09\n",
       "==============================================================================\n",
       "\n",
       "Warnings:\n",
       "[1] Standard Errors assume that the covariance matrix of the errors is correctly specified.\n",
       "[2] The condition number is large, 5.19e+09. This might indicate that there are\n",
       "strong multicollinearity or other numerical problems.\n",
       "\"\"\""
      ]
     },
     "execution_count": 79,
     "metadata": {},
     "output_type": "execute_result"
    }
   ],
   "source": [
    "y=df.Price\n",
    "XA=df[liste]\n",
    "model=sm.OLS(y,add_constant(XA)).fit()\n",
    "model.summary()"
   ]
  },
  {
   "cell_type": "code",
   "execution_count": 80,
   "metadata": {},
   "outputs": [],
   "source": [
    "df2=df1"
   ]
  },
  {
   "cell_type": "code",
   "execution_count": 81,
   "metadata": {},
   "outputs": [
    {
     "ename": "SyntaxError",
     "evalue": "invalid syntax (<ipython-input-81-63aec08b9232>, line 1)",
     "output_type": "error",
     "traceback": [
      "\u001b[1;36m  File \u001b[1;32m\"<ipython-input-81-63aec08b9232>\"\u001b[1;36m, line \u001b[1;32m1\u001b[0m\n\u001b[1;33m    =nudenveu\u001b[0m\n\u001b[1;37m    ^\u001b[0m\n\u001b[1;31mSyntaxError\u001b[0m\u001b[1;31m:\u001b[0m invalid syntax\n"
     ]
    }
   ],
   "source": [
    "=nudenveu"
   ]
  },
  {
   "cell_type": "code",
   "execution_count": 90,
   "metadata": {},
   "outputs": [],
   "source": [
    "df2=df2.drop('CategoryPickup',axis=1)"
   ]
  },
  {
   "cell_type": "code",
   "execution_count": 107,
   "metadata": {},
   "outputs": [],
   "source": [
    "df2=df2.drop('ManufacturerKIA',axis=1)"
   ]
  },
  {
   "cell_type": "code",
   "execution_count": 82,
   "metadata": {},
   "outputs": [],
   "source": [
    "df2=df2.drop('Fuel typeHydrogen',axis=1)"
   ]
  },
  {
   "cell_type": "code",
   "execution_count": 88,
   "metadata": {},
   "outputs": [],
   "source": [
    "df2=df2.drop('ManufacturerFIAT',axis=1)"
   ]
  },
  {
   "cell_type": "code",
   "execution_count": null,
   "metadata": {},
   "outputs": [],
   "source": [
    "df2=df2.drop('ColorGrey',axis=1)"
   ]
  },
  {
   "cell_type": "code",
   "execution_count": 99,
   "metadata": {},
   "outputs": [],
   "source": [
    "df2=df2.drop('Fuel typeDiesel',axis=1)"
   ]
  },
  {
   "cell_type": "code",
   "execution_count": 89,
   "metadata": {},
   "outputs": [],
   "source": [
    "df2=df2.drop('CategoryLimousine',axis=1)"
   ]
  },
  {
   "cell_type": "code",
   "execution_count": 106,
   "metadata": {},
   "outputs": [],
   "source": [
    "df2=df2.drop('ManufacturerMITSUBISHI',axis=1)"
   ]
  },
  {
   "cell_type": "code",
   "execution_count": 98,
   "metadata": {},
   "outputs": [],
   "source": [
    "df2=df2.drop('ManufacturerOPEL',axis=1)"
   ]
  },
  {
   "cell_type": "code",
   "execution_count": null,
   "metadata": {},
   "outputs": [],
   "source": [
    "df2=df2.drop('ManufacturerNISSAN',axis=1)"
   ]
  },
  {
   "cell_type": "code",
   "execution_count": 105,
   "metadata": {},
   "outputs": [],
   "source": [
    "df2=df2.drop('ManufacturerMAZDA',axis=1)"
   ]
  },
  {
   "cell_type": "code",
   "execution_count": null,
   "metadata": {},
   "outputs": [],
   "source": [
    "df2=df2.drop('Cylinders',axis=1)"
   ]
  },
  {
   "cell_type": "code",
   "execution_count": null,
   "metadata": {},
   "outputs": [],
   "source": [
    "df2=df2.drop('ManufacturerDODGE',axis=1)"
   ]
  },
  {
   "cell_type": "code",
   "execution_count": null,
   "metadata": {},
   "outputs": [],
   "source": [
    "df2=df2.drop('ManufacturerFORD',axis=1)"
   ]
  },
  {
   "cell_type": "code",
   "execution_count": null,
   "metadata": {},
   "outputs": [],
   "source": [
    "df2=df2.drop('ManufacturerOther',axis=1)"
   ]
  },
  {
   "cell_type": "code",
   "execution_count": null,
   "metadata": {},
   "outputs": [],
   "source": [
    "df2=df2.drop('ManufacturerJEEP',axis=1)"
   ]
  },
  {
   "cell_type": "code",
   "execution_count": null,
   "metadata": {},
   "outputs": [],
   "source": [
    "df2=df2.drop('CategoryJeep',axis=1)"
   ]
  },
  {
   "cell_type": "code",
   "execution_count": null,
   "metadata": {},
   "outputs": [],
   "source": [
    "df2=df2.drop('CategoryUniversal',axis=1)"
   ]
  },
  {
   "cell_type": "code",
   "execution_count": null,
   "metadata": {},
   "outputs": [],
   "source": [
    "df2=df2.drop('CategoryMicrobus',axis=1)"
   ]
  },
  {
   "cell_type": "code",
   "execution_count": 93,
   "metadata": {},
   "outputs": [],
   "source": [
    "df2=df2.drop('ColorOther',axis=1)"
   ]
  },
  {
   "cell_type": "code",
   "execution_count": 94,
   "metadata": {},
   "outputs": [],
   "source": [
    "df2=df2.drop('Mileage',axis=1)"
   ]
  },
  {
   "cell_type": "code",
   "execution_count": null,
   "metadata": {},
   "outputs": [],
   "source": [
    "df2=df2.drop('CategoryCoupe',axis=1)"
   ]
  },
  {
   "cell_type": "code",
   "execution_count": 85,
   "metadata": {},
   "outputs": [],
   "source": [
    "df2=df2.drop('ManufacturerCHEVROLET',axis=1)"
   ]
  },
  {
   "cell_type": "code",
   "execution_count": null,
   "metadata": {},
   "outputs": [],
   "source": [
    "df2=df2.drop('Drive wheelsFront',axis=1)"
   ]
  },
  {
   "cell_type": "code",
   "execution_count": null,
   "metadata": {},
   "outputs": [],
   "source": [
    "df2=df2.drop('Leather interior',axis=1)"
   ]
  },
  {
   "cell_type": "code",
   "execution_count": 97,
   "metadata": {},
   "outputs": [],
   "source": [
    "df2=df2.drop('ColorWhite',axis=1)"
   ]
  },
  {
   "cell_type": "code",
   "execution_count": null,
   "metadata": {},
   "outputs": [],
   "source": [
    "df2=df2.drop('CategoryMinivan',axis=1)"
   ]
  },
  {
   "cell_type": "code",
   "execution_count": 102,
   "metadata": {},
   "outputs": [],
   "source": [
    "df2=df2.drop('ManufacturerDAEWOO',axis=1)"
   ]
  },
  {
   "cell_type": "code",
   "execution_count": 108,
   "metadata": {},
   "outputs": [],
   "source": [
    "lista=list(df2.columns)"
   ]
  },
  {
   "cell_type": "code",
   "execution_count": 109,
   "metadata": {
    "scrolled": false
   },
   "outputs": [
    {
     "data": {
      "text/html": [
       "<table class=\"simpletable\">\n",
       "<caption>OLS Regression Results</caption>\n",
       "<tr>\n",
       "  <th>Dep. Variable:</th>          <td>Price</td>      <th>  R-squared:         </th>  <td>   0.413</td>  \n",
       "</tr>\n",
       "<tr>\n",
       "  <th>Model:</th>                   <td>OLS</td>       <th>  Adj. R-squared:    </th>  <td>   0.412</td>  \n",
       "</tr>\n",
       "<tr>\n",
       "  <th>Method:</th>             <td>Least Squares</td>  <th>  F-statistic:       </th>  <td>   504.0</td>  \n",
       "</tr>\n",
       "<tr>\n",
       "  <th>Date:</th>             <td>Fri, 01 May 2020</td> <th>  Prob (F-statistic):</th>   <td>  0.00</td>   \n",
       "</tr>\n",
       "<tr>\n",
       "  <th>Time:</th>                 <td>19:26:57</td>     <th>  Log-Likelihood:    </th> <td>-3.2312e+05</td>\n",
       "</tr>\n",
       "<tr>\n",
       "  <th>No. Observations:</th>      <td> 30130</td>      <th>  AIC:               </th>  <td>6.463e+05</td> \n",
       "</tr>\n",
       "<tr>\n",
       "  <th>Df Residuals:</th>          <td> 30087</td>      <th>  BIC:               </th>  <td>6.467e+05</td> \n",
       "</tr>\n",
       "<tr>\n",
       "  <th>Df Model:</th>              <td>    42</td>      <th>                     </th>      <td> </td>     \n",
       "</tr>\n",
       "<tr>\n",
       "  <th>Covariance Type:</th>      <td>nonrobust</td>    <th>                     </th>      <td> </td>     \n",
       "</tr>\n",
       "</table>\n",
       "<table class=\"simpletable\">\n",
       "<tr>\n",
       "              <td></td>                 <th>coef</th>     <th>std err</th>      <th>t</th>      <th>P>|t|</th>  <th>[0.025</th>    <th>0.975]</th>  \n",
       "</tr>\n",
       "<tr>\n",
       "  <th>const</th>                     <td> 3.095e+04</td> <td> 1099.501</td> <td>   28.150</td> <td> 0.000</td> <td> 2.88e+04</td> <td> 3.31e+04</td>\n",
       "</tr>\n",
       "<tr>\n",
       "  <th>Year</th>                      <td>-1800.7641</td> <td>   21.599</td> <td>  -83.373</td> <td> 0.000</td> <td>-1843.099</td> <td>-1758.430</td>\n",
       "</tr>\n",
       "<tr>\n",
       "  <th>Leather interior</th>          <td>  573.0729</td> <td>  174.076</td> <td>    3.292</td> <td> 0.001</td> <td>  231.876</td> <td>  914.270</td>\n",
       "</tr>\n",
       "<tr>\n",
       "  <th>Engine volume</th>             <td> 2081.8716</td> <td>  138.970</td> <td>   14.981</td> <td> 0.000</td> <td> 1809.485</td> <td> 2354.259</td>\n",
       "</tr>\n",
       "<tr>\n",
       "  <th>Cylinders</th>                 <td>  397.9729</td> <td>   94.243</td> <td>    4.223</td> <td> 0.000</td> <td>  213.252</td> <td>  582.694</td>\n",
       "</tr>\n",
       "<tr>\n",
       "  <th>Airbags</th>                   <td> -325.2491</td> <td>   18.098</td> <td>  -17.972</td> <td> 0.000</td> <td> -360.722</td> <td> -289.777</td>\n",
       "</tr>\n",
       "<tr>\n",
       "  <th>Turbo</th>                     <td> 6395.3035</td> <td>  246.324</td> <td>   25.963</td> <td> 0.000</td> <td> 5912.497</td> <td> 6878.110</td>\n",
       "</tr>\n",
       "<tr>\n",
       "  <th>ManufacturerBMW</th>           <td> 5724.1855</td> <td>  414.467</td> <td>   13.811</td> <td> 0.000</td> <td> 4911.812</td> <td> 6536.559</td>\n",
       "</tr>\n",
       "<tr>\n",
       "  <th>ManufacturerFORD</th>          <td> 2708.0390</td> <td>  327.839</td> <td>    8.260</td> <td> 0.000</td> <td> 2065.461</td> <td> 3350.617</td>\n",
       "</tr>\n",
       "<tr>\n",
       "  <th>ManufacturerHONDA</th>         <td> 6420.6302</td> <td>  371.123</td> <td>   17.301</td> <td> 0.000</td> <td> 5693.214</td> <td> 7148.046</td>\n",
       "</tr>\n",
       "<tr>\n",
       "  <th>ManufacturerHYUNDAI</th>       <td> 7421.9007</td> <td>  244.127</td> <td>   30.402</td> <td> 0.000</td> <td> 6943.401</td> <td> 7900.400</td>\n",
       "</tr>\n",
       "<tr>\n",
       "  <th>ManufacturerJEEP</th>          <td> 8872.3261</td> <td>  695.189</td> <td>   12.762</td> <td> 0.000</td> <td> 7509.726</td> <td> 1.02e+04</td>\n",
       "</tr>\n",
       "<tr>\n",
       "  <th>ManufacturerLEXUS</th>         <td> 8133.0130</td> <td>  416.371</td> <td>   19.533</td> <td> 0.000</td> <td> 7316.908</td> <td> 8949.118</td>\n",
       "</tr>\n",
       "<tr>\n",
       "  <th>ManufacturerMERCEDES-BENZ</th> <td> 5714.7181</td> <td>  344.633</td> <td>   16.582</td> <td> 0.000</td> <td> 5039.223</td> <td> 6390.213</td>\n",
       "</tr>\n",
       "<tr>\n",
       "  <th>ManufacturerNISSAN</th>        <td> 1482.6876</td> <td>  381.400</td> <td>    3.887</td> <td> 0.000</td> <td>  735.127</td> <td> 2230.248</td>\n",
       "</tr>\n",
       "<tr>\n",
       "  <th>ManufacturerOther</th>         <td> 3585.1882</td> <td>  413.732</td> <td>    8.665</td> <td> 0.000</td> <td> 2774.257</td> <td> 4396.120</td>\n",
       "</tr>\n",
       "<tr>\n",
       "  <th>ManufacturerSSANGYONG</th>     <td> 7603.5157</td> <td>  501.811</td> <td>   15.152</td> <td> 0.000</td> <td> 6619.944</td> <td> 8587.087</td>\n",
       "</tr>\n",
       "<tr>\n",
       "  <th>ManufacturerSUBARU</th>        <td>-4390.5885</td> <td>  558.081</td> <td>   -7.867</td> <td> 0.000</td> <td>-5484.452</td> <td>-3296.725</td>\n",
       "</tr>\n",
       "<tr>\n",
       "  <th>ManufacturerTOYOTA</th>        <td> 6418.2759</td> <td>  265.833</td> <td>   24.144</td> <td> 0.000</td> <td> 5897.232</td> <td> 6939.319</td>\n",
       "</tr>\n",
       "<tr>\n",
       "  <th>ManufacturerVOLKSWAGEN</th>    <td>-3274.5918</td> <td>  392.781</td> <td>   -8.337</td> <td> 0.000</td> <td>-4044.459</td> <td>-2504.724</td>\n",
       "</tr>\n",
       "<tr>\n",
       "  <th>CategoryCoupe</th>             <td>-6603.2206</td> <td>  995.646</td> <td>   -6.632</td> <td> 0.000</td> <td>-8554.730</td> <td>-4651.711</td>\n",
       "</tr>\n",
       "<tr>\n",
       "  <th>CategoryGoods wagon</th>       <td>-1.329e+04</td> <td> 1162.654</td> <td>  -11.429</td> <td> 0.000</td> <td>-1.56e+04</td> <td> -1.1e+04</td>\n",
       "</tr>\n",
       "<tr>\n",
       "  <th>CategoryHatchback</th>         <td>-1.104e+04</td> <td>  940.953</td> <td>  -11.735</td> <td> 0.000</td> <td>-1.29e+04</td> <td>-9197.954</td>\n",
       "</tr>\n",
       "<tr>\n",
       "  <th>CategoryJeep</th>              <td>-3975.1185</td> <td>  923.939</td> <td>   -4.302</td> <td> 0.000</td> <td>-5786.079</td> <td>-2164.158</td>\n",
       "</tr>\n",
       "<tr>\n",
       "  <th>CategoryMicrobus</th>          <td>-7088.5291</td> <td> 1142.789</td> <td>   -6.203</td> <td> 0.000</td> <td>-9328.444</td> <td>-4848.614</td>\n",
       "</tr>\n",
       "<tr>\n",
       "  <th>CategoryMinivan</th>           <td>-7699.6787</td> <td>  983.277</td> <td>   -7.831</td> <td> 0.000</td> <td>-9626.943</td> <td>-5772.414</td>\n",
       "</tr>\n",
       "<tr>\n",
       "  <th>CategorySedan</th>             <td>-1.182e+04</td> <td>  924.302</td> <td>  -12.783</td> <td> 0.000</td> <td>-1.36e+04</td> <td>   -1e+04</td>\n",
       "</tr>\n",
       "<tr>\n",
       "  <th>CategoryUniversal</th>         <td>-5505.4938</td> <td> 1032.176</td> <td>   -5.334</td> <td> 0.000</td> <td>-7528.603</td> <td>-3482.384</td>\n",
       "</tr>\n",
       "<tr>\n",
       "  <th>Fuel typeElectric</th>         <td> 7740.4273</td> <td> 1116.611</td> <td>    6.932</td> <td> 0.000</td> <td> 5551.822</td> <td> 9929.032</td>\n",
       "</tr>\n",
       "<tr>\n",
       "  <th>Fuel typeHybrid</th>           <td>-5608.2600</td> <td>  295.831</td> <td>  -18.958</td> <td> 0.000</td> <td>-6188.100</td> <td>-5028.419</td>\n",
       "</tr>\n",
       "<tr>\n",
       "  <th>Fuel typeLPG</th>              <td>-9655.3100</td> <td>  368.260</td> <td>  -26.219</td> <td> 0.000</td> <td>-1.04e+04</td> <td>-8933.504</td>\n",
       "</tr>\n",
       "<tr>\n",
       "  <th>Fuel typePetrol</th>           <td>-2626.7588</td> <td>  214.549</td> <td>  -12.243</td> <td> 0.000</td> <td>-3047.284</td> <td>-2206.234</td>\n",
       "</tr>\n",
       "<tr>\n",
       "  <th>Fuel typePlug-in Hybrid</th>   <td> 6145.0077</td> <td>  856.761</td> <td>    7.172</td> <td> 0.000</td> <td> 4465.720</td> <td> 7824.295</td>\n",
       "</tr>\n",
       "<tr>\n",
       "  <th>TypegearboxManual</th>         <td> 2799.2385</td> <td>  373.196</td> <td>    7.501</td> <td> 0.000</td> <td> 2067.758</td> <td> 3530.719</td>\n",
       "</tr>\n",
       "<tr>\n",
       "  <th>TypegearboxTiptronic</th>      <td> 7094.1126</td> <td>  193.840</td> <td>   36.598</td> <td> 0.000</td> <td> 6714.178</td> <td> 7474.047</td>\n",
       "</tr>\n",
       "<tr>\n",
       "  <th>TypegearboxVariator</th>       <td> 4349.5914</td> <td>  307.041</td> <td>   14.166</td> <td> 0.000</td> <td> 3747.777</td> <td> 4951.406</td>\n",
       "</tr>\n",
       "<tr>\n",
       "  <th>Drive wheelsAuto</th>          <td>-7791.7310</td> <td> 1418.554</td> <td>   -5.493</td> <td> 0.000</td> <td>-1.06e+04</td> <td>-5011.305</td>\n",
       "</tr>\n",
       "<tr>\n",
       "  <th>Drive wheelsFront</th>         <td> 1068.2369</td> <td>  258.400</td> <td>    4.134</td> <td> 0.000</td> <td>  561.761</td> <td> 1574.712</td>\n",
       "</tr>\n",
       "<tr>\n",
       "  <th>Drive wheelsRear</th>          <td> 2232.3353</td> <td>  315.743</td> <td>    7.070</td> <td> 0.000</td> <td> 1613.466</td> <td> 2851.205</td>\n",
       "</tr>\n",
       "<tr>\n",
       "  <th>Doors4/5</th>                  <td> 2837.7406</td> <td>  495.381</td> <td>    5.728</td> <td> 0.000</td> <td> 1866.773</td> <td> 3808.708</td>\n",
       "</tr>\n",
       "<tr>\n",
       "  <th>Doors>5</th>                   <td> 6518.1940</td> <td>  885.948</td> <td>    7.357</td> <td> 0.000</td> <td> 4781.697</td> <td> 8254.690</td>\n",
       "</tr>\n",
       "<tr>\n",
       "  <th>ColorGrey</th>                 <td>  846.6716</td> <td>  193.621</td> <td>    4.373</td> <td> 0.000</td> <td>  467.166</td> <td> 1226.178</td>\n",
       "</tr>\n",
       "<tr>\n",
       "  <th>ColorSilver</th>               <td> -824.4420</td> <td>  168.641</td> <td>   -4.889</td> <td> 0.000</td> <td>-1154.986</td> <td> -493.898</td>\n",
       "</tr>\n",
       "</table>\n",
       "<table class=\"simpletable\">\n",
       "<tr>\n",
       "  <th>Omnibus:</th>       <td>3111.010</td> <th>  Durbin-Watson:     </th> <td>   1.376</td>\n",
       "</tr>\n",
       "<tr>\n",
       "  <th>Prob(Omnibus):</th>  <td> 0.000</td>  <th>  Jarque-Bera (JB):  </th> <td>6948.781</td>\n",
       "</tr>\n",
       "<tr>\n",
       "  <th>Skew:</th>           <td> 0.640</td>  <th>  Prob(JB):          </th> <td>    0.00</td>\n",
       "</tr>\n",
       "<tr>\n",
       "  <th>Kurtosis:</th>       <td> 4.974</td>  <th>  Cond. No.          </th> <td>    504.</td>\n",
       "</tr>\n",
       "</table><br/><br/>Warnings:<br/>[1] Standard Errors assume that the covariance matrix of the errors is correctly specified."
      ],
      "text/plain": [
       "<class 'statsmodels.iolib.summary.Summary'>\n",
       "\"\"\"\n",
       "                            OLS Regression Results                            \n",
       "==============================================================================\n",
       "Dep. Variable:                  Price   R-squared:                       0.413\n",
       "Model:                            OLS   Adj. R-squared:                  0.412\n",
       "Method:                 Least Squares   F-statistic:                     504.0\n",
       "Date:                Fri, 01 May 2020   Prob (F-statistic):               0.00\n",
       "Time:                        19:26:57   Log-Likelihood:            -3.2312e+05\n",
       "No. Observations:               30130   AIC:                         6.463e+05\n",
       "Df Residuals:                   30087   BIC:                         6.467e+05\n",
       "Df Model:                          42                                         \n",
       "Covariance Type:            nonrobust                                         \n",
       "=============================================================================================\n",
       "                                coef    std err          t      P>|t|      [0.025      0.975]\n",
       "---------------------------------------------------------------------------------------------\n",
       "const                      3.095e+04   1099.501     28.150      0.000    2.88e+04    3.31e+04\n",
       "Year                      -1800.7641     21.599    -83.373      0.000   -1843.099   -1758.430\n",
       "Leather interior            573.0729    174.076      3.292      0.001     231.876     914.270\n",
       "Engine volume              2081.8716    138.970     14.981      0.000    1809.485    2354.259\n",
       "Cylinders                   397.9729     94.243      4.223      0.000     213.252     582.694\n",
       "Airbags                    -325.2491     18.098    -17.972      0.000    -360.722    -289.777\n",
       "Turbo                      6395.3035    246.324     25.963      0.000    5912.497    6878.110\n",
       "ManufacturerBMW            5724.1855    414.467     13.811      0.000    4911.812    6536.559\n",
       "ManufacturerFORD           2708.0390    327.839      8.260      0.000    2065.461    3350.617\n",
       "ManufacturerHONDA          6420.6302    371.123     17.301      0.000    5693.214    7148.046\n",
       "ManufacturerHYUNDAI        7421.9007    244.127     30.402      0.000    6943.401    7900.400\n",
       "ManufacturerJEEP           8872.3261    695.189     12.762      0.000    7509.726    1.02e+04\n",
       "ManufacturerLEXUS          8133.0130    416.371     19.533      0.000    7316.908    8949.118\n",
       "ManufacturerMERCEDES-BENZ  5714.7181    344.633     16.582      0.000    5039.223    6390.213\n",
       "ManufacturerNISSAN         1482.6876    381.400      3.887      0.000     735.127    2230.248\n",
       "ManufacturerOther          3585.1882    413.732      8.665      0.000    2774.257    4396.120\n",
       "ManufacturerSSANGYONG      7603.5157    501.811     15.152      0.000    6619.944    8587.087\n",
       "ManufacturerSUBARU        -4390.5885    558.081     -7.867      0.000   -5484.452   -3296.725\n",
       "ManufacturerTOYOTA         6418.2759    265.833     24.144      0.000    5897.232    6939.319\n",
       "ManufacturerVOLKSWAGEN    -3274.5918    392.781     -8.337      0.000   -4044.459   -2504.724\n",
       "CategoryCoupe             -6603.2206    995.646     -6.632      0.000   -8554.730   -4651.711\n",
       "CategoryGoods wagon       -1.329e+04   1162.654    -11.429      0.000   -1.56e+04    -1.1e+04\n",
       "CategoryHatchback         -1.104e+04    940.953    -11.735      0.000   -1.29e+04   -9197.954\n",
       "CategoryJeep              -3975.1185    923.939     -4.302      0.000   -5786.079   -2164.158\n",
       "CategoryMicrobus          -7088.5291   1142.789     -6.203      0.000   -9328.444   -4848.614\n",
       "CategoryMinivan           -7699.6787    983.277     -7.831      0.000   -9626.943   -5772.414\n",
       "CategorySedan             -1.182e+04    924.302    -12.783      0.000   -1.36e+04      -1e+04\n",
       "CategoryUniversal         -5505.4938   1032.176     -5.334      0.000   -7528.603   -3482.384\n",
       "Fuel typeElectric          7740.4273   1116.611      6.932      0.000    5551.822    9929.032\n",
       "Fuel typeHybrid           -5608.2600    295.831    -18.958      0.000   -6188.100   -5028.419\n",
       "Fuel typeLPG              -9655.3100    368.260    -26.219      0.000   -1.04e+04   -8933.504\n",
       "Fuel typePetrol           -2626.7588    214.549    -12.243      0.000   -3047.284   -2206.234\n",
       "Fuel typePlug-in Hybrid    6145.0077    856.761      7.172      0.000    4465.720    7824.295\n",
       "TypegearboxManual          2799.2385    373.196      7.501      0.000    2067.758    3530.719\n",
       "TypegearboxTiptronic       7094.1126    193.840     36.598      0.000    6714.178    7474.047\n",
       "TypegearboxVariator        4349.5914    307.041     14.166      0.000    3747.777    4951.406\n",
       "Drive wheelsAuto          -7791.7310   1418.554     -5.493      0.000   -1.06e+04   -5011.305\n",
       "Drive wheelsFront          1068.2369    258.400      4.134      0.000     561.761    1574.712\n",
       "Drive wheelsRear           2232.3353    315.743      7.070      0.000    1613.466    2851.205\n",
       "Doors4/5                   2837.7406    495.381      5.728      0.000    1866.773    3808.708\n",
       "Doors>5                    6518.1940    885.948      7.357      0.000    4781.697    8254.690\n",
       "ColorGrey                   846.6716    193.621      4.373      0.000     467.166    1226.178\n",
       "ColorSilver                -824.4420    168.641     -4.889      0.000   -1154.986    -493.898\n",
       "==============================================================================\n",
       "Omnibus:                     3111.010   Durbin-Watson:                   1.376\n",
       "Prob(Omnibus):                  0.000   Jarque-Bera (JB):             6948.781\n",
       "Skew:                           0.640   Prob(JB):                         0.00\n",
       "Kurtosis:                       4.974   Cond. No.                         504.\n",
       "==============================================================================\n",
       "\n",
       "Warnings:\n",
       "[1] Standard Errors assume that the covariance matrix of the errors is correctly specified.\n",
       "\"\"\""
      ]
     },
     "execution_count": 109,
     "metadata": {},
     "output_type": "execute_result"
    }
   ],
   "source": [
    "y=df.Price\n",
    "X=df[lista]\n",
    "model=sm.OLS(y,add_constant(X)).fit()\n",
    "model.summary()"
   ]
  },
  {
   "cell_type": "markdown",
   "metadata": {},
   "source": [
    "## Assumptions"
   ]
  },
  {
   "cell_type": "markdown",
   "metadata": {},
   "source": [
    "### Multicollinearity"
   ]
  },
  {
   "cell_type": "code",
   "execution_count": 110,
   "metadata": {},
   "outputs": [
    {
     "data": {
      "text/plain": [
       "<matplotlib.axes._subplots.AxesSubplot at 0xf034acd548>"
      ]
     },
     "execution_count": 110,
     "metadata": {},
     "output_type": "execute_result"
    },
    {
     "data": {
      "image/png": "[encoded data removed]",
      "text/plain": [
       "<Figure size 432x288 with 2 Axes>"
      ]
     },
     "metadata": {},
     "output_type": "display_data"
    }
   ],
   "source": [
    "import seaborn as sns\n",
    "sns.heatmap(X.corr(),cmap='coolwarm')"
   ]
  },
  {
   "cell_type": "code",
   "execution_count": 111,
   "metadata": {},
   "outputs": [],
   "source": [
    "from statsmodels.stats.outliers_influence import variance_inflation_factor as VIF"
   ]
  },
  {
   "cell_type": "code",
   "execution_count": 112,
   "metadata": {},
   "outputs": [],
   "source": [
    "vifs=pd.Series([VIF(X.values,i) for i in range(X.shape[1])],index=X.columns)"
   ]
  },
  {
   "cell_type": "code",
   "execution_count": 113,
   "metadata": {},
   "outputs": [
    {
     "data": {
      "text/plain": [
       "Year                          7.621361\n",
       "Leather interior              5.448813\n",
       "Engine volume                26.946897\n",
       "Cylinders                    44.696171\n",
       "Airbags                       4.773263\n",
       "Turbo                         1.694194\n",
       "ManufacturerBMW               1.778777\n",
       "ManufacturerFORD              1.600788\n",
       "ManufacturerHONDA             1.490267\n",
       "ManufacturerHYUNDAI           3.581781\n",
       "ManufacturerJEEP              1.141343\n",
       "ManufacturerLEXUS             1.821873\n",
       "ManufacturerMERCEDES-BENZ     2.401273\n",
       "ManufacturerNISSAN            1.412787\n",
       "ManufacturerOther             1.315474\n",
       "ManufacturerSSANGYONG         1.337847\n",
       "ManufacturerSUBARU            1.271399\n",
       "ManufacturerTOYOTA            3.570599\n",
       "ManufacturerVOLKSWAGEN        1.358986\n",
       "CategoryCoupe                 2.693551\n",
       "CategoryGoods wagon           1.897637\n",
       "CategoryHatchback            16.971524\n",
       "CategoryJeep                 27.634578\n",
       "CategoryMicrobus              2.046223\n",
       "CategoryMinivan               4.013646\n",
       "CategorySedan                46.175903\n",
       "CategoryUniversal             2.682461\n",
       "Fuel typeElectric             1.139337\n",
       "Fuel typeHybrid               4.134223\n",
       "Fuel typeLPG                  1.415568\n",
       "Fuel typePetrol               5.743783\n",
       "Fuel typePlug-in Hybrid       1.112051\n",
       "TypegearboxManual             1.821205\n",
       "TypegearboxTiptronic          1.785922\n",
       "TypegearboxVariator           1.281306\n",
       "Drive wheelsAuto              1.044694\n",
       "Drive wheelsFront            11.222448\n",
       "Drive wheelsRear              2.058814\n",
       "Doors4/5                     53.685725\n",
       "Doors>5                       1.393977\n",
       "ColorGrey                     1.217474\n",
       "ColorSilver                   1.334456\n",
       "dtype: float64"
      ]
     },
     "execution_count": 113,
     "metadata": {},
     "output_type": "execute_result"
    }
   ],
   "source": [
    "vifs"
   ]
  },
  {
   "cell_type": "code",
   "execution_count": 114,
   "metadata": {},
   "outputs": [],
   "source": [
    "XA=X.drop('Doors4/5',axis=1)"
   ]
  },
  {
   "cell_type": "code",
   "execution_count": 118,
   "metadata": {},
   "outputs": [],
   "source": [
    "XA=XA.drop('CategorySedan',axis=1)"
   ]
  },
  {
   "cell_type": "code",
   "execution_count": 120,
   "metadata": {},
   "outputs": [],
   "source": [
    "XA=XA.drop('Engine volume',axis=1)"
   ]
  },
  {
   "cell_type": "code",
   "execution_count": 116,
   "metadata": {},
   "outputs": [],
   "source": [
    "XA=XA.drop('Cylinders',axis=1)"
   ]
  },
  {
   "cell_type": "code",
   "execution_count": 121,
   "metadata": {
    "scrolled": false
   },
   "outputs": [
    {
     "data": {
      "text/plain": [
       "Year                         6.086936\n",
       "Leather interior             4.674065\n",
       "Airbags                      4.367908\n",
       "Turbo                        1.616725\n",
       "ManufacturerBMW              1.666108\n",
       "ManufacturerFORD             1.523346\n",
       "ManufacturerHONDA            1.450828\n",
       "ManufacturerHYUNDAI          3.288183\n",
       "ManufacturerJEEP             1.126498\n",
       "ManufacturerLEXUS            1.562813\n",
       "ManufacturerMERCEDES-BENZ    2.033026\n",
       "ManufacturerNISSAN           1.393411\n",
       "ManufacturerOther            1.274685\n",
       "ManufacturerSSANGYONG        1.318838\n",
       "ManufacturerSUBARU           1.192679\n",
       "ManufacturerTOYOTA           3.332507\n",
       "ManufacturerVOLKSWAGEN       1.324066\n",
       "CategoryCoupe                1.123076\n",
       "CategoryGoods wagon          1.275704\n",
       "CategoryHatchback            1.751447\n",
       "CategoryJeep                 2.184855\n",
       "CategoryMicrobus             1.371662\n",
       "CategoryMinivan              1.199179\n",
       "CategoryUniversal            1.091374\n",
       "Fuel typeElectric            1.057355\n",
       "Fuel typeHybrid              3.600442\n",
       "Fuel typeLPG                 1.299940\n",
       "Fuel typePetrol              4.032455\n",
       "Fuel typePlug-in Hybrid      1.088779\n",
       "TypegearboxManual            1.808912\n",
       "TypegearboxTiptronic         1.778409\n",
       "TypegearboxVariator          1.279544\n",
       "Drive wheelsAuto             1.030834\n",
       "Drive wheelsFront            7.070050\n",
       "Drive wheelsRear             1.978716\n",
       "Doors>5                      1.028828\n",
       "ColorGrey                    1.209996\n",
       "ColorSilver                  1.328984\n",
       "dtype: float64"
      ]
     },
     "execution_count": 121,
     "metadata": {},
     "output_type": "execute_result"
    }
   ],
   "source": [
    "vifs=pd.Series([VIF(XA.values,i) for i in range(XA.shape[1])],index=XA.columns)\n",
    "vifs"
   ]
  },
  {
   "cell_type": "markdown",
   "metadata": {},
   "source": [
    "Our VIF is ok (all values under 10)"
   ]
  },
  {
   "cell_type": "code",
   "execution_count": 123,
   "metadata": {},
   "outputs": [],
   "source": [
    "XA=XA.drop('CategoryHatchback',axis=1)"
   ]
  },
  {
   "cell_type": "code",
   "execution_count": 125,
   "metadata": {},
   "outputs": [],
   "source": [
    "XA=XA.drop('CategoryGoods wagon',axis=1)"
   ]
  },
  {
   "cell_type": "code",
   "execution_count": 127,
   "metadata": {},
   "outputs": [],
   "source": [
    "XA=XA.drop('Fuel typeElectric',axis=1)"
   ]
  },
  {
   "cell_type": "code",
   "execution_count": null,
   "metadata": {},
   "outputs": [],
   "source": [
    "XA=XA.drop('Doors2/3',axis=1)"
   ]
  },
  {
   "cell_type": "code",
   "execution_count": null,
   "metadata": {},
   "outputs": [],
   "source": [
    "XA=XA.drop('ManufacturerDODGE',axis=1)"
   ]
  },
  {
   "cell_type": "code",
   "execution_count": null,
   "metadata": {},
   "outputs": [],
   "source": [
    "XA=XA.drop('Drive wheelsFront',axis=1)"
   ]
  },
  {
   "cell_type": "code",
   "execution_count": null,
   "metadata": {},
   "outputs": [],
   "source": [
    "XA=XA.drop('CategoryMicrobus',axis=1)"
   ]
  },
  {
   "cell_type": "code",
   "execution_count": null,
   "metadata": {},
   "outputs": [],
   "source": [
    "XA=XA.drop('CategoryUniversal',axis=1)"
   ]
  },
  {
   "cell_type": "code",
   "execution_count": 128,
   "metadata": {
    "scrolled": true
   },
   "outputs": [
    {
     "data": {
      "text/html": [
       "<table class=\"simpletable\">\n",
       "<caption>OLS Regression Results</caption>\n",
       "<tr>\n",
       "  <th>Dep. Variable:</th>          <td>Price</td>      <th>  R-squared:         </th>  <td>   0.400</td>  \n",
       "</tr>\n",
       "<tr>\n",
       "  <th>Model:</th>                   <td>OLS</td>       <th>  Adj. R-squared:    </th>  <td>   0.399</td>  \n",
       "</tr>\n",
       "<tr>\n",
       "  <th>Method:</th>             <td>Least Squares</td>  <th>  F-statistic:       </th>  <td>   572.3</td>  \n",
       "</tr>\n",
       "<tr>\n",
       "  <th>Date:</th>             <td>Fri, 01 May 2020</td> <th>  Prob (F-statistic):</th>   <td>  0.00</td>   \n",
       "</tr>\n",
       "<tr>\n",
       "  <th>Time:</th>                 <td>19:31:37</td>     <th>  Log-Likelihood:    </th> <td>-3.2346e+05</td>\n",
       "</tr>\n",
       "<tr>\n",
       "  <th>No. Observations:</th>      <td> 30130</td>      <th>  AIC:               </th>  <td>6.470e+05</td> \n",
       "</tr>\n",
       "<tr>\n",
       "  <th>Df Residuals:</th>          <td> 30094</td>      <th>  BIC:               </th>  <td>6.473e+05</td> \n",
       "</tr>\n",
       "<tr>\n",
       "  <th>Df Model:</th>              <td>    35</td>      <th>                     </th>      <td> </td>     \n",
       "</tr>\n",
       "<tr>\n",
       "  <th>Covariance Type:</th>      <td>nonrobust</td>    <th>                     </th>      <td> </td>     \n",
       "</tr>\n",
       "</table>\n",
       "<table class=\"simpletable\">\n",
       "<tr>\n",
       "              <td></td>                 <th>coef</th>     <th>std err</th>      <th>t</th>      <th>P>|t|</th>  <th>[0.025</th>    <th>0.975]</th>  \n",
       "</tr>\n",
       "<tr>\n",
       "  <th>const</th>                     <td> 2.932e+04</td> <td>  455.047</td> <td>   64.427</td> <td> 0.000</td> <td> 2.84e+04</td> <td> 3.02e+04</td>\n",
       "</tr>\n",
       "<tr>\n",
       "  <th>Year</th>                      <td>-1765.3192</td> <td>   21.669</td> <td>  -81.467</td> <td> 0.000</td> <td>-1807.792</td> <td>-1722.847</td>\n",
       "</tr>\n",
       "<tr>\n",
       "  <th>Leather interior</th>          <td> 1072.9983</td> <td>  172.690</td> <td>    6.213</td> <td> 0.000</td> <td>  734.518</td> <td> 1411.478</td>\n",
       "</tr>\n",
       "<tr>\n",
       "  <th>Airbags</th>                   <td> -273.3566</td> <td>   17.955</td> <td>  -15.224</td> <td> 0.000</td> <td> -308.550</td> <td> -238.163</td>\n",
       "</tr>\n",
       "<tr>\n",
       "  <th>Turbo</th>                     <td> 5278.7255</td> <td>  242.816</td> <td>   21.740</td> <td> 0.000</td> <td> 4802.795</td> <td> 5754.656</td>\n",
       "</tr>\n",
       "<tr>\n",
       "  <th>ManufacturerBMW</th>           <td> 6677.0438</td> <td>  413.400</td> <td>   16.152</td> <td> 0.000</td> <td> 5866.762</td> <td> 7487.325</td>\n",
       "</tr>\n",
       "<tr>\n",
       "  <th>ManufacturerFORD</th>          <td> 3440.1529</td> <td>  326.182</td> <td>   10.547</td> <td> 0.000</td> <td> 2800.823</td> <td> 4079.483</td>\n",
       "</tr>\n",
       "<tr>\n",
       "  <th>ManufacturerHONDA</th>         <td> 6338.3772</td> <td>  370.499</td> <td>   17.108</td> <td> 0.000</td> <td> 5612.183</td> <td> 7064.572</td>\n",
       "</tr>\n",
       "<tr>\n",
       "  <th>ManufacturerHYUNDAI</th>       <td> 7475.4526</td> <td>  246.003</td> <td>   30.388</td> <td> 0.000</td> <td> 6993.276</td> <td> 7957.629</td>\n",
       "</tr>\n",
       "<tr>\n",
       "  <th>ManufacturerJEEP</th>          <td> 1.011e+04</td> <td>  698.395</td> <td>   14.471</td> <td> 0.000</td> <td> 8737.618</td> <td> 1.15e+04</td>\n",
       "</tr>\n",
       "<tr>\n",
       "  <th>ManufacturerLEXUS</th>         <td> 1.122e+04</td> <td>  392.386</td> <td>   28.600</td> <td> 0.000</td> <td> 1.05e+04</td> <td>  1.2e+04</td>\n",
       "</tr>\n",
       "<tr>\n",
       "  <th>ManufacturerMERCEDES-BENZ</th> <td> 6676.0361</td> <td>  341.924</td> <td>   19.525</td> <td> 0.000</td> <td> 6005.850</td> <td> 7346.222</td>\n",
       "</tr>\n",
       "<tr>\n",
       "  <th>ManufacturerNISSAN</th>        <td> 1377.5991</td> <td>  378.613</td> <td>    3.639</td> <td> 0.000</td> <td>  635.500</td> <td> 2119.698</td>\n",
       "</tr>\n",
       "<tr>\n",
       "  <th>ManufacturerOther</th>         <td> 4395.3683</td> <td>  414.440</td> <td>   10.606</td> <td> 0.000</td> <td> 3583.049</td> <td> 5207.688</td>\n",
       "</tr>\n",
       "<tr>\n",
       "  <th>ManufacturerSSANGYONG</th>     <td> 7638.7450</td> <td>  506.732</td> <td>   15.075</td> <td> 0.000</td> <td> 6645.528</td> <td> 8631.962</td>\n",
       "</tr>\n",
       "<tr>\n",
       "  <th>ManufacturerSUBARU</th>        <td>-5733.3408</td> <td>  558.094</td> <td>  -10.273</td> <td> 0.000</td> <td>-6827.229</td> <td>-4639.453</td>\n",
       "</tr>\n",
       "<tr>\n",
       "  <th>ManufacturerTOYOTA</th>        <td> 7242.1926</td> <td>  264.417</td> <td>   27.389</td> <td> 0.000</td> <td> 6723.925</td> <td> 7760.460</td>\n",
       "</tr>\n",
       "<tr>\n",
       "  <th>ManufacturerVOLKSWAGEN</th>    <td>-2888.4596</td> <td>  395.808</td> <td>   -7.298</td> <td> 0.000</td> <td>-3664.260</td> <td>-2112.659</td>\n",
       "</tr>\n",
       "<tr>\n",
       "  <th>CategoryCoupe</th>             <td> 3978.4198</td> <td>  441.878</td> <td>    9.003</td> <td> 0.000</td> <td> 3112.321</td> <td> 4844.519</td>\n",
       "</tr>\n",
       "<tr>\n",
       "  <th>CategoryJeep</th>              <td> 7674.1484</td> <td>  195.118</td> <td>   39.331</td> <td> 0.000</td> <td> 7291.708</td> <td> 8056.589</td>\n",
       "</tr>\n",
       "<tr>\n",
       "  <th>CategoryMicrobus</th>          <td> 4383.0429</td> <td>  747.245</td> <td>    5.866</td> <td> 0.000</td> <td> 2918.411</td> <td> 5847.675</td>\n",
       "</tr>\n",
       "<tr>\n",
       "  <th>CategoryMinivan</th>           <td> 4626.5180</td> <td>  394.672</td> <td>   11.722</td> <td> 0.000</td> <td> 3852.943</td> <td> 5400.093</td>\n",
       "</tr>\n",
       "<tr>\n",
       "  <th>CategoryUniversal</th>         <td> 6489.0918</td> <td>  502.768</td> <td>   12.907</td> <td> 0.000</td> <td> 5503.646</td> <td> 7474.538</td>\n",
       "</tr>\n",
       "<tr>\n",
       "  <th>Fuel typeHybrid</th>           <td>-6402.6942</td> <td>  291.513</td> <td>  -21.964</td> <td> 0.000</td> <td>-6974.073</td> <td>-5831.316</td>\n",
       "</tr>\n",
       "<tr>\n",
       "  <th>Fuel typeLPG</th>              <td>-9605.4187</td> <td>  367.844</td> <td>  -26.113</td> <td> 0.000</td> <td>-1.03e+04</td> <td>-8884.429</td>\n",
       "</tr>\n",
       "<tr>\n",
       "  <th>Fuel typePetrol</th>           <td>-2850.9263</td> <td>  209.711</td> <td>  -13.595</td> <td> 0.000</td> <td>-3261.970</td> <td>-2439.883</td>\n",
       "</tr>\n",
       "<tr>\n",
       "  <th>Fuel typePlug-in Hybrid</th>   <td> 5316.7980</td> <td>  860.890</td> <td>    6.176</td> <td> 0.000</td> <td> 3629.416</td> <td> 7004.180</td>\n",
       "</tr>\n",
       "<tr>\n",
       "  <th>TypegearboxManual</th>         <td> 2201.8727</td> <td>  356.250</td> <td>    6.181</td> <td> 0.000</td> <td> 1503.607</td> <td> 2900.138</td>\n",
       "</tr>\n",
       "<tr>\n",
       "  <th>TypegearboxTiptronic</th>      <td> 7226.3964</td> <td>  195.411</td> <td>   36.981</td> <td> 0.000</td> <td> 6843.383</td> <td> 7609.410</td>\n",
       "</tr>\n",
       "<tr>\n",
       "  <th>TypegearboxVariator</th>       <td> 4074.0618</td> <td>  308.724</td> <td>   13.196</td> <td> 0.000</td> <td> 3468.950</td> <td> 4679.174</td>\n",
       "</tr>\n",
       "<tr>\n",
       "  <th>Drive wheelsAuto</th>          <td>-7385.9353</td> <td> 1433.074</td> <td>   -5.154</td> <td> 0.000</td> <td>-1.02e+04</td> <td>-4577.048</td>\n",
       "</tr>\n",
       "<tr>\n",
       "  <th>Drive wheelsFront</th>         <td>-1353.6690</td> <td>  239.261</td> <td>   -5.658</td> <td> 0.000</td> <td>-1822.631</td> <td> -884.707</td>\n",
       "</tr>\n",
       "<tr>\n",
       "  <th>Drive wheelsRear</th>          <td> 1706.8083</td> <td>  316.733</td> <td>    5.389</td> <td> 0.000</td> <td> 1085.998</td> <td> 2327.618</td>\n",
       "</tr>\n",
       "<tr>\n",
       "  <th>Doors>5</th>                   <td> 4025.1790</td> <td>  760.008</td> <td>    5.296</td> <td> 0.000</td> <td> 2535.532</td> <td> 5514.826</td>\n",
       "</tr>\n",
       "<tr>\n",
       "  <th>ColorGrey</th>                 <td> 1023.9796</td> <td>  195.579</td> <td>    5.236</td> <td> 0.000</td> <td>  640.637</td> <td> 1407.322</td>\n",
       "</tr>\n",
       "<tr>\n",
       "  <th>ColorSilver</th>               <td> -791.3278</td> <td>  170.412</td> <td>   -4.644</td> <td> 0.000</td> <td>-1125.342</td> <td> -457.314</td>\n",
       "</tr>\n",
       "</table>\n",
       "<table class=\"simpletable\">\n",
       "<tr>\n",
       "  <th>Omnibus:</th>       <td>3723.367</td> <th>  Durbin-Watson:     </th> <td>   1.393</td>\n",
       "</tr>\n",
       "<tr>\n",
       "  <th>Prob(Omnibus):</th>  <td> 0.000</td>  <th>  Jarque-Bera (JB):  </th> <td>8383.155</td>\n",
       "</tr>\n",
       "<tr>\n",
       "  <th>Skew:</th>           <td> 0.745</td>  <th>  Prob(JB):          </th> <td>    0.00</td>\n",
       "</tr>\n",
       "<tr>\n",
       "  <th>Kurtosis:</th>       <td> 5.111</td>  <th>  Cond. No.          </th> <td>    238.</td>\n",
       "</tr>\n",
       "</table><br/><br/>Warnings:<br/>[1] Standard Errors assume that the covariance matrix of the errors is correctly specified."
      ],
      "text/plain": [
       "<class 'statsmodels.iolib.summary.Summary'>\n",
       "\"\"\"\n",
       "                            OLS Regression Results                            \n",
       "==============================================================================\n",
       "Dep. Variable:                  Price   R-squared:                       0.400\n",
       "Model:                            OLS   Adj. R-squared:                  0.399\n",
       "Method:                 Least Squares   F-statistic:                     572.3\n",
       "Date:                Fri, 01 May 2020   Prob (F-statistic):               0.00\n",
       "Time:                        19:31:37   Log-Likelihood:            -3.2346e+05\n",
       "No. Observations:               30130   AIC:                         6.470e+05\n",
       "Df Residuals:                   30094   BIC:                         6.473e+05\n",
       "Df Model:                          35                                         \n",
       "Covariance Type:            nonrobust                                         \n",
       "=============================================================================================\n",
       "                                coef    std err          t      P>|t|      [0.025      0.975]\n",
       "---------------------------------------------------------------------------------------------\n",
       "const                      2.932e+04    455.047     64.427      0.000    2.84e+04    3.02e+04\n",
       "Year                      -1765.3192     21.669    -81.467      0.000   -1807.792   -1722.847\n",
       "Leather interior           1072.9983    172.690      6.213      0.000     734.518    1411.478\n",
       "Airbags                    -273.3566     17.955    -15.224      0.000    -308.550    -238.163\n",
       "Turbo                      5278.7255    242.816     21.740      0.000    4802.795    5754.656\n",
       "ManufacturerBMW            6677.0438    413.400     16.152      0.000    5866.762    7487.325\n",
       "ManufacturerFORD           3440.1529    326.182     10.547      0.000    2800.823    4079.483\n",
       "ManufacturerHONDA          6338.3772    370.499     17.108      0.000    5612.183    7064.572\n",
       "ManufacturerHYUNDAI        7475.4526    246.003     30.388      0.000    6993.276    7957.629\n",
       "ManufacturerJEEP           1.011e+04    698.395     14.471      0.000    8737.618    1.15e+04\n",
       "ManufacturerLEXUS          1.122e+04    392.386     28.600      0.000    1.05e+04     1.2e+04\n",
       "ManufacturerMERCEDES-BENZ  6676.0361    341.924     19.525      0.000    6005.850    7346.222\n",
       "ManufacturerNISSAN         1377.5991    378.613      3.639      0.000     635.500    2119.698\n",
       "ManufacturerOther          4395.3683    414.440     10.606      0.000    3583.049    5207.688\n",
       "ManufacturerSSANGYONG      7638.7450    506.732     15.075      0.000    6645.528    8631.962\n",
       "ManufacturerSUBARU        -5733.3408    558.094    -10.273      0.000   -6827.229   -4639.453\n",
       "ManufacturerTOYOTA         7242.1926    264.417     27.389      0.000    6723.925    7760.460\n",
       "ManufacturerVOLKSWAGEN    -2888.4596    395.808     -7.298      0.000   -3664.260   -2112.659\n",
       "CategoryCoupe              3978.4198    441.878      9.003      0.000    3112.321    4844.519\n",
       "CategoryJeep               7674.1484    195.118     39.331      0.000    7291.708    8056.589\n",
       "CategoryMicrobus           4383.0429    747.245      5.866      0.000    2918.411    5847.675\n",
       "CategoryMinivan            4626.5180    394.672     11.722      0.000    3852.943    5400.093\n",
       "CategoryUniversal          6489.0918    502.768     12.907      0.000    5503.646    7474.538\n",
       "Fuel typeHybrid           -6402.6942    291.513    -21.964      0.000   -6974.073   -5831.316\n",
       "Fuel typeLPG              -9605.4187    367.844    -26.113      0.000   -1.03e+04   -8884.429\n",
       "Fuel typePetrol           -2850.9263    209.711    -13.595      0.000   -3261.970   -2439.883\n",
       "Fuel typePlug-in Hybrid    5316.7980    860.890      6.176      0.000    3629.416    7004.180\n",
       "TypegearboxManual          2201.8727    356.250      6.181      0.000    1503.607    2900.138\n",
       "TypegearboxTiptronic       7226.3964    195.411     36.981      0.000    6843.383    7609.410\n",
       "TypegearboxVariator        4074.0618    308.724     13.196      0.000    3468.950    4679.174\n",
       "Drive wheelsAuto          -7385.9353   1433.074     -5.154      0.000   -1.02e+04   -4577.048\n",
       "Drive wheelsFront         -1353.6690    239.261     -5.658      0.000   -1822.631    -884.707\n",
       "Drive wheelsRear           1706.8083    316.733      5.389      0.000    1085.998    2327.618\n",
       "Doors>5                    4025.1790    760.008      5.296      0.000    2535.532    5514.826\n",
       "ColorGrey                  1023.9796    195.579      5.236      0.000     640.637    1407.322\n",
       "ColorSilver                -791.3278    170.412     -4.644      0.000   -1125.342    -457.314\n",
       "==============================================================================\n",
       "Omnibus:                     3723.367   Durbin-Watson:                   1.393\n",
       "Prob(Omnibus):                  0.000   Jarque-Bera (JB):             8383.155\n",
       "Skew:                           0.745   Prob(JB):                         0.00\n",
       "Kurtosis:                       5.111   Cond. No.                         238.\n",
       "==============================================================================\n",
       "\n",
       "Warnings:\n",
       "[1] Standard Errors assume that the covariance matrix of the errors is correctly specified.\n",
       "\"\"\""
      ]
     },
     "execution_count": 128,
     "metadata": {},
     "output_type": "execute_result"
    }
   ],
   "source": [
    "sm.OLS(y,add_constant(XA)).fit().summary()"
   ]
  },
  {
   "cell_type": "markdown",
   "metadata": {},
   "source": [
    "## Autocorrelation - when rows are correlated"
   ]
  },
  {
   "cell_type": "markdown",
   "metadata": {},
   "source": [
    "Durbin_Watson=1,393\n",
    "Small Positive Autocorrelation"
   ]
  },
  {
   "cell_type": "markdown",
   "metadata": {},
   "source": [
    "Assumption is satisfied. No autocorrelation found"
   ]
  },
  {
   "cell_type": "markdown",
   "metadata": {},
   "source": [
    "## Linearity"
   ]
  },
  {
   "cell_type": "code",
   "execution_count": 129,
   "metadata": {},
   "outputs": [],
   "source": [
    "mod=sm.OLS(y,add_constant(XA)).fit()\n",
    "resid=mod.resid"
   ]
  },
  {
   "cell_type": "code",
   "execution_count": 130,
   "metadata": {
    "scrolled": true
   },
   "outputs": [],
   "source": [
    "y_pred=mod.predict(add_constant(XA))"
   ]
  },
  {
   "cell_type": "code",
   "execution_count": 131,
   "metadata": {},
   "outputs": [
    {
     "data": {
      "text/plain": [
       "<matplotlib.collections.PathCollection at 0xf03515d7c8>"
      ]
     },
     "execution_count": 131,
     "metadata": {},
     "output_type": "execute_result"
    },
    {
     "data": {
      "image/png": "[encoded data removed]",
      "text/plain": [
       "<Figure size 432x288 with 1 Axes>"
      ]
     },
     "metadata": {},
     "output_type": "display_data"
    }
   ],
   "source": [
    "plt.scatter(y, y_pred)"
   ]
  },
  {
   "cell_type": "code",
   "execution_count": 133,
   "metadata": {},
   "outputs": [],
   "source": [
    "data=pd.concat([y,y_pred],axis=1)"
   ]
  },
  {
   "cell_type": "code",
   "execution_count": 134,
   "metadata": {},
   "outputs": [],
   "source": [
    "data.columns=['Price','Pred']"
   ]
  },
  {
   "cell_type": "code",
   "execution_count": 136,
   "metadata": {},
   "outputs": [
    {
     "data": {
      "text/plain": [
       "[<matplotlib.lines.Line2D at 0xf038d33488>]"
      ]
     },
     "execution_count": 136,
     "metadata": {},
     "output_type": "execute_result"
    },
    {
     "data": {
      "image/png": "[encoded data removed]",
      "text/plain": [
       "<Figure size 432x288 with 1 Axes>"
      ]
     },
     "metadata": {},
     "output_type": "display_data"
    }
   ],
   "source": [
    "plt.plot((y-y_pred))"
   ]
  },
  {
   "cell_type": "code",
   "execution_count": 139,
   "metadata": {},
   "outputs": [
    {
     "data": {
      "text/plain": [
       "Text(0, 0.5, 'Car Price')"
      ]
     },
     "execution_count": 139,
     "metadata": {},
     "output_type": "execute_result"
    },
    {
     "data": {
      "image/png": "[encoded data removed]",
      "text/plain": [
       "<Figure size 432x288 with 1 Axes>"
      ]
     },
     "metadata": {},
     "output_type": "display_data"
    }
   ],
   "source": [
    "c = [i for i in range(1,30131,1)]\n",
    "fig = plt.figure()\n",
    "plt.plot(c,y, color=\"blue\", linewidth=3.5, linestyle=\"-\")     #Plotting Actual\n",
    "plt.plot(c,y_pred, color=\"red\",  linewidth=3.5, linestyle=\"-\")  #Plotting predicted\n",
    "fig.suptitle('Actual and Predicted', fontsize=20)              # Plot heading \n",
    "plt.xlabel('Index', fontsize=18)                               # X-label\n",
    "plt.ylabel('Car Price', fontsize=16)"
   ]
  },
  {
   "cell_type": "code",
   "execution_count": null,
   "metadata": {},
   "outputs": [],
   "source": []
  }
 ],
 "metadata": {
  "kernelspec": {
   "display_name": "Python 3",
   "language": "python",
   "name": "python3"
  },
  "language_info": {
   "codemirror_mode": {
    "name": "ipython",
    "version": 3
   },
   "file_extension": ".py",
   "mimetype": "text/x-python",
   "name": "python",
   "nbconvert_exporter": "python",
   "pygments_lexer": "ipython3",
   "version": "3.7.7"
  }
 },
 "nbformat": 4,
 "nbformat_minor": 4
}
