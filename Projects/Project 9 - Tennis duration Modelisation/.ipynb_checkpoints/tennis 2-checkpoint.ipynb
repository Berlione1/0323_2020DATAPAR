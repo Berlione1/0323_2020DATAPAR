{
 "cells": [
  {
   "cell_type": "code",
   "execution_count": 1,
   "metadata": {},
   "outputs": [],
   "source": [
    "import pandas as pd\n",
    "import numpy as np\n",
    "\n",
    "import matplotlib.pyplot as plt\n",
    "import seaborn as sns\n",
    "\n",
    "pd.set_option('display.max_columns', 100)"
   ]
  },
  {
   "cell_type": "code",
   "execution_count": 2,
   "metadata": {},
   "outputs": [],
   "source": [
    "df=pd.read_csv('Match_Data.csv')"
   ]
  },
  {
   "cell_type": "code",
   "execution_count": 3,
   "metadata": {},
   "outputs": [],
   "source": [
    "player1='Federico Delbonis'\n",
    "player_age1=29\n",
    "player_rank1=78\n",
    "player2='Peter Gojowczyk'\n",
    "player_age2=30\n",
    "player_rank2=125\n",
    "setmax=5\n",
    "surface='clay'"
   ]
  },
  {
   "cell_type": "code",
   "execution_count": 4,
   "metadata": {},
   "outputs": [],
   "source": [
    "df['best_of']=np.where(df['best_of']==5,1,0)\n",
    "if setmax==5:\n",
    "    i=df[df['best_of']==0].index\n",
    "else:\n",
    "    i=df[df['best_of']==1].index\n",
    "df=df.drop(i)\n",
    "df=df.drop('best_of',axis=1)"
   ]
  },
  {
   "cell_type": "markdown",
   "metadata": {},
   "source": [
    "## DATA CLEANING"
   ]
  },
  {
   "cell_type": "code",
   "execution_count": 5,
   "metadata": {},
   "outputs": [],
   "source": [
    "i=df[df['minutes'].isna()].index\n",
    "df=df.drop(i)\n",
    "j=df[df['loser_age'].isna()].index\n",
    "df=df.drop(j)\n",
    "k=df[df['winner_age'].isna()].index\n",
    "df=df.drop(k)\n",
    "l=df[df['surface']==\"None\"].index\n",
    "df=df.drop(l)\n",
    "m=df[df['minutes']==0].index\n",
    "df=df.drop(m)"
   ]
  },
  {
   "cell_type": "code",
   "execution_count": 6,
   "metadata": {},
   "outputs": [],
   "source": [
    "df.loser_rank=np.where(df.loser_rank.isnull(),1500,df.loser_rank)\n",
    "df.winner_rank=np.where(df.winner_rank.isnull(),1500,df.winner_rank)"
   ]
  },
  {
   "cell_type": "code",
   "execution_count": 7,
   "metadata": {},
   "outputs": [],
   "source": [
    "df=df[['surface', 'winner_id','winner_name','loser_name','winner_hand', 'winner_age',\n",
    "       'loser_id', 'loser_hand','loser_age',\n",
    "       'minutes', 'winner_rank', 'loser_rank','tourney_name']]"
   ]
  },
  {
   "cell_type": "code",
   "execution_count": 8,
   "metadata": {},
   "outputs": [],
   "source": [
    "df['winner_rank_diff']=df['winner_rank']-df['loser_rank']\n",
    "df['loser_rank_diff']=df['loser_rank']-df['winner_rank']\n",
    "df['winner_age_diff']=df['winner_age']-df['loser_age']\n",
    "df['loser_age_diff']=df['loser_age']-df['winner_age']\n",
    "df['winner_hand']=np.where(df['winner_hand']=='R',1,0)\n",
    "df['loser_hand']=np.where(df['loser_hand']=='R',1,0)\n",
    "df['tourney_name']=np.where(df['tourney_name'].str.contains('Davis Cup'),'Davis Cup',df['tourney_name'])"
   ]
  },
  {
   "cell_type": "code",
   "execution_count": 9,
   "metadata": {},
   "outputs": [],
   "source": [
    "df=pd.get_dummies(data=df, columns=['surface','tourney_name'], drop_first=True)"
   ]
  },
  {
   "cell_type": "code",
   "execution_count": 10,
   "metadata": {
    "scrolled": false
   },
   "outputs": [
    {
     "data": {
      "text/html": [
       "<div>\n",
       "<style scoped>\n",
       "    .dataframe tbody tr th:only-of-type {\n",
       "        vertical-align: middle;\n",
       "    }\n",
       "\n",
       "    .dataframe tbody tr th {\n",
       "        vertical-align: top;\n",
       "    }\n",
       "\n",
       "    .dataframe thead th {\n",
       "        text-align: right;\n",
       "    }\n",
       "</style>\n",
       "<table border=\"1\" class=\"dataframe\">\n",
       "  <thead>\n",
       "    <tr style=\"text-align: right;\">\n",
       "      <th></th>\n",
       "      <th>winner_id</th>\n",
       "      <th>winner_name</th>\n",
       "      <th>loser_name</th>\n",
       "      <th>winner_hand</th>\n",
       "      <th>winner_age</th>\n",
       "      <th>loser_id</th>\n",
       "      <th>loser_hand</th>\n",
       "      <th>loser_age</th>\n",
       "      <th>minutes</th>\n",
       "      <th>winner_rank</th>\n",
       "      <th>loser_rank</th>\n",
       "      <th>winner_rank_diff</th>\n",
       "      <th>loser_rank_diff</th>\n",
       "      <th>winner_age_diff</th>\n",
       "      <th>loser_age_diff</th>\n",
       "      <th>surface_Clay</th>\n",
       "      <th>surface_Grass</th>\n",
       "      <th>surface_Hard</th>\n",
       "      <th>tourney_name_Davis Cup</th>\n",
       "      <th>tourney_name_Rio Olympics</th>\n",
       "      <th>tourney_name_Roland Garros</th>\n",
       "      <th>tourney_name_US Open</th>\n",
       "      <th>tourney_name_Wimbledon</th>\n",
       "    </tr>\n",
       "  </thead>\n",
       "  <tbody>\n",
       "    <tr>\n",
       "      <th>167</th>\n",
       "      <td>104745</td>\n",
       "      <td>Rafael Nadal</td>\n",
       "      <td>Hugo Dellien</td>\n",
       "      <td>0</td>\n",
       "      <td>33.631759</td>\n",
       "      <td>106198</td>\n",
       "      <td>1</td>\n",
       "      <td>26.595483</td>\n",
       "      <td>122.0</td>\n",
       "      <td>1.0</td>\n",
       "      <td>73.0</td>\n",
       "      <td>-72.0</td>\n",
       "      <td>72.0</td>\n",
       "      <td>7.036277</td>\n",
       "      <td>-7.036277</td>\n",
       "      <td>0</td>\n",
       "      <td>0</td>\n",
       "      <td>1</td>\n",
       "      <td>0</td>\n",
       "      <td>0</td>\n",
       "      <td>0</td>\n",
       "      <td>0</td>\n",
       "      <td>0</td>\n",
       "    </tr>\n",
       "    <tr>\n",
       "      <th>168</th>\n",
       "      <td>105643</td>\n",
       "      <td>Federico Delbonis</td>\n",
       "      <td>Joao Sousa</td>\n",
       "      <td>0</td>\n",
       "      <td>29.292266</td>\n",
       "      <td>105311</td>\n",
       "      <td>1</td>\n",
       "      <td>30.809035</td>\n",
       "      <td>139.0</td>\n",
       "      <td>76.0</td>\n",
       "      <td>59.0</td>\n",
       "      <td>17.0</td>\n",
       "      <td>-17.0</td>\n",
       "      <td>-1.516769</td>\n",
       "      <td>1.516769</td>\n",
       "      <td>0</td>\n",
       "      <td>0</td>\n",
       "      <td>1</td>\n",
       "      <td>0</td>\n",
       "      <td>0</td>\n",
       "      <td>0</td>\n",
       "      <td>0</td>\n",
       "      <td>0</td>\n",
       "    </tr>\n",
       "    <tr>\n",
       "      <th>169</th>\n",
       "      <td>105376</td>\n",
       "      <td>Peter Gojowczyk</td>\n",
       "      <td>Christopher Eubanks</td>\n",
       "      <td>1</td>\n",
       "      <td>30.516085</td>\n",
       "      <td>111153</td>\n",
       "      <td>1</td>\n",
       "      <td>23.709788</td>\n",
       "      <td>125.0</td>\n",
       "      <td>120.0</td>\n",
       "      <td>221.0</td>\n",
       "      <td>-101.0</td>\n",
       "      <td>101.0</td>\n",
       "      <td>6.806297</td>\n",
       "      <td>-6.806297</td>\n",
       "      <td>0</td>\n",
       "      <td>0</td>\n",
       "      <td>1</td>\n",
       "      <td>0</td>\n",
       "      <td>0</td>\n",
       "      <td>0</td>\n",
       "      <td>0</td>\n",
       "      <td>0</td>\n",
       "    </tr>\n",
       "    <tr>\n",
       "      <th>170</th>\n",
       "      <td>105807</td>\n",
       "      <td>Pablo Carreno Busta</td>\n",
       "      <td>Jozef Kovalik</td>\n",
       "      <td>1</td>\n",
       "      <td>28.525667</td>\n",
       "      <td>106075</td>\n",
       "      <td>1</td>\n",
       "      <td>27.208761</td>\n",
       "      <td>157.0</td>\n",
       "      <td>30.0</td>\n",
       "      <td>139.0</td>\n",
       "      <td>-109.0</td>\n",
       "      <td>109.0</td>\n",
       "      <td>1.316906</td>\n",
       "      <td>-1.316906</td>\n",
       "      <td>0</td>\n",
       "      <td>0</td>\n",
       "      <td>1</td>\n",
       "      <td>0</td>\n",
       "      <td>0</td>\n",
       "      <td>0</td>\n",
       "      <td>0</td>\n",
       "      <td>0</td>\n",
       "    </tr>\n",
       "    <tr>\n",
       "      <th>171</th>\n",
       "      <td>106401</td>\n",
       "      <td>Nick Kyrgios</td>\n",
       "      <td>Lorenzo Sonego</td>\n",
       "      <td>1</td>\n",
       "      <td>24.733744</td>\n",
       "      <td>132283</td>\n",
       "      <td>1</td>\n",
       "      <td>24.695414</td>\n",
       "      <td>133.0</td>\n",
       "      <td>26.0</td>\n",
       "      <td>53.0</td>\n",
       "      <td>-27.0</td>\n",
       "      <td>27.0</td>\n",
       "      <td>0.038330</td>\n",
       "      <td>-0.038330</td>\n",
       "      <td>0</td>\n",
       "      <td>0</td>\n",
       "      <td>1</td>\n",
       "      <td>0</td>\n",
       "      <td>0</td>\n",
       "      <td>0</td>\n",
       "      <td>0</td>\n",
       "      <td>0</td>\n",
       "    </tr>\n",
       "  </tbody>\n",
       "</table>\n",
       "</div>"
      ],
      "text/plain": [
       "     winner_id          winner_name           loser_name  winner_hand  \\\n",
       "167     104745         Rafael Nadal         Hugo Dellien            0   \n",
       "168     105643    Federico Delbonis           Joao Sousa            0   \n",
       "169     105376      Peter Gojowczyk  Christopher Eubanks            1   \n",
       "170     105807  Pablo Carreno Busta        Jozef Kovalik            1   \n",
       "171     106401         Nick Kyrgios       Lorenzo Sonego            1   \n",
       "\n",
       "     winner_age  loser_id  loser_hand  loser_age  minutes  winner_rank  \\\n",
       "167   33.631759    106198           1  26.595483    122.0          1.0   \n",
       "168   29.292266    105311           1  30.809035    139.0         76.0   \n",
       "169   30.516085    111153           1  23.709788    125.0        120.0   \n",
       "170   28.525667    106075           1  27.208761    157.0         30.0   \n",
       "171   24.733744    132283           1  24.695414    133.0         26.0   \n",
       "\n",
       "     loser_rank  winner_rank_diff  loser_rank_diff  winner_age_diff  \\\n",
       "167        73.0             -72.0             72.0         7.036277   \n",
       "168        59.0              17.0            -17.0        -1.516769   \n",
       "169       221.0            -101.0            101.0         6.806297   \n",
       "170       139.0            -109.0            109.0         1.316906   \n",
       "171        53.0             -27.0             27.0         0.038330   \n",
       "\n",
       "     loser_age_diff  surface_Clay  surface_Grass  surface_Hard  \\\n",
       "167       -7.036277             0              0             1   \n",
       "168        1.516769             0              0             1   \n",
       "169       -6.806297             0              0             1   \n",
       "170       -1.316906             0              0             1   \n",
       "171       -0.038330             0              0             1   \n",
       "\n",
       "     tourney_name_Davis Cup  tourney_name_Rio Olympics  \\\n",
       "167                       0                          0   \n",
       "168                       0                          0   \n",
       "169                       0                          0   \n",
       "170                       0                          0   \n",
       "171                       0                          0   \n",
       "\n",
       "     tourney_name_Roland Garros  tourney_name_US Open  tourney_name_Wimbledon  \n",
       "167                           0                     0                       0  \n",
       "168                           0                     0                       0  \n",
       "169                           0                     0                       0  \n",
       "170                           0                     0                       0  \n",
       "171                           0                     0                       0  "
      ]
     },
     "execution_count": 10,
     "metadata": {},
     "output_type": "execute_result"
    }
   ],
   "source": [
    "df.head()"
   ]
  },
  {
   "cell_type": "code",
   "execution_count": 11,
   "metadata": {},
   "outputs": [
    {
     "data": {
      "text/plain": [
       "(2708, 23)"
      ]
     },
     "execution_count": 11,
     "metadata": {},
     "output_type": "execute_result"
    }
   ],
   "source": [
    "df.shape"
   ]
  },
  {
   "cell_type": "code",
   "execution_count": 12,
   "metadata": {},
   "outputs": [],
   "source": [
    "dfw=df.drop(['winner_age','loser_age','loser_rank','loser_rank_diff','loser_age_diff','loser_id','loser_name'],axis=1)"
   ]
  },
  {
   "cell_type": "code",
   "execution_count": 13,
   "metadata": {},
   "outputs": [],
   "source": [
    "dfl=df.drop(['loser_age','winner_age','winner_rank','winner_rank_diff','winner_age_diff','winner_id','winner_name'],axis=1)"
   ]
  },
  {
   "cell_type": "code",
   "execution_count": 14,
   "metadata": {},
   "outputs": [],
   "source": [
    "dfw=dfw.rename(columns={'winner_id':'player_id','winner_hand':'player_hand','winner_rank':'player_rank', 'loser_hand':'opp_hand', \n",
    "       'winner_rank_diff':'player_rank_diff', 'winner_age_diff':'player_age_diff','winner_name':'player_name'})"
   ]
  },
  {
   "cell_type": "code",
   "execution_count": 15,
   "metadata": {},
   "outputs": [],
   "source": [
    "dfl=dfl.rename(columns={'loser_id':'player_id','loser_hand':'player_hand','loser_rank':'player_rank', 'winner_hand':'opp_hand', \n",
    "       'loser_rank_diff':'player_rank_diff', 'loser_age_diff':'player_age_diff','loser_name':'player_name'})"
   ]
  },
  {
   "cell_type": "markdown",
   "metadata": {},
   "source": [
    "### Concatenation of winnner /loser"
   ]
  },
  {
   "cell_type": "code",
   "execution_count": 16,
   "metadata": {},
   "outputs": [],
   "source": [
    "Dts=[dfw,dfl]\n",
    "df0=pd.concat(Dts, axis=0, ignore_index=True)"
   ]
  },
  {
   "cell_type": "code",
   "execution_count": 17,
   "metadata": {
    "scrolled": true
   },
   "outputs": [
    {
     "data": {
      "text/html": [
       "<div>\n",
       "<style scoped>\n",
       "    .dataframe tbody tr th:only-of-type {\n",
       "        vertical-align: middle;\n",
       "    }\n",
       "\n",
       "    .dataframe tbody tr th {\n",
       "        vertical-align: top;\n",
       "    }\n",
       "\n",
       "    .dataframe thead th {\n",
       "        text-align: right;\n",
       "    }\n",
       "</style>\n",
       "<table border=\"1\" class=\"dataframe\">\n",
       "  <thead>\n",
       "    <tr style=\"text-align: right;\">\n",
       "      <th></th>\n",
       "      <th>player_id</th>\n",
       "      <th>player_name</th>\n",
       "      <th>player_hand</th>\n",
       "      <th>opp_hand</th>\n",
       "      <th>minutes</th>\n",
       "      <th>player_rank</th>\n",
       "      <th>player_rank_diff</th>\n",
       "      <th>player_age_diff</th>\n",
       "      <th>surface_Clay</th>\n",
       "      <th>surface_Grass</th>\n",
       "      <th>surface_Hard</th>\n",
       "      <th>tourney_name_Davis Cup</th>\n",
       "      <th>tourney_name_Rio Olympics</th>\n",
       "      <th>tourney_name_Roland Garros</th>\n",
       "      <th>tourney_name_US Open</th>\n",
       "      <th>tourney_name_Wimbledon</th>\n",
       "    </tr>\n",
       "  </thead>\n",
       "  <tbody>\n",
       "    <tr>\n",
       "      <th>0</th>\n",
       "      <td>104745</td>\n",
       "      <td>Rafael Nadal</td>\n",
       "      <td>0</td>\n",
       "      <td>1</td>\n",
       "      <td>122.0</td>\n",
       "      <td>1.0</td>\n",
       "      <td>-72.0</td>\n",
       "      <td>7.036277</td>\n",
       "      <td>0</td>\n",
       "      <td>0</td>\n",
       "      <td>1</td>\n",
       "      <td>0</td>\n",
       "      <td>0</td>\n",
       "      <td>0</td>\n",
       "      <td>0</td>\n",
       "      <td>0</td>\n",
       "    </tr>\n",
       "    <tr>\n",
       "      <th>1</th>\n",
       "      <td>105643</td>\n",
       "      <td>Federico Delbonis</td>\n",
       "      <td>0</td>\n",
       "      <td>1</td>\n",
       "      <td>139.0</td>\n",
       "      <td>76.0</td>\n",
       "      <td>17.0</td>\n",
       "      <td>-1.516769</td>\n",
       "      <td>0</td>\n",
       "      <td>0</td>\n",
       "      <td>1</td>\n",
       "      <td>0</td>\n",
       "      <td>0</td>\n",
       "      <td>0</td>\n",
       "      <td>0</td>\n",
       "      <td>0</td>\n",
       "    </tr>\n",
       "    <tr>\n",
       "      <th>2</th>\n",
       "      <td>105376</td>\n",
       "      <td>Peter Gojowczyk</td>\n",
       "      <td>1</td>\n",
       "      <td>1</td>\n",
       "      <td>125.0</td>\n",
       "      <td>120.0</td>\n",
       "      <td>-101.0</td>\n",
       "      <td>6.806297</td>\n",
       "      <td>0</td>\n",
       "      <td>0</td>\n",
       "      <td>1</td>\n",
       "      <td>0</td>\n",
       "      <td>0</td>\n",
       "      <td>0</td>\n",
       "      <td>0</td>\n",
       "      <td>0</td>\n",
       "    </tr>\n",
       "    <tr>\n",
       "      <th>3</th>\n",
       "      <td>105807</td>\n",
       "      <td>Pablo Carreno Busta</td>\n",
       "      <td>1</td>\n",
       "      <td>1</td>\n",
       "      <td>157.0</td>\n",
       "      <td>30.0</td>\n",
       "      <td>-109.0</td>\n",
       "      <td>1.316906</td>\n",
       "      <td>0</td>\n",
       "      <td>0</td>\n",
       "      <td>1</td>\n",
       "      <td>0</td>\n",
       "      <td>0</td>\n",
       "      <td>0</td>\n",
       "      <td>0</td>\n",
       "      <td>0</td>\n",
       "    </tr>\n",
       "    <tr>\n",
       "      <th>4</th>\n",
       "      <td>106401</td>\n",
       "      <td>Nick Kyrgios</td>\n",
       "      <td>1</td>\n",
       "      <td>1</td>\n",
       "      <td>133.0</td>\n",
       "      <td>26.0</td>\n",
       "      <td>-27.0</td>\n",
       "      <td>0.038330</td>\n",
       "      <td>0</td>\n",
       "      <td>0</td>\n",
       "      <td>1</td>\n",
       "      <td>0</td>\n",
       "      <td>0</td>\n",
       "      <td>0</td>\n",
       "      <td>0</td>\n",
       "      <td>0</td>\n",
       "    </tr>\n",
       "  </tbody>\n",
       "</table>\n",
       "</div>"
      ],
      "text/plain": [
       "   player_id          player_name  player_hand  opp_hand  minutes  \\\n",
       "0     104745         Rafael Nadal            0         1    122.0   \n",
       "1     105643    Federico Delbonis            0         1    139.0   \n",
       "2     105376      Peter Gojowczyk            1         1    125.0   \n",
       "3     105807  Pablo Carreno Busta            1         1    157.0   \n",
       "4     106401         Nick Kyrgios            1         1    133.0   \n",
       "\n",
       "   player_rank  player_rank_diff  player_age_diff  surface_Clay  \\\n",
       "0          1.0             -72.0         7.036277             0   \n",
       "1         76.0              17.0        -1.516769             0   \n",
       "2        120.0            -101.0         6.806297             0   \n",
       "3         30.0            -109.0         1.316906             0   \n",
       "4         26.0             -27.0         0.038330             0   \n",
       "\n",
       "   surface_Grass  surface_Hard  tourney_name_Davis Cup  \\\n",
       "0              0             1                       0   \n",
       "1              0             1                       0   \n",
       "2              0             1                       0   \n",
       "3              0             1                       0   \n",
       "4              0             1                       0   \n",
       "\n",
       "   tourney_name_Rio Olympics  tourney_name_Roland Garros  \\\n",
       "0                          0                           0   \n",
       "1                          0                           0   \n",
       "2                          0                           0   \n",
       "3                          0                           0   \n",
       "4                          0                           0   \n",
       "\n",
       "   tourney_name_US Open  tourney_name_Wimbledon  \n",
       "0                     0                       0  \n",
       "1                     0                       0  \n",
       "2                     0                       0  \n",
       "3                     0                       0  \n",
       "4                     0                       0  "
      ]
     },
     "execution_count": 17,
     "metadata": {},
     "output_type": "execute_result"
    }
   ],
   "source": [
    "df0.head()"
   ]
  },
  {
   "cell_type": "code",
   "execution_count": 18,
   "metadata": {},
   "outputs": [],
   "source": [
    "if setmax==5:\n",
    "    bins = pd.IntervalIndex.from_tuples([(0, 100),(100,115),(115,130),(130,150),(150,175),(175,200),(200,3000)])\n",
    "else:\n",
    "    bins = pd.IntervalIndex.from_tuples([(0, 60),(60,70),(70,80),(80,100),(100,120),(120,150),(150,3000)])"
   ]
  },
  {
   "cell_type": "code",
   "execution_count": 19,
   "metadata": {},
   "outputs": [],
   "source": [
    "x=pd.cut(df0['minutes'].to_list(),bins)"
   ]
  },
  {
   "cell_type": "code",
   "execution_count": 20,
   "metadata": {},
   "outputs": [],
   "source": [
    "x.categories = [0,1,2,3,4,5,6]"
   ]
  },
  {
   "cell_type": "code",
   "execution_count": 21,
   "metadata": {},
   "outputs": [],
   "source": [
    "df0['bin_minutes']=x"
   ]
  },
  {
   "cell_type": "code",
   "execution_count": 22,
   "metadata": {},
   "outputs": [],
   "source": [
    "#df0['bin_minutes']=pd.qcut(df0['minutes'],8,labels=False)"
   ]
  },
  {
   "cell_type": "code",
   "execution_count": 23,
   "metadata": {},
   "outputs": [],
   "source": [
    "df1=df0"
   ]
  },
  {
   "cell_type": "markdown",
   "metadata": {},
   "source": [
    "## Analyse on a player 1"
   ]
  },
  {
   "cell_type": "code",
   "execution_count": 24,
   "metadata": {},
   "outputs": [],
   "source": [
    "Player=df1[['player_id',\"player_name\"]]\n",
    "Player=Player.drop_duplicates()\n",
    "A=Player[Player[\"player_name\"]==player1]['player_id']\n",
    "A=float(A)"
   ]
  },
  {
   "cell_type": "code",
   "execution_count": 25,
   "metadata": {},
   "outputs": [],
   "source": [
    "f=df1[df1[\"player_id\"]!=A].index\n",
    "df1=df1.drop(f)\n",
    "df1=df1.drop([\"player_id\",'player_name','player_hand','player_rank','minutes'],axis=1)"
   ]
  },
  {
   "cell_type": "markdown",
   "metadata": {},
   "source": [
    "## Train - Test"
   ]
  },
  {
   "cell_type": "code",
   "execution_count": 26,
   "metadata": {},
   "outputs": [],
   "source": [
    "X=df1.drop('bin_minutes',axis=1).iloc[:,0:5]\n",
    "y=df1.bin_minutes"
   ]
  },
  {
   "cell_type": "code",
   "execution_count": 27,
   "metadata": {},
   "outputs": [],
   "source": [
    "from sklearn.model_selection import train_test_split\n",
    "X_train, X_test, y_train, y_test = train_test_split(X, y, test_size=0.20,random_state=42)\n",
    "from sklearn.metrics import confusion_matrix"
   ]
  },
  {
   "cell_type": "code",
   "execution_count": 28,
   "metadata": {},
   "outputs": [],
   "source": [
    "from sklearn.naive_bayes import GaussianNB\n",
    "from sklearn.tree import DecisionTreeClassifier\n",
    "from sklearn.ensemble import RandomForestClassifier\n",
    "from sklearn.svm import SVC\n",
    "import xgboost as xgb\n",
    "from sklearn.ensemble import AdaBoostClassifier\n",
    "from catboost import CatBoostClassifier\n",
    "from sklearn.metrics import confusion_matrix, accuracy_score\n",
    "from sklearn.svm import NuSVC\n",
    "from sklearn.neighbors import KNeighborsClassifier"
   ]
  },
  {
   "cell_type": "code",
   "execution_count": 29,
   "metadata": {
    "scrolled": true
   },
   "outputs": [
    {
     "name": "stdout",
     "output_type": "stream",
     "text": [
      "KNeighborsClassifier\n",
      "model1_1\n",
      "Accuracy: 0.16666666666666666\n",
      "-------------------------------------\n",
      "DecisionTreeClassifier\n",
      "model1_2\n",
      "Accuracy: 0.16666666666666666\n",
      "-------------------------------------\n",
      "RandomForestClassifier\n",
      "model1_3\n",
      "Accuracy: 0.16666666666666666\n",
      "-------------------------------------\n",
      "RandomForestClassifier balanced\n",
      "model1_4\n",
      "Accuracy: 0.16666666666666666\n",
      "-------------------------------------\n",
      "AdaBoostClassifier\n",
      "model1_5\n",
      "Accuracy: 0.16666666666666666\n",
      "-------------------------------------\n",
      "XGBClassifier\n",
      "model1_6\n",
      "Accuracy: 0.16666666666666666\n",
      "-------------------------------------\n",
      "KNeighborsClassifier distance\n",
      "model1_7\n",
      "Accuracy: 0.16666666666666666\n",
      "-------------------------------------\n",
      "GaussianNB()\n",
      "model1_8\n",
      "Accuracy: 0.16666666666666666\n"
     ]
    }
   ],
   "source": [
    "print('KNeighborsClassifier')\n",
    "print('model1_1')\n",
    "model1_1=KNeighborsClassifier(5)\n",
    "model1_1.fit(X_train,y_train)\n",
    "y_pred1=model1_1.predict(X_test)\n",
    "conf1=confusion_matrix(y_test,y_pred1)\n",
    "ac1=accuracy_score(y_test,y_pred1)\n",
    "print('Accuracy:',ac1)\n",
    "print('-------------------------------------')\n",
    "print('DecisionTreeClassifier')\n",
    "print('model1_2')\n",
    "model1_2=DecisionTreeClassifier()\n",
    "model1_2.fit(X_train,y_train)\n",
    "pred3=model1_2.predict(X_test)\n",
    "conf3=confusion_matrix(y_test, pred3)\n",
    "ac3=accuracy_score(y_test, pred3)\n",
    "print('Accuracy:',ac3)\n",
    "print('-------------------------------------')\n",
    "print('RandomForestClassifier')\n",
    "print('model1_3')\n",
    "model1_3=RandomForestClassifier()\n",
    "model1_3.fit(X_train,y_train)\n",
    "pred4=model1_3.predict(X_test)\n",
    "conf4=confusion_matrix(y_test, pred4)\n",
    "ac4=accuracy_score(y_test, pred4)\n",
    "print('Accuracy:',ac4)\n",
    "print('-------------------------------------')\n",
    "print('RandomForestClassifier balanced')\n",
    "print('model1_4')\n",
    "model1_4=RandomForestClassifier(class_weight='balanced')\n",
    "model1_4.fit(X_train,y_train)\n",
    "pred4_2=model1_4.predict(X_test)\n",
    "conf4_2=confusion_matrix(y_test, pred4_2)\n",
    "ac4_2=accuracy_score(y_test, pred4_2)\n",
    "print('Accuracy:',ac4_2)\n",
    "print('-------------------------------------')\n",
    "print('AdaBoostClassifier')\n",
    "print('model1_5')\n",
    "model1_5=AdaBoostClassifier()\n",
    "model1_5.fit(X_train,y_train)\n",
    "pred5=model1_5.predict(X_test)\n",
    "conf5=confusion_matrix(y_test, pred5)\n",
    "ac5=accuracy_score(y_test, pred5)\n",
    "print('Accuracy:',ac5)\n",
    "print('-------------------------------------')\n",
    "print('XGBClassifier')\n",
    "print('model1_6')\n",
    "model1_6=xgb.XGBClassifier()\n",
    "model1_6.fit(X_train,y_train)\n",
    "pred6=model1_6.predict(X_test)\n",
    "pred6=pred6.round()\n",
    "conf6=confusion_matrix(y_test, pred6)\n",
    "ac6=accuracy_score(y_test, pred6)\n",
    "print('Accuracy:',ac6)\n",
    "print('-------------------------------------')\n",
    "print('KNeighborsClassifier distance')\n",
    "print('model1_7')\n",
    "model1_7=KNeighborsClassifier(n_neighbors=5, weights='distance')\n",
    "model1_7.fit(X_train,y_train)\n",
    "pred7=model1_7.predict(X_test)\n",
    "conf7=confusion_matrix(y_test, pred7)\n",
    "ac7=accuracy_score(y_test, pred7)\n",
    "print('Accuracy:',ac7)\n",
    "print('-------------------------------------')\n",
    "print('GaussianNB()')\n",
    "print('model1_8')\n",
    "model1_8=GaussianNB()\n",
    "model1_8.fit(X_train,y_train)\n",
    "pred8=model1_8.predict(X_test)\n",
    "conf8=confusion_matrix(y_test, pred8)\n",
    "ac8=accuracy_score(y_test, pred8)\n",
    "print('Accuracy:',ac8)"
   ]
  },
  {
   "cell_type": "code",
   "execution_count": 30,
   "metadata": {},
   "outputs": [
    {
     "data": {
      "text/plain": [
       "KNeighborsClassifier(algorithm='auto', leaf_size=30, metric='minkowski',\n",
       "                     metric_params=None, n_jobs=None, n_neighbors=5, p=2,\n",
       "                     weights='uniform')"
      ]
     },
     "execution_count": 30,
     "metadata": {},
     "output_type": "execute_result"
    }
   ],
   "source": [
    "import operator\n",
    "stats = {model1_1:ac1, model1_2:ac3,model1_3:ac4, model1_4: ac4_2,model1_5:ac5,model1_6:ac6,model1_7:ac7,model1_8:ac8}\n",
    "bestmodel1=max(stats.items(), key=operator.itemgetter(1))[0]\n",
    "bestmodel1"
   ]
  },
  {
   "cell_type": "markdown",
   "metadata": {},
   "source": [
    "## Analyse on a player 2"
   ]
  },
  {
   "cell_type": "code",
   "execution_count": 31,
   "metadata": {},
   "outputs": [],
   "source": [
    "df2=df0"
   ]
  },
  {
   "cell_type": "code",
   "execution_count": 32,
   "metadata": {},
   "outputs": [],
   "source": [
    "Player=df2[['player_id',\"player_name\"]]\n",
    "Player=Player.drop_duplicates()\n",
    "A=Player[Player[\"player_name\"]==player2]['player_id']\n",
    "A=float(A)\n",
    "f=df2[df2[\"player_id\"]!=A].index\n",
    "df2=df2.drop(f)\n",
    "df2=df2.drop([\"player_id\",'player_name','player_hand','player_rank','minutes'],axis=1)"
   ]
  },
  {
   "cell_type": "code",
   "execution_count": 33,
   "metadata": {},
   "outputs": [],
   "source": [
    "X2=df2.drop('bin_minutes',axis=1).iloc[:,0:5]\n",
    "y2=df2.bin_minutes"
   ]
  },
  {
   "cell_type": "code",
   "execution_count": 34,
   "metadata": {},
   "outputs": [],
   "source": [
    "X_train2, X_test2, y_train2, y_test2 = train_test_split(X2, y2, test_size=0.20,random_state=42)"
   ]
  },
  {
   "cell_type": "code",
   "execution_count": 35,
   "metadata": {
    "scrolled": true
   },
   "outputs": [
    {
     "name": "stdout",
     "output_type": "stream",
     "text": [
      "KNeighborsClassifier\n",
      "model2_1\n",
      "Accuracy: 0.0\n",
      "-------------------------------------\n",
      "DecisionTreeClassifier\n",
      "model2_2\n",
      "Accuracy: 0.0\n",
      "-------------------------------------\n",
      "RandomForestClassifier\n",
      "model2_3\n",
      "Accuracy: 0.0\n",
      "-------------------------------------\n",
      "RandomForestClassifier balanced\n",
      "model2_4\n",
      "Accuracy: 0.0\n",
      "-------------------------------------\n",
      "AdaBoostClassifier\n",
      "model2_5\n",
      "Accuracy: 0.3333333333333333\n",
      "-------------------------------------\n",
      "XGBClassifier\n",
      "model2_6\n",
      "Accuracy: 0.0\n",
      "-------------------------------------\n",
      "KNeighborsClassifier distance\n",
      "model2_7\n",
      "Accuracy: 0.0\n",
      "-------------------------------------\n",
      "GaussianNB\n",
      "model2_8\n",
      "Accuracy: 0.0\n"
     ]
    }
   ],
   "source": [
    "print('KNeighborsClassifier')\n",
    "print('model2_1')\n",
    "model2_1=KNeighborsClassifier(4)\n",
    "model2_1.fit(X_train2,y_train2)\n",
    "y_pred12=model2_1.predict(X_test2)\n",
    "conf12=confusion_matrix(y_test2,y_pred12)\n",
    "ac12=accuracy_score(y_test2,y_pred12)\n",
    "print('Accuracy:',ac12)\n",
    "print('-------------------------------------')\n",
    "print('DecisionTreeClassifier')\n",
    "print('model2_2')\n",
    "model2_2=DecisionTreeClassifier()\n",
    "model2_2.fit(X_train2,y_train2)\n",
    "pred32=model2_2.predict(X_test2)\n",
    "conf32=confusion_matrix(y_test2, pred32)\n",
    "ac32=accuracy_score(y_test2, pred32)\n",
    "print('Accuracy:',ac32)\n",
    "print('-------------------------------------')\n",
    "print('RandomForestClassifier')\n",
    "print('model2_3')\n",
    "model2_3=RandomForestClassifier()\n",
    "model2_3.fit(X_train2,y_train2)\n",
    "pred42=model2_3.predict(X_test2)\n",
    "conf42=confusion_matrix(y_test2, pred42)\n",
    "ac42=accuracy_score(y_test2, pred42)\n",
    "print('Accuracy:',ac42)\n",
    "print('-------------------------------------')\n",
    "print('RandomForestClassifier balanced')\n",
    "print('model2_4')\n",
    "model2_4=RandomForestClassifier(class_weight='balanced')\n",
    "model2_4.fit(X_train2,y_train2)\n",
    "pred4_22=model1_4.predict(X_test2)\n",
    "conf4_22=confusion_matrix(y_test2, pred4_22)\n",
    "ac4_22=accuracy_score(y_test2, pred4_22)\n",
    "print('Accuracy:',ac4_22)\n",
    "print('-------------------------------------')\n",
    "print('AdaBoostClassifier')\n",
    "print('model2_5')\n",
    "model2_5=AdaBoostClassifier()\n",
    "model2_5.fit(X_train2,y_train2)\n",
    "pred52=model2_5.predict(X_test2)\n",
    "conf52=confusion_matrix(y_test2, pred52)\n",
    "ac52=accuracy_score(y_test2, pred52)\n",
    "print('Accuracy:',ac52)\n",
    "print('-------------------------------------')\n",
    "print('XGBClassifier')\n",
    "print('model2_6')\n",
    "model2_6=xgb.XGBClassifier()\n",
    "model2_6.fit(X_train2,y_train2)\n",
    "pred62=model2_6.predict(X_test2)\n",
    "pred62=pred62.round()\n",
    "conf62=confusion_matrix(y_test2, pred62)\n",
    "ac62=accuracy_score(y_test2, pred62)\n",
    "print('Accuracy:',ac62)\n",
    "print('-------------------------------------')\n",
    "print('KNeighborsClassifier distance')\n",
    "print('model2_7')\n",
    "model2_7=KNeighborsClassifier(n_neighbors=4, weights='distance')\n",
    "model2_7.fit(X_train2,y_train2)\n",
    "pred72=model2_7.predict(X_test2)\n",
    "conf72=confusion_matrix(y_test2, pred72)\n",
    "ac72=accuracy_score(y_test2, pred72)\n",
    "print('Accuracy:',ac72)\n",
    "print('-------------------------------------')\n",
    "print('GaussianNB')\n",
    "print('model2_8')\n",
    "model2_8=GaussianNB()\n",
    "model2_8.fit(X_train2,y_train2)\n",
    "pred82=model2_8.predict(X_test2)\n",
    "conf82=confusion_matrix(y_test2, pred82)\n",
    "ac82=accuracy_score(y_test2, pred82)\n",
    "print('Accuracy:',ac82)"
   ]
  },
  {
   "cell_type": "code",
   "execution_count": 36,
   "metadata": {},
   "outputs": [
    {
     "data": {
      "text/plain": [
       "AdaBoostClassifier(algorithm='SAMME.R', base_estimator=None, learning_rate=1.0,\n",
       "                   n_estimators=50, random_state=None)"
      ]
     },
     "execution_count": 36,
     "metadata": {},
     "output_type": "execute_result"
    }
   ],
   "source": [
    "import operator\n",
    "stats = {model2_1:ac12, model2_2:ac32, model2_3: ac42,model2_4:ac4_22,model2_5:ac52,model2_6:ac62,model2_7:ac72,model2_8:ac82}\n",
    "bestmodel2=max(stats.items(), key=operator.itemgetter(1))[0]\n",
    "bestmodel2"
   ]
  },
  {
   "cell_type": "markdown",
   "metadata": {},
   "source": [
    "## Confrontation"
   ]
  },
  {
   "cell_type": "code",
   "execution_count": 37,
   "metadata": {},
   "outputs": [],
   "source": [
    "clay=0\n",
    "grass=0\n",
    "if surface=='clay':\n",
    "    clay=1\n",
    "elif surface=='grass':\n",
    "    grass=1"
   ]
  },
  {
   "cell_type": "code",
   "execution_count": 38,
   "metadata": {},
   "outputs": [],
   "source": [
    "Players=df0[['player_id',\"player_name\",\"player_hand\"]]\n",
    "Players=Players.drop_duplicates()\n",
    "Id1=Players[Players[\"player_name\"]==player1]['player_id']\n",
    "Id1=int(Id1)\n",
    "hand1=Players[Players[\"player_name\"]==player1]['player_hand']\n",
    "hand1=int(hand1)\n",
    "Id2=Players[Players[\"player_name\"]==player2]['player_id']\n",
    "Id2=int(Id2)\n",
    "hand2=Players[Players[\"player_name\"]==player2]['player_hand']\n",
    "hand2=int(hand1)"
   ]
  },
  {
   "cell_type": "code",
   "execution_count": 39,
   "metadata": {},
   "outputs": [],
   "source": [
    "data = {'player_name': [player1, player2],\n",
    "'player_id': [Id1, Id2],\n",
    "'player_age': [player_age1,player_age2],\n",
    "'player_hand': [hand1,hand2],\n",
    "'player_rank':[player_rank1,player_rank2]}\n",
    "player_all= pd.DataFrame(data)"
   ]
  },
  {
   "cell_type": "code",
   "execution_count": 40,
   "metadata": {},
   "outputs": [],
   "source": [
    "data2 = {'opp_hand': [player_all.iloc[1,3],player_all.iloc[0,3]],\n",
    "'player_rank_diff': [player_all.iloc[0,4]-player_all.iloc[1,4],player_all.iloc[1,4]-player_all.iloc[0,4]],\n",
    "'player_age_diff': [player_all.iloc[0,2]-player_all.iloc[1,2],player_all.iloc[1,2]-player_all.iloc[0,2]],\n",
    "'surface_Clay': [clay,clay],\n",
    "'surface_Grass':[grass,grass]}\n",
    "player_match=pd.DataFrame(data2)"
   ]
  },
  {
   "cell_type": "markdown",
   "metadata": {},
   "source": [
    "## Model player 1"
   ]
  },
  {
   "cell_type": "code",
   "execution_count": 41,
   "metadata": {},
   "outputs": [
    {
     "data": {
      "text/plain": [
       "array([4], dtype=int64)"
      ]
     },
     "execution_count": 41,
     "metadata": {},
     "output_type": "execute_result"
    }
   ],
   "source": [
    "K1=[list(player_match.iloc[0])]\n",
    "np.array(K1).reshape((1,-1))\n",
    "predt1=bestmodel1.predict(pd.DataFrame(K1, columns=X_train.columns))\n",
    "predt1"
   ]
  },
  {
   "cell_type": "markdown",
   "metadata": {},
   "source": [
    "## Model player 2"
   ]
  },
  {
   "cell_type": "code",
   "execution_count": 42,
   "metadata": {},
   "outputs": [
    {
     "data": {
      "text/plain": [
       "array([3], dtype=int64)"
      ]
     },
     "execution_count": 42,
     "metadata": {},
     "output_type": "execute_result"
    }
   ],
   "source": [
    "K2=[list(player_match.iloc[1])]\n",
    "np.array(K2).reshape((1,-1))\n",
    "predt2=bestmodel2.predict(pd.DataFrame(K2, columns=X_train.columns))\n",
    "predt2"
   ]
  },
  {
   "cell_type": "code",
   "execution_count": 43,
   "metadata": {},
   "outputs": [],
   "source": [
    "binsh={0:(0, 100),1:(100,115),2:(115,130),3:(130,150),4:(150,175),5:(175,200),6:(200,3000)}\n",
    "if setmax==5:\n",
    "    binsh={0:(0, 100),1:(100,115),2:(115,130),3:(130,150),4:(150,175),5:(175,200),6:(200,3000)}\n",
    "else:\n",
    "    binsh={0:(0, 60),1:(60,70),2:(70,80),3:(80,100),4:(100,120),5:(120,150),6:(150,3000)}"
   ]
  },
  {
   "cell_type": "code",
   "execution_count": 44,
   "metadata": {},
   "outputs": [],
   "source": [
    "F1=binsh.get(int(predt1), \"none\")\n",
    "F2=binsh.get(int(predt2), \"none\")"
   ]
  },
  {
   "cell_type": "code",
   "execution_count": 45,
   "metadata": {},
   "outputs": [
    {
     "data": {
      "text/plain": [
       "(130, 175)"
      ]
     },
     "execution_count": 45,
     "metadata": {},
     "output_type": "execute_result"
    }
   ],
   "source": [
    "if F1==F2:\n",
    "    Rslt=F1\n",
    "else:\n",
    "    Rslt=(min(F1[0],F2[0]),max(F1[1],F2[1]))\n",
    "Rslt"
   ]
  },
  {
   "cell_type": "code",
   "execution_count": 46,
   "metadata": {},
   "outputs": [
    {
     "name": "stdout",
     "output_type": "stream",
     "text": [
      "Regarding the previous matchs played by Federico Delbonis and Peter Gojowczyk, the duration of the match will be beetween 130 and 175 minutes.\n"
     ]
    }
   ],
   "source": [
    "print(f\"Regarding the previous matchs played by {player1} and {player2}, the duration of the match will be beetween {Rslt[0]} and {Rslt[1]} minutes.\")"
   ]
  },
  {
   "cell_type": "code",
   "execution_count": null,
   "metadata": {},
   "outputs": [],
   "source": []
  },
  {
   "cell_type": "code",
   "execution_count": null,
   "metadata": {},
   "outputs": [],
   "source": []
  }
 ],
 "metadata": {
  "kernelspec": {
   "display_name": "Python 3",
   "language": "python",
   "name": "python3"
  },
  "language_info": {
   "codemirror_mode": {
    "name": "ipython",
    "version": 3
   },
   "file_extension": ".py",
   "mimetype": "text/x-python",
   "name": "python",
   "nbconvert_exporter": "python",
   "pygments_lexer": "ipython3",
   "version": "3.7.7"
  }
 },
 "nbformat": 4,
 "nbformat_minor": 4
}
